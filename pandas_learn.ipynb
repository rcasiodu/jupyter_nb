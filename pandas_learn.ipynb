{
 "cells": [
  {
   "cell_type": "markdown",
   "metadata": {},
   "source": [
    "# https://github.com/justmarkham\n",
    "http://www.dataschool.io\n",
    "\n",
    "http://pandas.pydata.org/pandas-docs/version/0.20.3/whatsnew.html"
   ]
  },
  {
   "cell_type": "code",
   "execution_count": 53,
   "metadata": {},
   "outputs": [
    {
     "name": "stdout",
     "output_type": "stream",
     "text": [
      "numpy version:   1.12.1\n",
      "pandas version:  0.20.3\n"
     ]
    }
   ],
   "source": [
    "import pandas as pd\n",
    "import tushare as ts\n",
    "import numpy as np\n",
    "\n",
    "print('numpy version:  ', np.__version__)\n",
    "print('pandas version: ', pd.__version__)"
   ]
  },
  {
   "cell_type": "markdown",
   "metadata": {},
   "source": [
    "# How do I select a pandas Series from a DataFrame\n",
    "\n",
    "Read_table is similar to read_csv, the default sep is '\\t' while the default sep is ',' in read_csv.\n",
    "\n",
    "If the colume name incluede space or is the key words of pandas, you should ues stock['volume_name'] "
   ]
  },
  {
   "cell_type": "code",
   "execution_count": 54,
   "metadata": {},
   "outputs": [],
   "source": [
    "# 贵州茅台\n",
    "gzmt = ts.get_hist_data('600519')\n",
    "gzmt.to_csv('600519.csv')"
   ]
  },
  {
   "cell_type": "code",
   "execution_count": 57,
   "metadata": {},
   "outputs": [
    {
     "name": "stdout",
     "output_type": "stream",
     "text": [
      "         date    open    high   close     low    volume  price_change\n",
      "0  2017-12-15  664.00  667.95  653.60  650.78  32255.95        -10.95\n",
      "1  2017-12-14  669.98  671.30  664.68  660.50  31967.94         -3.53\n",
      "2  2017-12-13  654.99  670.00  668.20  650.72  48502.48         16.88\n",
      "3  2017-12-12  658.70  658.77  651.18  651.02  47889.31          0.19\n",
      "4  2017-12-11  631.00  651.95  651.00  631.00  72849.17         23.72\n"
     ]
    },
    {
     "data": {
      "text/plain": [
       "pandas.core.frame.DataFrame"
      ]
     },
     "execution_count": 57,
     "metadata": {},
     "output_type": "execute_result"
    }
   ],
   "source": [
    "stock = pd.read_table('600519.csv',sep=\",\")\n",
    "\n",
    "# delete rows 20:end\n",
    "row_del = np.arange(20,len(stock['volume'])+2)\n",
    "row_list = row_del.tolist()\n",
    "\n",
    "col_del = ['p_change','ma5','ma10','ma20','v_ma5','v_ma10','v_ma20','turnover']\n",
    "stock.drop(row_list, axis=0, inplace=True)\n",
    "stock.drop(col_del, axis=1, inplace=True)\n",
    "\n",
    "print(stock.head())\n",
    "type(stock)"
   ]
  },
  {
   "cell_type": "code",
   "execution_count": 58,
   "metadata": {},
   "outputs": [
    {
     "data": {
      "text/plain": [
       "0      32255.95\n",
       "1      31967.94\n",
       "2      48502.48\n",
       "3      47889.31\n",
       "4      72849.17\n",
       "5      45503.39\n",
       "6      51032.62\n",
       "7      58174.09\n",
       "8      47465.76\n",
       "9      54267.71\n",
       "10     47192.74\n",
       "11     38019.62\n",
       "12     46763.72\n",
       "13     70291.83\n",
       "14     63548.46\n",
       "15     76541.94\n",
       "16    109599.13\n",
       "17    128498.26\n",
       "18     96016.51\n",
       "19     88305.82\n",
       "Name: volume, dtype: float64"
      ]
     },
     "execution_count": 58,
     "metadata": {},
     "output_type": "execute_result"
    }
   ],
   "source": [
    "stock.volume\n",
    "# stock['volume']"
   ]
  },
  {
   "cell_type": "code",
   "execution_count": 59,
   "metadata": {
    "collapsed": true
   },
   "outputs": [],
   "source": [
    "stock['mean'] = (stock['high']+stock['low'])/2.0\n",
    "# add new columns"
   ]
  },
  {
   "cell_type": "markdown",
   "metadata": {},
   "source": [
    "# Why do some pandas commands end with parentheses, and other commands don't?"
   ]
  },
  {
   "cell_type": "code",
   "execution_count": 60,
   "metadata": {},
   "outputs": [
    {
     "name": "stdout",
     "output_type": "stream",
     "text": [
      "(20, 8)\n",
      "date             object\n",
      "open            float64\n",
      "high            float64\n",
      "close           float64\n",
      "low             float64\n",
      "volume          float64\n",
      "price_change    float64\n",
      "mean            float64\n",
      "dtype: object\n",
      "         date    open    high   close     low    volume  price_change     mean\n",
      "0  2017-12-15  664.00  667.95  653.60  650.78  32255.95        -10.95  659.365\n",
      "1  2017-12-14  669.98  671.30  664.68  660.50  31967.94         -3.53  665.900\n",
      "2  2017-12-13  654.99  670.00  668.20  650.72  48502.48         16.88  660.360\n",
      "3  2017-12-12  658.70  658.77  651.18  651.02  47889.31          0.19  654.895\n",
      "4  2017-12-11  631.00  651.95  651.00  631.00  72849.17         23.72  641.475\n",
      "             open        high       close         low         volume  \\\n",
      "count   20.000000   20.000000   20.000000   20.000000      20.000000   \n",
      "mean   644.585500  654.248000  643.075500  634.158500   62734.322500   \n",
      "std     19.019883   18.707563   18.594124   16.912208   25954.243261   \n",
      "min    615.420000  624.990000  616.690000  613.010000   31967.940000   \n",
      "25%    631.375000  643.700000  629.290000  620.097500   47085.485000   \n",
      "50%    636.955000  648.680000  638.075000  630.175000   52650.165000   \n",
      "75%    660.025000  668.462500  651.785000  650.735000   73772.362500   \n",
      "max    677.000000  688.800000  679.270000  662.020000  128498.260000   \n",
      "\n",
      "       price_change        mean  \n",
      "count     20.000000   20.000000  \n",
      "mean      -1.761000  644.203250  \n",
      "std       13.680328   17.483391  \n",
      "min      -26.380000  620.125000  \n",
      "25%       -8.747500  631.640000  \n",
      "50%       -5.980000  638.437500  \n",
      "75%        2.760000  659.613750  \n",
      "max       26.920000  675.410000  \n",
      "              date\n",
      "count           20\n",
      "unique          20\n",
      "top     2017-11-24\n",
      "freq             1\n"
     ]
    }
   ],
   "source": [
    "print((stock.shape))\n",
    "print(stock.dtypes)\n",
    "print(stock.head())\n",
    "print(stock.describe())\n",
    "print(stock.describe(include=['object']))"
   ]
  },
  {
   "cell_type": "markdown",
   "metadata": {},
   "source": [
    "# How do I rename columns in a pandas DataFrame?\n",
    "\n",
    "```python\n",
    "DataFrame.rename(columns = {'Old':'New'})\n",
    "new_columns = ['cols1', 'cols2,...]\n",
    "DataFrame.columns = new_columns\n",
    "\n",
    "data = pd.read_table(file/url,sep=\",\", header=0, names = new_colums)\n",
    "```"
   ]
  },
  {
   "cell_type": "code",
   "execution_count": 61,
   "metadata": {},
   "outputs": [
    {
     "data": {
      "text/plain": [
       "Index(['date', 'open', 'high', 'close', 'low', 'volume', 'price_change',\n",
       "       'mean'],\n",
       "      dtype='object')"
      ]
     },
     "execution_count": 61,
     "metadata": {},
     "output_type": "execute_result"
    }
   ],
   "source": [
    "stock.columns"
   ]
  },
  {
   "cell_type": "code",
   "execution_count": 62,
   "metadata": {},
   "outputs": [
    {
     "data": {
      "text/plain": [
       "Index(['date', 'open', 'high', 'close', 'low', 'volume', 'price change',\n",
       "       'mean'],\n",
       "      dtype='object')"
      ]
     },
     "execution_count": 62,
     "metadata": {},
     "output_type": "execute_result"
    }
   ],
   "source": [
    "stock.rename(columns = {'price_change':'price change'}, inplace=True)\n",
    "stock.columns"
   ]
  },
  {
   "cell_type": "code",
   "execution_count": 64,
   "metadata": {},
   "outputs": [
    {
     "data": {
      "text/plain": [
       "Index(['Data', 'Open', 'High', 'Close', 'Low', 'Volume', 'Price change',\n",
       "       'Mean'],\n",
       "      dtype='object')"
      ]
     },
     "execution_count": 64,
     "metadata": {},
     "output_type": "execute_result"
    }
   ],
   "source": [
    "stock_cols = ['Date', 'Open', 'High', 'Close', 'Low', 'Volume', 'Price change', 'Mean']\n",
    "stock.columns = stock_cols\n",
    "stock.columns"
   ]
  },
  {
   "cell_type": "code",
   "execution_count": 96,
   "metadata": {},
   "outputs": [
    {
     "data": {
      "text/plain": [
       "Index(['Date', 'Open', 'High', 'Close', 'Low', 'Volume', 'Price_change',\n",
       "       'P_change', 'Ma5', 'Ma10', 'Ma20', 'V_ma5', 'V_ma10', 'V_ma20',\n",
       "       'Turnover'],\n",
       "      dtype='object')"
      ]
     },
     "execution_count": 96,
     "metadata": {},
     "output_type": "execute_result"
    }
   ],
   "source": [
    "stock_cols = ['Date', 'Open', 'High', 'Close', 'Low', 'Volume', 'Price change', 'P change','Ma5','Ma10','Ma20','V ma5','V ma10','V ma20','Turnover']\n",
    "stock = pd.read_table('600519.csv',sep=\",\", header=0, names = stock_cols)\n",
    "#print(stock.head())\n",
    "#stock.columns\n",
    "stock.columns = stock.columns.str.replace(' ','_')\n",
    "stock.columns"
   ]
  },
  {
   "cell_type": "markdown",
   "metadata": {},
   "source": [
    "# How do I remove columns from a pandas DataFrame?\n",
    "\n",
    "```python\n",
    "# drop cols\n",
    "DataFrame.drop(['cols1','cols2', ...], axis=1, inplace=True)\n",
    "# drop rows\n",
    "DataFrame.drop([1,2, ...], axis=0, inplace=True)\n",
    "```"
   ]
  },
  {
   "cell_type": "code",
   "execution_count": 97,
   "metadata": {
    "scrolled": true
   },
   "outputs": [
    {
     "name": "stdout",
     "output_type": "stream",
     "text": [
      "Before Drop:  (733, 15)\n",
      "After Drop:  (731, 13)\n"
     ]
    },
    {
     "data": {
      "text/html": [
       "<div>\n",
       "<style>\n",
       "    .dataframe thead tr:only-child th {\n",
       "        text-align: right;\n",
       "    }\n",
       "\n",
       "    .dataframe thead th {\n",
       "        text-align: left;\n",
       "    }\n",
       "\n",
       "    .dataframe tbody tr th {\n",
       "        vertical-align: top;\n",
       "    }\n",
       "</style>\n",
       "<table border=\"1\" class=\"dataframe\">\n",
       "  <thead>\n",
       "    <tr style=\"text-align: right;\">\n",
       "      <th></th>\n",
       "      <th>Date</th>\n",
       "      <th>Open</th>\n",
       "      <th>High</th>\n",
       "      <th>Close</th>\n",
       "      <th>Low</th>\n",
       "      <th>Volume</th>\n",
       "      <th>Price_change</th>\n",
       "      <th>Ma5</th>\n",
       "      <th>Ma10</th>\n",
       "      <th>Ma20</th>\n",
       "      <th>V_ma5</th>\n",
       "      <th>V_ma10</th>\n",
       "      <th>V_ma20</th>\n",
       "    </tr>\n",
       "  </thead>\n",
       "  <tbody>\n",
       "    <tr>\n",
       "      <th>2</th>\n",
       "      <td>2017-12-13</td>\n",
       "      <td>654.99</td>\n",
       "      <td>670.00</td>\n",
       "      <td>668.20</td>\n",
       "      <td>650.72</td>\n",
       "      <td>48502.48</td>\n",
       "      <td>16.88</td>\n",
       "      <td>642.846</td>\n",
       "      <td>636.416</td>\n",
       "      <td>647.612</td>\n",
       "      <td>53155.39</td>\n",
       "      <td>51089.69</td>\n",
       "      <td>68752.01</td>\n",
       "    </tr>\n",
       "    <tr>\n",
       "      <th>3</th>\n",
       "      <td>2017-12-12</td>\n",
       "      <td>658.70</td>\n",
       "      <td>658.77</td>\n",
       "      <td>651.18</td>\n",
       "      <td>651.02</td>\n",
       "      <td>47889.31</td>\n",
       "      <td>0.19</td>\n",
       "      <td>634.276</td>\n",
       "      <td>633.416</td>\n",
       "      <td>648.601</td>\n",
       "      <td>55089.72</td>\n",
       "      <td>50915.81</td>\n",
       "      <td>68578.70</td>\n",
       "    </tr>\n",
       "    <tr>\n",
       "      <th>4</th>\n",
       "      <td>2017-12-11</td>\n",
       "      <td>631.00</td>\n",
       "      <td>651.95</td>\n",
       "      <td>651.00</td>\n",
       "      <td>631.00</td>\n",
       "      <td>72849.17</td>\n",
       "      <td>23.72</td>\n",
       "      <td>630.630</td>\n",
       "      <td>633.119</td>\n",
       "      <td>649.985</td>\n",
       "      <td>55005.01</td>\n",
       "      <td>53156.06</td>\n",
       "      <td>68502.57</td>\n",
       "    </tr>\n",
       "    <tr>\n",
       "      <th>5</th>\n",
       "      <td>2017-12-08</td>\n",
       "      <td>615.42</td>\n",
       "      <td>628.85</td>\n",
       "      <td>627.16</td>\n",
       "      <td>615.42</td>\n",
       "      <td>45503.39</td>\n",
       "      <td>10.47</td>\n",
       "      <td>628.020</td>\n",
       "      <td>630.222</td>\n",
       "      <td>651.829</td>\n",
       "      <td>51288.71</td>\n",
       "      <td>52225.99</td>\n",
       "      <td>67353.60</td>\n",
       "    </tr>\n",
       "    <tr>\n",
       "      <th>6</th>\n",
       "      <td>2017-12-07</td>\n",
       "      <td>624.95</td>\n",
       "      <td>624.99</td>\n",
       "      <td>616.69</td>\n",
       "      <td>615.26</td>\n",
       "      <td>51032.62</td>\n",
       "      <td>-8.32</td>\n",
       "      <td>627.124</td>\n",
       "      <td>630.506</td>\n",
       "      <td>654.372</td>\n",
       "      <td>51626.58</td>\n",
       "      <td>55329.85</td>\n",
       "      <td>68782.36</td>\n",
       "    </tr>\n",
       "  </tbody>\n",
       "</table>\n",
       "</div>"
      ],
      "text/plain": [
       "         Date    Open    High   Close     Low    Volume  Price_change  \\\n",
       "2  2017-12-13  654.99  670.00  668.20  650.72  48502.48         16.88   \n",
       "3  2017-12-12  658.70  658.77  651.18  651.02  47889.31          0.19   \n",
       "4  2017-12-11  631.00  651.95  651.00  631.00  72849.17         23.72   \n",
       "5  2017-12-08  615.42  628.85  627.16  615.42  45503.39         10.47   \n",
       "6  2017-12-07  624.95  624.99  616.69  615.26  51032.62         -8.32   \n",
       "\n",
       "       Ma5     Ma10     Ma20     V_ma5    V_ma10    V_ma20  \n",
       "2  642.846  636.416  647.612  53155.39  51089.69  68752.01  \n",
       "3  634.276  633.416  648.601  55089.72  50915.81  68578.70  \n",
       "4  630.630  633.119  649.985  55005.01  53156.06  68502.57  \n",
       "5  628.020  630.222  651.829  51288.71  52225.99  67353.60  \n",
       "6  627.124  630.506  654.372  51626.58  55329.85  68782.36  "
      ]
     },
     "execution_count": 97,
     "metadata": {},
     "output_type": "execute_result"
    }
   ],
   "source": [
    "print(\"Before Drop: \", stock.shape)\n",
    "stock.drop(['Turnover','P_change'], axis=1, inplace=True)\n",
    "stock.drop([0, 1], axis=0, inplace=True)\n",
    "print(\"After Drop: \", stock.shape)\n",
    "stock.head()"
   ]
  },
  {
   "cell_type": "markdown",
   "metadata": {},
   "source": [
    "# How do I sort a pandas DataFrame or Series?\n",
    "\n",
    "## notice the two methods don't change the DataFrame\n",
    "``` python\n",
    "# return pd.Series\n",
    "DataFrmae.cols_name.sort_values(ascending=False)\n",
    "DataFrmae['cols_name'].sort_values(ascending=False)\n",
    "# return pd.DataFrame\n",
    "# you can sort with two columns\n",
    "DataFrame.sort_values('cols_name', ascending = True)\n",
    "DataFrame.sort_values(['cols_name1', 'cols_name2'])\n",
    "```"
   ]
  },
  {
   "cell_type": "code",
   "execution_count": 98,
   "metadata": {},
   "outputs": [
    {
     "data": {
      "text/html": [
       "<div>\n",
       "<style>\n",
       "    .dataframe thead tr:only-child th {\n",
       "        text-align: right;\n",
       "    }\n",
       "\n",
       "    .dataframe thead th {\n",
       "        text-align: left;\n",
       "    }\n",
       "\n",
       "    .dataframe tbody tr th {\n",
       "        vertical-align: top;\n",
       "    }\n",
       "</style>\n",
       "<table border=\"1\" class=\"dataframe\">\n",
       "  <thead>\n",
       "    <tr style=\"text-align: right;\">\n",
       "      <th></th>\n",
       "      <th>Date</th>\n",
       "      <th>Open</th>\n",
       "      <th>High</th>\n",
       "      <th>Close</th>\n",
       "      <th>Low</th>\n",
       "      <th>Volume</th>\n",
       "      <th>Price_change</th>\n",
       "    </tr>\n",
       "  </thead>\n",
       "  <tbody>\n",
       "    <tr>\n",
       "      <th>2</th>\n",
       "      <td>2017-12-13</td>\n",
       "      <td>654.99</td>\n",
       "      <td>670.00</td>\n",
       "      <td>668.20</td>\n",
       "      <td>650.72</td>\n",
       "      <td>48502.48</td>\n",
       "      <td>16.88</td>\n",
       "    </tr>\n",
       "    <tr>\n",
       "      <th>3</th>\n",
       "      <td>2017-12-12</td>\n",
       "      <td>658.70</td>\n",
       "      <td>658.77</td>\n",
       "      <td>651.18</td>\n",
       "      <td>651.02</td>\n",
       "      <td>47889.31</td>\n",
       "      <td>0.19</td>\n",
       "    </tr>\n",
       "    <tr>\n",
       "      <th>4</th>\n",
       "      <td>2017-12-11</td>\n",
       "      <td>631.00</td>\n",
       "      <td>651.95</td>\n",
       "      <td>651.00</td>\n",
       "      <td>631.00</td>\n",
       "      <td>72849.17</td>\n",
       "      <td>23.72</td>\n",
       "    </tr>\n",
       "    <tr>\n",
       "      <th>5</th>\n",
       "      <td>2017-12-08</td>\n",
       "      <td>615.42</td>\n",
       "      <td>628.85</td>\n",
       "      <td>627.16</td>\n",
       "      <td>615.42</td>\n",
       "      <td>45503.39</td>\n",
       "      <td>10.47</td>\n",
       "    </tr>\n",
       "    <tr>\n",
       "      <th>6</th>\n",
       "      <td>2017-12-07</td>\n",
       "      <td>624.95</td>\n",
       "      <td>624.99</td>\n",
       "      <td>616.69</td>\n",
       "      <td>615.26</td>\n",
       "      <td>51032.62</td>\n",
       "      <td>-8.32</td>\n",
       "    </tr>\n",
       "    <tr>\n",
       "      <th>7</th>\n",
       "      <td>2017-12-06</td>\n",
       "      <td>631.50</td>\n",
       "      <td>644.10</td>\n",
       "      <td>625.35</td>\n",
       "      <td>620.00</td>\n",
       "      <td>58174.09</td>\n",
       "      <td>-7.61</td>\n",
       "    </tr>\n",
       "    <tr>\n",
       "      <th>8</th>\n",
       "      <td>2017-12-05</td>\n",
       "      <td>634.00</td>\n",
       "      <td>647.40</td>\n",
       "      <td>632.95</td>\n",
       "      <td>630.13</td>\n",
       "      <td>47465.76</td>\n",
       "      <td>-4.84</td>\n",
       "    </tr>\n",
       "    <tr>\n",
       "      <th>9</th>\n",
       "      <td>2017-12-04</td>\n",
       "      <td>623.95</td>\n",
       "      <td>644.10</td>\n",
       "      <td>637.95</td>\n",
       "      <td>616.72</td>\n",
       "      <td>54267.71</td>\n",
       "      <td>15.60</td>\n",
       "    </tr>\n",
       "    <tr>\n",
       "      <th>10</th>\n",
       "      <td>2017-12-01</td>\n",
       "      <td>638.01</td>\n",
       "      <td>638.99</td>\n",
       "      <td>622.68</td>\n",
       "      <td>620.13</td>\n",
       "      <td>47192.74</td>\n",
       "      <td>-8.32</td>\n",
       "    </tr>\n",
       "    <tr>\n",
       "      <th>11</th>\n",
       "      <td>2017-11-30</td>\n",
       "      <td>635.51</td>\n",
       "      <td>648.48</td>\n",
       "      <td>631.00</td>\n",
       "      <td>626.00</td>\n",
       "      <td>38019.62</td>\n",
       "      <td>-7.12</td>\n",
       "    </tr>\n",
       "    <tr>\n",
       "      <th>12</th>\n",
       "      <td>2017-11-29</td>\n",
       "      <td>649.94</td>\n",
       "      <td>651.97</td>\n",
       "      <td>638.20</td>\n",
       "      <td>634.01</td>\n",
       "      <td>46763.72</td>\n",
       "      <td>-10.03</td>\n",
       "    </tr>\n",
       "    <tr>\n",
       "      <th>13</th>\n",
       "      <td>2017-11-28</td>\n",
       "      <td>625.06</td>\n",
       "      <td>648.88</td>\n",
       "      <td>648.21</td>\n",
       "      <td>624.00</td>\n",
       "      <td>70291.83</td>\n",
       "      <td>26.92</td>\n",
       "    </tr>\n",
       "    <tr>\n",
       "      <th>14</th>\n",
       "      <td>2017-11-27</td>\n",
       "      <td>634.00</td>\n",
       "      <td>636.33</td>\n",
       "      <td>622.03</td>\n",
       "      <td>613.01</td>\n",
       "      <td>63548.46</td>\n",
       "      <td>-8.01</td>\n",
       "    </tr>\n",
       "    <tr>\n",
       "      <th>15</th>\n",
       "      <td>2017-11-24</td>\n",
       "      <td>635.90</td>\n",
       "      <td>642.50</td>\n",
       "      <td>630.00</td>\n",
       "      <td>622.23</td>\n",
       "      <td>76541.94</td>\n",
       "      <td>-3.73</td>\n",
       "    </tr>\n",
       "    <tr>\n",
       "      <th>16</th>\n",
       "      <td>2017-11-23</td>\n",
       "      <td>642.00</td>\n",
       "      <td>646.00</td>\n",
       "      <td>633.49</td>\n",
       "      <td>630.22</td>\n",
       "      <td>109599.13</td>\n",
       "      <td>-17.03</td>\n",
       "    </tr>\n",
       "    <tr>\n",
       "      <th>17</th>\n",
       "      <td>2017-11-22</td>\n",
       "      <td>677.00</td>\n",
       "      <td>688.00</td>\n",
       "      <td>650.87</td>\n",
       "      <td>650.00</td>\n",
       "      <td>128498.26</td>\n",
       "      <td>-26.38</td>\n",
       "    </tr>\n",
       "    <tr>\n",
       "      <th>18</th>\n",
       "      <td>2017-11-21</td>\n",
       "      <td>669.00</td>\n",
       "      <td>688.80</td>\n",
       "      <td>677.00</td>\n",
       "      <td>662.02</td>\n",
       "      <td>96016.51</td>\n",
       "      <td>-2.15</td>\n",
       "    </tr>\n",
       "    <tr>\n",
       "      <th>19</th>\n",
       "      <td>2017-11-20</td>\n",
       "      <td>676.80</td>\n",
       "      <td>685.60</td>\n",
       "      <td>679.27</td>\n",
       "      <td>660.00</td>\n",
       "      <td>88305.82</td>\n",
       "      <td>-10.98</td>\n",
       "    </tr>\n",
       "    <tr>\n",
       "      <th>731</th>\n",
       "      <td>2014-12-18</td>\n",
       "      <td>179.69</td>\n",
       "      <td>182.20</td>\n",
       "      <td>179.34</td>\n",
       "      <td>179.00</td>\n",
       "      <td>38567.50</td>\n",
       "      <td>0.27</td>\n",
       "    </tr>\n",
       "    <tr>\n",
       "      <th>732</th>\n",
       "      <td>2014-12-17</td>\n",
       "      <td>179.99</td>\n",
       "      <td>181.45</td>\n",
       "      <td>179.07</td>\n",
       "      <td>177.80</td>\n",
       "      <td>60020.47</td>\n",
       "      <td>-1.56</td>\n",
       "    </tr>\n",
       "  </tbody>\n",
       "</table>\n",
       "</div>"
      ],
      "text/plain": [
       "           Date    Open    High   Close     Low     Volume  Price_change\n",
       "2    2017-12-13  654.99  670.00  668.20  650.72   48502.48         16.88\n",
       "3    2017-12-12  658.70  658.77  651.18  651.02   47889.31          0.19\n",
       "4    2017-12-11  631.00  651.95  651.00  631.00   72849.17         23.72\n",
       "5    2017-12-08  615.42  628.85  627.16  615.42   45503.39         10.47\n",
       "6    2017-12-07  624.95  624.99  616.69  615.26   51032.62         -8.32\n",
       "7    2017-12-06  631.50  644.10  625.35  620.00   58174.09         -7.61\n",
       "8    2017-12-05  634.00  647.40  632.95  630.13   47465.76         -4.84\n",
       "9    2017-12-04  623.95  644.10  637.95  616.72   54267.71         15.60\n",
       "10   2017-12-01  638.01  638.99  622.68  620.13   47192.74         -8.32\n",
       "11   2017-11-30  635.51  648.48  631.00  626.00   38019.62         -7.12\n",
       "12   2017-11-29  649.94  651.97  638.20  634.01   46763.72        -10.03\n",
       "13   2017-11-28  625.06  648.88  648.21  624.00   70291.83         26.92\n",
       "14   2017-11-27  634.00  636.33  622.03  613.01   63548.46         -8.01\n",
       "15   2017-11-24  635.90  642.50  630.00  622.23   76541.94         -3.73\n",
       "16   2017-11-23  642.00  646.00  633.49  630.22  109599.13        -17.03\n",
       "17   2017-11-22  677.00  688.00  650.87  650.00  128498.26        -26.38\n",
       "18   2017-11-21  669.00  688.80  677.00  662.02   96016.51         -2.15\n",
       "19   2017-11-20  676.80  685.60  679.27  660.00   88305.82        -10.98\n",
       "731  2014-12-18  179.69  182.20  179.34  179.00   38567.50          0.27\n",
       "732  2014-12-17  179.99  181.45  179.07  177.80   60020.47         -1.56"
      ]
     },
     "execution_count": 98,
     "metadata": {},
     "output_type": "execute_result"
    }
   ],
   "source": [
    "row_del = np.arange(20,len(stock['Volume']))\n",
    "row_list = row_del.tolist()\n",
    "\n",
    "col_del = ['Ma5','Ma10','Ma20','V_ma5','V_ma10','V_ma20']\n",
    "stock.drop(row_list, axis=0, inplace=True)\n",
    "stock.drop(col_del, axis=1, inplace=True)\n",
    "stock"
   ]
  },
  {
   "cell_type": "code",
   "execution_count": 70,
   "metadata": {},
   "outputs": [
    {
     "data": {
      "text/plain": [
       "17     128498.26\n",
       "16     109599.13\n",
       "18      96016.51\n",
       "19      88305.82\n",
       "15      76541.94\n",
       "4       72849.17\n",
       "13      70291.83\n",
       "14      63548.46\n",
       "732     60020.47\n",
       "7       58174.09\n",
       "9       54267.71\n",
       "6       51032.62\n",
       "2       48502.48\n",
       "3       47889.31\n",
       "8       47465.76\n",
       "10      47192.74\n",
       "12      46763.72\n",
       "5       45503.39\n",
       "731     38567.50\n",
       "11      38019.62\n",
       "Name: Volume, dtype: float64"
      ]
     },
     "execution_count": 70,
     "metadata": {},
     "output_type": "execute_result"
    }
   ],
   "source": [
    "# return pd.Series\n",
    "stock['Volume'].sort_values(ascending=False)"
   ]
  },
  {
   "cell_type": "code",
   "execution_count": 71,
   "metadata": {
    "scrolled": false
   },
   "outputs": [
    {
     "data": {
      "text/html": [
       "<div>\n",
       "<style>\n",
       "    .dataframe thead tr:only-child th {\n",
       "        text-align: right;\n",
       "    }\n",
       "\n",
       "    .dataframe thead th {\n",
       "        text-align: left;\n",
       "    }\n",
       "\n",
       "    .dataframe tbody tr th {\n",
       "        vertical-align: top;\n",
       "    }\n",
       "</style>\n",
       "<table border=\"1\" class=\"dataframe\">\n",
       "  <thead>\n",
       "    <tr style=\"text-align: right;\">\n",
       "      <th></th>\n",
       "      <th>Data</th>\n",
       "      <th>Open</th>\n",
       "      <th>High</th>\n",
       "      <th>Close</th>\n",
       "      <th>Low</th>\n",
       "      <th>Volume</th>\n",
       "      <th>Price_change</th>\n",
       "    </tr>\n",
       "  </thead>\n",
       "  <tbody>\n",
       "    <tr>\n",
       "      <th>11</th>\n",
       "      <td>2017-11-30</td>\n",
       "      <td>635.51</td>\n",
       "      <td>648.48</td>\n",
       "      <td>631.00</td>\n",
       "      <td>626.00</td>\n",
       "      <td>38019.62</td>\n",
       "      <td>-7.12</td>\n",
       "    </tr>\n",
       "    <tr>\n",
       "      <th>731</th>\n",
       "      <td>2014-12-18</td>\n",
       "      <td>179.69</td>\n",
       "      <td>182.20</td>\n",
       "      <td>179.34</td>\n",
       "      <td>179.00</td>\n",
       "      <td>38567.50</td>\n",
       "      <td>0.27</td>\n",
       "    </tr>\n",
       "    <tr>\n",
       "      <th>5</th>\n",
       "      <td>2017-12-08</td>\n",
       "      <td>615.42</td>\n",
       "      <td>628.85</td>\n",
       "      <td>627.16</td>\n",
       "      <td>615.42</td>\n",
       "      <td>45503.39</td>\n",
       "      <td>10.47</td>\n",
       "    </tr>\n",
       "    <tr>\n",
       "      <th>12</th>\n",
       "      <td>2017-11-29</td>\n",
       "      <td>649.94</td>\n",
       "      <td>651.97</td>\n",
       "      <td>638.20</td>\n",
       "      <td>634.01</td>\n",
       "      <td>46763.72</td>\n",
       "      <td>-10.03</td>\n",
       "    </tr>\n",
       "    <tr>\n",
       "      <th>10</th>\n",
       "      <td>2017-12-01</td>\n",
       "      <td>638.01</td>\n",
       "      <td>638.99</td>\n",
       "      <td>622.68</td>\n",
       "      <td>620.13</td>\n",
       "      <td>47192.74</td>\n",
       "      <td>-8.32</td>\n",
       "    </tr>\n",
       "    <tr>\n",
       "      <th>8</th>\n",
       "      <td>2017-12-05</td>\n",
       "      <td>634.00</td>\n",
       "      <td>647.40</td>\n",
       "      <td>632.95</td>\n",
       "      <td>630.13</td>\n",
       "      <td>47465.76</td>\n",
       "      <td>-4.84</td>\n",
       "    </tr>\n",
       "    <tr>\n",
       "      <th>3</th>\n",
       "      <td>2017-12-12</td>\n",
       "      <td>658.70</td>\n",
       "      <td>658.77</td>\n",
       "      <td>651.18</td>\n",
       "      <td>651.02</td>\n",
       "      <td>47889.31</td>\n",
       "      <td>0.19</td>\n",
       "    </tr>\n",
       "    <tr>\n",
       "      <th>2</th>\n",
       "      <td>2017-12-13</td>\n",
       "      <td>654.99</td>\n",
       "      <td>670.00</td>\n",
       "      <td>668.20</td>\n",
       "      <td>650.72</td>\n",
       "      <td>48502.48</td>\n",
       "      <td>16.88</td>\n",
       "    </tr>\n",
       "    <tr>\n",
       "      <th>6</th>\n",
       "      <td>2017-12-07</td>\n",
       "      <td>624.95</td>\n",
       "      <td>624.99</td>\n",
       "      <td>616.69</td>\n",
       "      <td>615.26</td>\n",
       "      <td>51032.62</td>\n",
       "      <td>-8.32</td>\n",
       "    </tr>\n",
       "    <tr>\n",
       "      <th>9</th>\n",
       "      <td>2017-12-04</td>\n",
       "      <td>623.95</td>\n",
       "      <td>644.10</td>\n",
       "      <td>637.95</td>\n",
       "      <td>616.72</td>\n",
       "      <td>54267.71</td>\n",
       "      <td>15.60</td>\n",
       "    </tr>\n",
       "    <tr>\n",
       "      <th>7</th>\n",
       "      <td>2017-12-06</td>\n",
       "      <td>631.50</td>\n",
       "      <td>644.10</td>\n",
       "      <td>625.35</td>\n",
       "      <td>620.00</td>\n",
       "      <td>58174.09</td>\n",
       "      <td>-7.61</td>\n",
       "    </tr>\n",
       "    <tr>\n",
       "      <th>732</th>\n",
       "      <td>2014-12-17</td>\n",
       "      <td>179.99</td>\n",
       "      <td>181.45</td>\n",
       "      <td>179.07</td>\n",
       "      <td>177.80</td>\n",
       "      <td>60020.47</td>\n",
       "      <td>-1.56</td>\n",
       "    </tr>\n",
       "    <tr>\n",
       "      <th>14</th>\n",
       "      <td>2017-11-27</td>\n",
       "      <td>634.00</td>\n",
       "      <td>636.33</td>\n",
       "      <td>622.03</td>\n",
       "      <td>613.01</td>\n",
       "      <td>63548.46</td>\n",
       "      <td>-8.01</td>\n",
       "    </tr>\n",
       "    <tr>\n",
       "      <th>13</th>\n",
       "      <td>2017-11-28</td>\n",
       "      <td>625.06</td>\n",
       "      <td>648.88</td>\n",
       "      <td>648.21</td>\n",
       "      <td>624.00</td>\n",
       "      <td>70291.83</td>\n",
       "      <td>26.92</td>\n",
       "    </tr>\n",
       "    <tr>\n",
       "      <th>4</th>\n",
       "      <td>2017-12-11</td>\n",
       "      <td>631.00</td>\n",
       "      <td>651.95</td>\n",
       "      <td>651.00</td>\n",
       "      <td>631.00</td>\n",
       "      <td>72849.17</td>\n",
       "      <td>23.72</td>\n",
       "    </tr>\n",
       "    <tr>\n",
       "      <th>15</th>\n",
       "      <td>2017-11-24</td>\n",
       "      <td>635.90</td>\n",
       "      <td>642.50</td>\n",
       "      <td>630.00</td>\n",
       "      <td>622.23</td>\n",
       "      <td>76541.94</td>\n",
       "      <td>-3.73</td>\n",
       "    </tr>\n",
       "    <tr>\n",
       "      <th>19</th>\n",
       "      <td>2017-11-20</td>\n",
       "      <td>676.80</td>\n",
       "      <td>685.60</td>\n",
       "      <td>679.27</td>\n",
       "      <td>660.00</td>\n",
       "      <td>88305.82</td>\n",
       "      <td>-10.98</td>\n",
       "    </tr>\n",
       "    <tr>\n",
       "      <th>18</th>\n",
       "      <td>2017-11-21</td>\n",
       "      <td>669.00</td>\n",
       "      <td>688.80</td>\n",
       "      <td>677.00</td>\n",
       "      <td>662.02</td>\n",
       "      <td>96016.51</td>\n",
       "      <td>-2.15</td>\n",
       "    </tr>\n",
       "    <tr>\n",
       "      <th>16</th>\n",
       "      <td>2017-11-23</td>\n",
       "      <td>642.00</td>\n",
       "      <td>646.00</td>\n",
       "      <td>633.49</td>\n",
       "      <td>630.22</td>\n",
       "      <td>109599.13</td>\n",
       "      <td>-17.03</td>\n",
       "    </tr>\n",
       "    <tr>\n",
       "      <th>17</th>\n",
       "      <td>2017-11-22</td>\n",
       "      <td>677.00</td>\n",
       "      <td>688.00</td>\n",
       "      <td>650.87</td>\n",
       "      <td>650.00</td>\n",
       "      <td>128498.26</td>\n",
       "      <td>-26.38</td>\n",
       "    </tr>\n",
       "  </tbody>\n",
       "</table>\n",
       "</div>"
      ],
      "text/plain": [
       "           Data    Open    High   Close     Low     Volume  Price_change\n",
       "11   2017-11-30  635.51  648.48  631.00  626.00   38019.62         -7.12\n",
       "731  2014-12-18  179.69  182.20  179.34  179.00   38567.50          0.27\n",
       "5    2017-12-08  615.42  628.85  627.16  615.42   45503.39         10.47\n",
       "12   2017-11-29  649.94  651.97  638.20  634.01   46763.72        -10.03\n",
       "10   2017-12-01  638.01  638.99  622.68  620.13   47192.74         -8.32\n",
       "8    2017-12-05  634.00  647.40  632.95  630.13   47465.76         -4.84\n",
       "3    2017-12-12  658.70  658.77  651.18  651.02   47889.31          0.19\n",
       "2    2017-12-13  654.99  670.00  668.20  650.72   48502.48         16.88\n",
       "6    2017-12-07  624.95  624.99  616.69  615.26   51032.62         -8.32\n",
       "9    2017-12-04  623.95  644.10  637.95  616.72   54267.71         15.60\n",
       "7    2017-12-06  631.50  644.10  625.35  620.00   58174.09         -7.61\n",
       "732  2014-12-17  179.99  181.45  179.07  177.80   60020.47         -1.56\n",
       "14   2017-11-27  634.00  636.33  622.03  613.01   63548.46         -8.01\n",
       "13   2017-11-28  625.06  648.88  648.21  624.00   70291.83         26.92\n",
       "4    2017-12-11  631.00  651.95  651.00  631.00   72849.17         23.72\n",
       "15   2017-11-24  635.90  642.50  630.00  622.23   76541.94         -3.73\n",
       "19   2017-11-20  676.80  685.60  679.27  660.00   88305.82        -10.98\n",
       "18   2017-11-21  669.00  688.80  677.00  662.02   96016.51         -2.15\n",
       "16   2017-11-23  642.00  646.00  633.49  630.22  109599.13        -17.03\n",
       "17   2017-11-22  677.00  688.00  650.87  650.00  128498.26        -26.38"
      ]
     },
     "execution_count": 71,
     "metadata": {},
     "output_type": "execute_result"
    }
   ],
   "source": [
    "# return pd.DataFrame\n",
    "stock.sort_values('Volume', ascending = True)"
   ]
  },
  {
   "cell_type": "markdown",
   "metadata": {},
   "source": [
    "# How do I filter rows of a pandas DataFrame by column value?\n",
    "\n",
    "``` python\n",
    "#Use pd.Series to chose the selected rows\n",
    "bool_row = [True, False, ...]\n",
    "is_row = pd.Series(bool_row)\n",
    "DataFrame[is_row]\n",
    "```"
   ]
  },
  {
   "cell_type": "code",
   "execution_count": 128,
   "metadata": {},
   "outputs": [
    {
     "data": {
      "text/html": [
       "<div>\n",
       "<style>\n",
       "    .dataframe thead tr:only-child th {\n",
       "        text-align: right;\n",
       "    }\n",
       "\n",
       "    .dataframe thead th {\n",
       "        text-align: left;\n",
       "    }\n",
       "\n",
       "    .dataframe tbody tr th {\n",
       "        vertical-align: top;\n",
       "    }\n",
       "</style>\n",
       "<table border=\"1\" class=\"dataframe\">\n",
       "  <thead>\n",
       "    <tr style=\"text-align: right;\">\n",
       "      <th></th>\n",
       "      <th>Date</th>\n",
       "      <th>Open</th>\n",
       "      <th>High</th>\n",
       "      <th>Close</th>\n",
       "      <th>Low</th>\n",
       "      <th>Volume</th>\n",
       "      <th>Price_change</th>\n",
       "    </tr>\n",
       "  </thead>\n",
       "  <tbody>\n",
       "    <tr>\n",
       "      <th>0</th>\n",
       "      <td>2017-12-13</td>\n",
       "      <td>654.99</td>\n",
       "      <td>670.00</td>\n",
       "      <td>668.20</td>\n",
       "      <td>650.72</td>\n",
       "      <td>48502.48</td>\n",
       "      <td>16.88</td>\n",
       "    </tr>\n",
       "    <tr>\n",
       "      <th>1</th>\n",
       "      <td>2017-12-12</td>\n",
       "      <td>658.70</td>\n",
       "      <td>658.77</td>\n",
       "      <td>651.18</td>\n",
       "      <td>651.02</td>\n",
       "      <td>47889.31</td>\n",
       "      <td>0.19</td>\n",
       "    </tr>\n",
       "    <tr>\n",
       "      <th>2</th>\n",
       "      <td>2017-12-11</td>\n",
       "      <td>631.00</td>\n",
       "      <td>651.95</td>\n",
       "      <td>651.00</td>\n",
       "      <td>631.00</td>\n",
       "      <td>72849.17</td>\n",
       "      <td>23.72</td>\n",
       "    </tr>\n",
       "    <tr>\n",
       "      <th>5</th>\n",
       "      <td>2017-12-06</td>\n",
       "      <td>631.50</td>\n",
       "      <td>644.10</td>\n",
       "      <td>625.35</td>\n",
       "      <td>620.00</td>\n",
       "      <td>58174.09</td>\n",
       "      <td>-7.61</td>\n",
       "    </tr>\n",
       "    <tr>\n",
       "      <th>6</th>\n",
       "      <td>2017-12-05</td>\n",
       "      <td>634.00</td>\n",
       "      <td>647.40</td>\n",
       "      <td>632.95</td>\n",
       "      <td>630.13</td>\n",
       "      <td>47465.76</td>\n",
       "      <td>-4.84</td>\n",
       "    </tr>\n",
       "    <tr>\n",
       "      <th>8</th>\n",
       "      <td>2017-12-01</td>\n",
       "      <td>638.01</td>\n",
       "      <td>638.99</td>\n",
       "      <td>622.68</td>\n",
       "      <td>620.13</td>\n",
       "      <td>47192.74</td>\n",
       "      <td>-8.32</td>\n",
       "    </tr>\n",
       "    <tr>\n",
       "      <th>9</th>\n",
       "      <td>2017-11-30</td>\n",
       "      <td>635.51</td>\n",
       "      <td>648.48</td>\n",
       "      <td>631.00</td>\n",
       "      <td>626.00</td>\n",
       "      <td>38019.62</td>\n",
       "      <td>-7.12</td>\n",
       "    </tr>\n",
       "    <tr>\n",
       "      <th>10</th>\n",
       "      <td>2017-11-29</td>\n",
       "      <td>649.94</td>\n",
       "      <td>651.97</td>\n",
       "      <td>638.20</td>\n",
       "      <td>634.01</td>\n",
       "      <td>46763.72</td>\n",
       "      <td>-10.03</td>\n",
       "    </tr>\n",
       "    <tr>\n",
       "      <th>12</th>\n",
       "      <td>2017-11-27</td>\n",
       "      <td>634.00</td>\n",
       "      <td>636.33</td>\n",
       "      <td>622.03</td>\n",
       "      <td>613.01</td>\n",
       "      <td>63548.46</td>\n",
       "      <td>-8.01</td>\n",
       "    </tr>\n",
       "    <tr>\n",
       "      <th>13</th>\n",
       "      <td>2017-11-24</td>\n",
       "      <td>635.90</td>\n",
       "      <td>642.50</td>\n",
       "      <td>630.00</td>\n",
       "      <td>622.23</td>\n",
       "      <td>76541.94</td>\n",
       "      <td>-3.73</td>\n",
       "    </tr>\n",
       "    <tr>\n",
       "      <th>14</th>\n",
       "      <td>2017-11-23</td>\n",
       "      <td>642.00</td>\n",
       "      <td>646.00</td>\n",
       "      <td>633.49</td>\n",
       "      <td>630.22</td>\n",
       "      <td>109599.13</td>\n",
       "      <td>-17.03</td>\n",
       "    </tr>\n",
       "    <tr>\n",
       "      <th>15</th>\n",
       "      <td>2017-11-22</td>\n",
       "      <td>677.00</td>\n",
       "      <td>688.00</td>\n",
       "      <td>650.87</td>\n",
       "      <td>650.00</td>\n",
       "      <td>128498.26</td>\n",
       "      <td>-26.38</td>\n",
       "    </tr>\n",
       "    <tr>\n",
       "      <th>16</th>\n",
       "      <td>2017-11-21</td>\n",
       "      <td>669.00</td>\n",
       "      <td>688.80</td>\n",
       "      <td>677.00</td>\n",
       "      <td>662.02</td>\n",
       "      <td>96016.51</td>\n",
       "      <td>-2.15</td>\n",
       "    </tr>\n",
       "    <tr>\n",
       "      <th>17</th>\n",
       "      <td>2017-11-20</td>\n",
       "      <td>676.80</td>\n",
       "      <td>685.60</td>\n",
       "      <td>679.27</td>\n",
       "      <td>660.00</td>\n",
       "      <td>88305.82</td>\n",
       "      <td>-10.98</td>\n",
       "    </tr>\n",
       "  </tbody>\n",
       "</table>\n",
       "</div>"
      ],
      "text/plain": [
       "          Date    Open    High   Close     Low     Volume  Price_change\n",
       "0   2017-12-13  654.99  670.00  668.20  650.72   48502.48         16.88\n",
       "1   2017-12-12  658.70  658.77  651.18  651.02   47889.31          0.19\n",
       "2   2017-12-11  631.00  651.95  651.00  631.00   72849.17         23.72\n",
       "5   2017-12-06  631.50  644.10  625.35  620.00   58174.09         -7.61\n",
       "6   2017-12-05  634.00  647.40  632.95  630.13   47465.76         -4.84\n",
       "8   2017-12-01  638.01  638.99  622.68  620.13   47192.74         -8.32\n",
       "9   2017-11-30  635.51  648.48  631.00  626.00   38019.62         -7.12\n",
       "10  2017-11-29  649.94  651.97  638.20  634.01   46763.72        -10.03\n",
       "12  2017-11-27  634.00  636.33  622.03  613.01   63548.46         -8.01\n",
       "13  2017-11-24  635.90  642.50  630.00  622.23   76541.94         -3.73\n",
       "14  2017-11-23  642.00  646.00  633.49  630.22  109599.13        -17.03\n",
       "15  2017-11-22  677.00  688.00  650.87  650.00  128498.26        -26.38\n",
       "16  2017-11-21  669.00  688.80  677.00  662.02   96016.51         -2.15\n",
       "17  2017-11-20  676.80  685.60  679.27  660.00   88305.82        -10.98"
      ]
     },
     "execution_count": 128,
     "metadata": {},
     "output_type": "execute_result"
    }
   ],
   "source": [
    "#stock.rename(columns={'Data':'Date'},inplace=True)\n",
    "\n",
    "rows, cols = stock.shape\n",
    "stock.reset_index(drop=True, inplace=True)\n",
    "\n",
    "booleans = []\n",
    "for i in stock.Open:\n",
    "    if i>630:\n",
    "        booleans.append(True)\n",
    "    else:\n",
    "        booleans.append(False)\n",
    "#print(booleans[0:5])\n",
    "#len(booleans)\n",
    "\n",
    "open_price_high = pd.Series(booleans) \n",
    "stock[open_price_high]"
   ]
  },
  {
   "cell_type": "code",
   "execution_count": 129,
   "metadata": {},
   "outputs": [
    {
     "data": {
      "text/html": [
       "<div>\n",
       "<style>\n",
       "    .dataframe thead tr:only-child th {\n",
       "        text-align: right;\n",
       "    }\n",
       "\n",
       "    .dataframe thead th {\n",
       "        text-align: left;\n",
       "    }\n",
       "\n",
       "    .dataframe tbody tr th {\n",
       "        vertical-align: top;\n",
       "    }\n",
       "</style>\n",
       "<table border=\"1\" class=\"dataframe\">\n",
       "  <thead>\n",
       "    <tr style=\"text-align: right;\">\n",
       "      <th></th>\n",
       "      <th>Date</th>\n",
       "      <th>Open</th>\n",
       "      <th>High</th>\n",
       "      <th>Close</th>\n",
       "      <th>Low</th>\n",
       "      <th>Volume</th>\n",
       "      <th>Price_change</th>\n",
       "    </tr>\n",
       "  </thead>\n",
       "  <tbody>\n",
       "    <tr>\n",
       "      <th>0</th>\n",
       "      <td>2017-12-13</td>\n",
       "      <td>654.99</td>\n",
       "      <td>670.00</td>\n",
       "      <td>668.20</td>\n",
       "      <td>650.72</td>\n",
       "      <td>48502.48</td>\n",
       "      <td>16.88</td>\n",
       "    </tr>\n",
       "    <tr>\n",
       "      <th>1</th>\n",
       "      <td>2017-12-12</td>\n",
       "      <td>658.70</td>\n",
       "      <td>658.77</td>\n",
       "      <td>651.18</td>\n",
       "      <td>651.02</td>\n",
       "      <td>47889.31</td>\n",
       "      <td>0.19</td>\n",
       "    </tr>\n",
       "    <tr>\n",
       "      <th>2</th>\n",
       "      <td>2017-12-11</td>\n",
       "      <td>631.00</td>\n",
       "      <td>651.95</td>\n",
       "      <td>651.00</td>\n",
       "      <td>631.00</td>\n",
       "      <td>72849.17</td>\n",
       "      <td>23.72</td>\n",
       "    </tr>\n",
       "    <tr>\n",
       "      <th>5</th>\n",
       "      <td>2017-12-06</td>\n",
       "      <td>631.50</td>\n",
       "      <td>644.10</td>\n",
       "      <td>625.35</td>\n",
       "      <td>620.00</td>\n",
       "      <td>58174.09</td>\n",
       "      <td>-7.61</td>\n",
       "    </tr>\n",
       "    <tr>\n",
       "      <th>6</th>\n",
       "      <td>2017-12-05</td>\n",
       "      <td>634.00</td>\n",
       "      <td>647.40</td>\n",
       "      <td>632.95</td>\n",
       "      <td>630.13</td>\n",
       "      <td>47465.76</td>\n",
       "      <td>-4.84</td>\n",
       "    </tr>\n",
       "    <tr>\n",
       "      <th>8</th>\n",
       "      <td>2017-12-01</td>\n",
       "      <td>638.01</td>\n",
       "      <td>638.99</td>\n",
       "      <td>622.68</td>\n",
       "      <td>620.13</td>\n",
       "      <td>47192.74</td>\n",
       "      <td>-8.32</td>\n",
       "    </tr>\n",
       "    <tr>\n",
       "      <th>9</th>\n",
       "      <td>2017-11-30</td>\n",
       "      <td>635.51</td>\n",
       "      <td>648.48</td>\n",
       "      <td>631.00</td>\n",
       "      <td>626.00</td>\n",
       "      <td>38019.62</td>\n",
       "      <td>-7.12</td>\n",
       "    </tr>\n",
       "    <tr>\n",
       "      <th>10</th>\n",
       "      <td>2017-11-29</td>\n",
       "      <td>649.94</td>\n",
       "      <td>651.97</td>\n",
       "      <td>638.20</td>\n",
       "      <td>634.01</td>\n",
       "      <td>46763.72</td>\n",
       "      <td>-10.03</td>\n",
       "    </tr>\n",
       "    <tr>\n",
       "      <th>12</th>\n",
       "      <td>2017-11-27</td>\n",
       "      <td>634.00</td>\n",
       "      <td>636.33</td>\n",
       "      <td>622.03</td>\n",
       "      <td>613.01</td>\n",
       "      <td>63548.46</td>\n",
       "      <td>-8.01</td>\n",
       "    </tr>\n",
       "    <tr>\n",
       "      <th>13</th>\n",
       "      <td>2017-11-24</td>\n",
       "      <td>635.90</td>\n",
       "      <td>642.50</td>\n",
       "      <td>630.00</td>\n",
       "      <td>622.23</td>\n",
       "      <td>76541.94</td>\n",
       "      <td>-3.73</td>\n",
       "    </tr>\n",
       "    <tr>\n",
       "      <th>14</th>\n",
       "      <td>2017-11-23</td>\n",
       "      <td>642.00</td>\n",
       "      <td>646.00</td>\n",
       "      <td>633.49</td>\n",
       "      <td>630.22</td>\n",
       "      <td>109599.13</td>\n",
       "      <td>-17.03</td>\n",
       "    </tr>\n",
       "    <tr>\n",
       "      <th>15</th>\n",
       "      <td>2017-11-22</td>\n",
       "      <td>677.00</td>\n",
       "      <td>688.00</td>\n",
       "      <td>650.87</td>\n",
       "      <td>650.00</td>\n",
       "      <td>128498.26</td>\n",
       "      <td>-26.38</td>\n",
       "    </tr>\n",
       "    <tr>\n",
       "      <th>16</th>\n",
       "      <td>2017-11-21</td>\n",
       "      <td>669.00</td>\n",
       "      <td>688.80</td>\n",
       "      <td>677.00</td>\n",
       "      <td>662.02</td>\n",
       "      <td>96016.51</td>\n",
       "      <td>-2.15</td>\n",
       "    </tr>\n",
       "    <tr>\n",
       "      <th>17</th>\n",
       "      <td>2017-11-20</td>\n",
       "      <td>676.80</td>\n",
       "      <td>685.60</td>\n",
       "      <td>679.27</td>\n",
       "      <td>660.00</td>\n",
       "      <td>88305.82</td>\n",
       "      <td>-10.98</td>\n",
       "    </tr>\n",
       "  </tbody>\n",
       "</table>\n",
       "</div>"
      ],
      "text/plain": [
       "          Date    Open    High   Close     Low     Volume  Price_change\n",
       "0   2017-12-13  654.99  670.00  668.20  650.72   48502.48         16.88\n",
       "1   2017-12-12  658.70  658.77  651.18  651.02   47889.31          0.19\n",
       "2   2017-12-11  631.00  651.95  651.00  631.00   72849.17         23.72\n",
       "5   2017-12-06  631.50  644.10  625.35  620.00   58174.09         -7.61\n",
       "6   2017-12-05  634.00  647.40  632.95  630.13   47465.76         -4.84\n",
       "8   2017-12-01  638.01  638.99  622.68  620.13   47192.74         -8.32\n",
       "9   2017-11-30  635.51  648.48  631.00  626.00   38019.62         -7.12\n",
       "10  2017-11-29  649.94  651.97  638.20  634.01   46763.72        -10.03\n",
       "12  2017-11-27  634.00  636.33  622.03  613.01   63548.46         -8.01\n",
       "13  2017-11-24  635.90  642.50  630.00  622.23   76541.94         -3.73\n",
       "14  2017-11-23  642.00  646.00  633.49  630.22  109599.13        -17.03\n",
       "15  2017-11-22  677.00  688.00  650.87  650.00  128498.26        -26.38\n",
       "16  2017-11-21  669.00  688.80  677.00  662.02   96016.51         -2.15\n",
       "17  2017-11-20  676.80  685.60  679.27  660.00   88305.82        -10.98"
      ]
     },
     "execution_count": 129,
     "metadata": {},
     "output_type": "execute_result"
    }
   ],
   "source": [
    "open_price_high = stock.Open > 630\n",
    "# the following two are the same\n",
    "stock[open_price_high]\n",
    "stock[stock.Open > 630]"
   ]
  },
  {
   "cell_type": "markdown",
   "metadata": {},
   "source": [
    "# How do I apply multiple filter criteria to a pandas DataFrame?\n",
    "\n",
    "``` python\n",
    "\n",
    "DataFrame[criteria1 & criteria2]\n",
    "DataFrame[criteria1 | criteria2]\n",
    "DataFrame.columns_name.isin([value1, value2, value3])\n",
    "\n",
    "```"
   ]
  },
  {
   "cell_type": "code",
   "execution_count": 132,
   "metadata": {},
   "outputs": [
    {
     "data": {
      "text/html": [
       "<div>\n",
       "<style>\n",
       "    .dataframe thead tr:only-child th {\n",
       "        text-align: right;\n",
       "    }\n",
       "\n",
       "    .dataframe thead th {\n",
       "        text-align: left;\n",
       "    }\n",
       "\n",
       "    .dataframe tbody tr th {\n",
       "        vertical-align: top;\n",
       "    }\n",
       "</style>\n",
       "<table border=\"1\" class=\"dataframe\">\n",
       "  <thead>\n",
       "    <tr style=\"text-align: right;\">\n",
       "      <th></th>\n",
       "      <th>Date</th>\n",
       "      <th>Open</th>\n",
       "      <th>High</th>\n",
       "      <th>Close</th>\n",
       "      <th>Low</th>\n",
       "      <th>Volume</th>\n",
       "      <th>Price_change</th>\n",
       "    </tr>\n",
       "  </thead>\n",
       "  <tbody>\n",
       "    <tr>\n",
       "      <th>1</th>\n",
       "      <td>2017-12-12</td>\n",
       "      <td>658.70</td>\n",
       "      <td>658.77</td>\n",
       "      <td>651.18</td>\n",
       "      <td>651.02</td>\n",
       "      <td>47889.31</td>\n",
       "      <td>0.19</td>\n",
       "    </tr>\n",
       "    <tr>\n",
       "      <th>5</th>\n",
       "      <td>2017-12-06</td>\n",
       "      <td>631.50</td>\n",
       "      <td>644.10</td>\n",
       "      <td>625.35</td>\n",
       "      <td>620.00</td>\n",
       "      <td>58174.09</td>\n",
       "      <td>-7.61</td>\n",
       "    </tr>\n",
       "    <tr>\n",
       "      <th>6</th>\n",
       "      <td>2017-12-05</td>\n",
       "      <td>634.00</td>\n",
       "      <td>647.40</td>\n",
       "      <td>632.95</td>\n",
       "      <td>630.13</td>\n",
       "      <td>47465.76</td>\n",
       "      <td>-4.84</td>\n",
       "    </tr>\n",
       "    <tr>\n",
       "      <th>8</th>\n",
       "      <td>2017-12-01</td>\n",
       "      <td>638.01</td>\n",
       "      <td>638.99</td>\n",
       "      <td>622.68</td>\n",
       "      <td>620.13</td>\n",
       "      <td>47192.74</td>\n",
       "      <td>-8.32</td>\n",
       "    </tr>\n",
       "    <tr>\n",
       "      <th>9</th>\n",
       "      <td>2017-11-30</td>\n",
       "      <td>635.51</td>\n",
       "      <td>648.48</td>\n",
       "      <td>631.00</td>\n",
       "      <td>626.00</td>\n",
       "      <td>38019.62</td>\n",
       "      <td>-7.12</td>\n",
       "    </tr>\n",
       "    <tr>\n",
       "      <th>10</th>\n",
       "      <td>2017-11-29</td>\n",
       "      <td>649.94</td>\n",
       "      <td>651.97</td>\n",
       "      <td>638.20</td>\n",
       "      <td>634.01</td>\n",
       "      <td>46763.72</td>\n",
       "      <td>-10.03</td>\n",
       "    </tr>\n",
       "    <tr>\n",
       "      <th>12</th>\n",
       "      <td>2017-11-27</td>\n",
       "      <td>634.00</td>\n",
       "      <td>636.33</td>\n",
       "      <td>622.03</td>\n",
       "      <td>613.01</td>\n",
       "      <td>63548.46</td>\n",
       "      <td>-8.01</td>\n",
       "    </tr>\n",
       "    <tr>\n",
       "      <th>13</th>\n",
       "      <td>2017-11-24</td>\n",
       "      <td>635.90</td>\n",
       "      <td>642.50</td>\n",
       "      <td>630.00</td>\n",
       "      <td>622.23</td>\n",
       "      <td>76541.94</td>\n",
       "      <td>-3.73</td>\n",
       "    </tr>\n",
       "    <tr>\n",
       "      <th>14</th>\n",
       "      <td>2017-11-23</td>\n",
       "      <td>642.00</td>\n",
       "      <td>646.00</td>\n",
       "      <td>633.49</td>\n",
       "      <td>630.22</td>\n",
       "      <td>109599.13</td>\n",
       "      <td>-17.03</td>\n",
       "    </tr>\n",
       "    <tr>\n",
       "      <th>15</th>\n",
       "      <td>2017-11-22</td>\n",
       "      <td>677.00</td>\n",
       "      <td>688.00</td>\n",
       "      <td>650.87</td>\n",
       "      <td>650.00</td>\n",
       "      <td>128498.26</td>\n",
       "      <td>-26.38</td>\n",
       "    </tr>\n",
       "    <tr>\n",
       "      <th>16</th>\n",
       "      <td>2017-11-21</td>\n",
       "      <td>669.00</td>\n",
       "      <td>688.80</td>\n",
       "      <td>677.00</td>\n",
       "      <td>662.02</td>\n",
       "      <td>96016.51</td>\n",
       "      <td>-2.15</td>\n",
       "    </tr>\n",
       "    <tr>\n",
       "      <th>17</th>\n",
       "      <td>2017-11-20</td>\n",
       "      <td>676.80</td>\n",
       "      <td>685.60</td>\n",
       "      <td>679.27</td>\n",
       "      <td>660.00</td>\n",
       "      <td>88305.82</td>\n",
       "      <td>-10.98</td>\n",
       "    </tr>\n",
       "  </tbody>\n",
       "</table>\n",
       "</div>"
      ],
      "text/plain": [
       "          Date    Open    High   Close     Low     Volume  Price_change\n",
       "1   2017-12-12  658.70  658.77  651.18  651.02   47889.31          0.19\n",
       "5   2017-12-06  631.50  644.10  625.35  620.00   58174.09         -7.61\n",
       "6   2017-12-05  634.00  647.40  632.95  630.13   47465.76         -4.84\n",
       "8   2017-12-01  638.01  638.99  622.68  620.13   47192.74         -8.32\n",
       "9   2017-11-30  635.51  648.48  631.00  626.00   38019.62         -7.12\n",
       "10  2017-11-29  649.94  651.97  638.20  634.01   46763.72        -10.03\n",
       "12  2017-11-27  634.00  636.33  622.03  613.01   63548.46         -8.01\n",
       "13  2017-11-24  635.90  642.50  630.00  622.23   76541.94         -3.73\n",
       "14  2017-11-23  642.00  646.00  633.49  630.22  109599.13        -17.03\n",
       "15  2017-11-22  677.00  688.00  650.87  650.00  128498.26        -26.38\n",
       "16  2017-11-21  669.00  688.80  677.00  662.02   96016.51         -2.15\n",
       "17  2017-11-20  676.80  685.60  679.27  660.00   88305.82        -10.98"
      ]
     },
     "execution_count": 132,
     "metadata": {},
     "output_type": "execute_result"
    }
   ],
   "source": [
    "stock[(stock.Open > 630) & (stock.Price_change < 10)]"
   ]
  },
  {
   "cell_type": "markdown",
   "metadata": {},
   "source": [
    "# How to read csv file with selected columns?\n",
    "\n",
    "``` python\n",
    "DataFrame = pd.read_csv(filename, usecols=['cols_name1',...])\n",
    "DataFrame = pd.read_csv(filename, usecols=[pos1,...])\n",
    "```"
   ]
  },
  {
   "cell_type": "code",
   "execution_count": 136,
   "metadata": {},
   "outputs": [
    {
     "data": {
      "text/html": [
       "<div>\n",
       "<style>\n",
       "    .dataframe thead tr:only-child th {\n",
       "        text-align: right;\n",
       "    }\n",
       "\n",
       "    .dataframe thead th {\n",
       "        text-align: left;\n",
       "    }\n",
       "\n",
       "    .dataframe tbody tr th {\n",
       "        vertical-align: top;\n",
       "    }\n",
       "</style>\n",
       "<table border=\"1\" class=\"dataframe\">\n",
       "  <thead>\n",
       "    <tr style=\"text-align: right;\">\n",
       "      <th></th>\n",
       "      <th>date</th>\n",
       "      <th>open</th>\n",
       "      <th>close</th>\n",
       "    </tr>\n",
       "  </thead>\n",
       "  <tbody>\n",
       "    <tr>\n",
       "      <th>0</th>\n",
       "      <td>2017-12-15</td>\n",
       "      <td>664.00</td>\n",
       "      <td>653.60</td>\n",
       "    </tr>\n",
       "    <tr>\n",
       "      <th>1</th>\n",
       "      <td>2017-12-14</td>\n",
       "      <td>669.98</td>\n",
       "      <td>664.68</td>\n",
       "    </tr>\n",
       "    <tr>\n",
       "      <th>2</th>\n",
       "      <td>2017-12-13</td>\n",
       "      <td>654.99</td>\n",
       "      <td>668.20</td>\n",
       "    </tr>\n",
       "    <tr>\n",
       "      <th>3</th>\n",
       "      <td>2017-12-12</td>\n",
       "      <td>658.70</td>\n",
       "      <td>651.18</td>\n",
       "    </tr>\n",
       "    <tr>\n",
       "      <th>4</th>\n",
       "      <td>2017-12-11</td>\n",
       "      <td>631.00</td>\n",
       "      <td>651.00</td>\n",
       "    </tr>\n",
       "    <tr>\n",
       "      <th>5</th>\n",
       "      <td>2017-12-08</td>\n",
       "      <td>615.42</td>\n",
       "      <td>627.16</td>\n",
       "    </tr>\n",
       "    <tr>\n",
       "      <th>6</th>\n",
       "      <td>2017-12-07</td>\n",
       "      <td>624.95</td>\n",
       "      <td>616.69</td>\n",
       "    </tr>\n",
       "    <tr>\n",
       "      <th>7</th>\n",
       "      <td>2017-12-06</td>\n",
       "      <td>631.50</td>\n",
       "      <td>625.35</td>\n",
       "    </tr>\n",
       "    <tr>\n",
       "      <th>8</th>\n",
       "      <td>2017-12-05</td>\n",
       "      <td>634.00</td>\n",
       "      <td>632.95</td>\n",
       "    </tr>\n",
       "    <tr>\n",
       "      <th>9</th>\n",
       "      <td>2017-12-04</td>\n",
       "      <td>623.95</td>\n",
       "      <td>637.95</td>\n",
       "    </tr>\n",
       "    <tr>\n",
       "      <th>10</th>\n",
       "      <td>2017-12-01</td>\n",
       "      <td>638.01</td>\n",
       "      <td>622.68</td>\n",
       "    </tr>\n",
       "    <tr>\n",
       "      <th>11</th>\n",
       "      <td>2017-11-30</td>\n",
       "      <td>635.51</td>\n",
       "      <td>631.00</td>\n",
       "    </tr>\n",
       "    <tr>\n",
       "      <th>12</th>\n",
       "      <td>2017-11-29</td>\n",
       "      <td>649.94</td>\n",
       "      <td>638.20</td>\n",
       "    </tr>\n",
       "    <tr>\n",
       "      <th>13</th>\n",
       "      <td>2017-11-28</td>\n",
       "      <td>625.06</td>\n",
       "      <td>648.21</td>\n",
       "    </tr>\n",
       "    <tr>\n",
       "      <th>14</th>\n",
       "      <td>2017-11-27</td>\n",
       "      <td>634.00</td>\n",
       "      <td>622.03</td>\n",
       "    </tr>\n",
       "    <tr>\n",
       "      <th>15</th>\n",
       "      <td>2017-11-24</td>\n",
       "      <td>635.90</td>\n",
       "      <td>630.00</td>\n",
       "    </tr>\n",
       "    <tr>\n",
       "      <th>16</th>\n",
       "      <td>2017-11-23</td>\n",
       "      <td>642.00</td>\n",
       "      <td>633.49</td>\n",
       "    </tr>\n",
       "    <tr>\n",
       "      <th>17</th>\n",
       "      <td>2017-11-22</td>\n",
       "      <td>677.00</td>\n",
       "      <td>650.87</td>\n",
       "    </tr>\n",
       "    <tr>\n",
       "      <th>18</th>\n",
       "      <td>2017-11-21</td>\n",
       "      <td>669.00</td>\n",
       "      <td>677.00</td>\n",
       "    </tr>\n",
       "    <tr>\n",
       "      <th>19</th>\n",
       "      <td>2017-11-20</td>\n",
       "      <td>676.80</td>\n",
       "      <td>679.27</td>\n",
       "    </tr>\n",
       "  </tbody>\n",
       "</table>\n",
       "</div>"
      ],
      "text/plain": [
       "          date    open   close\n",
       "0   2017-12-15  664.00  653.60\n",
       "1   2017-12-14  669.98  664.68\n",
       "2   2017-12-13  654.99  668.20\n",
       "3   2017-12-12  658.70  651.18\n",
       "4   2017-12-11  631.00  651.00\n",
       "5   2017-12-08  615.42  627.16\n",
       "6   2017-12-07  624.95  616.69\n",
       "7   2017-12-06  631.50  625.35\n",
       "8   2017-12-05  634.00  632.95\n",
       "9   2017-12-04  623.95  637.95\n",
       "10  2017-12-01  638.01  622.68\n",
       "11  2017-11-30  635.51  631.00\n",
       "12  2017-11-29  649.94  638.20\n",
       "13  2017-11-28  625.06  648.21\n",
       "14  2017-11-27  634.00  622.03\n",
       "15  2017-11-24  635.90  630.00\n",
       "16  2017-11-23  642.00  633.49\n",
       "17  2017-11-22  677.00  650.87\n",
       "18  2017-11-21  669.00  677.00\n",
       "19  2017-11-20  676.80  679.27"
      ]
     },
     "execution_count": 136,
     "metadata": {},
     "output_type": "execute_result"
    }
   ],
   "source": [
    "stock = pd.read_csv('600519.csv',sep=\",\", usecols=['date','open', 'close'], nrows = 20)\n",
    "stock"
   ]
  },
  {
   "cell_type": "code",
   "execution_count": 137,
   "metadata": {},
   "outputs": [
    {
     "name": "stdout",
     "output_type": "stream",
     "text": [
      "0 2017-12-15 664.0 653.6\n",
      "1 2017-12-14 669.98 664.68\n",
      "2 2017-12-13 654.99 668.2\n",
      "3 2017-12-12 658.7 651.18\n",
      "4 2017-12-11 631.0 651.0\n",
      "5 2017-12-08 615.42 627.16\n",
      "6 2017-12-07 624.95 616.69\n",
      "7 2017-12-06 631.5 625.35\n",
      "8 2017-12-05 634.0 632.95\n",
      "9 2017-12-04 623.95 637.95\n",
      "10 2017-12-01 638.01 622.68\n",
      "11 2017-11-30 635.51 631.0\n",
      "12 2017-11-29 649.94 638.2\n",
      "13 2017-11-28 625.06 648.21\n",
      "14 2017-11-27 634.0 622.03\n",
      "15 2017-11-24 635.9 630.0\n",
      "16 2017-11-23 642.0 633.49\n",
      "17 2017-11-22 677.0 650.87\n",
      "18 2017-11-21 669.0 677.0\n",
      "19 2017-11-20 676.8 679.27\n"
     ]
    }
   ],
   "source": [
    "for index, row in stock.iterrows():\n",
    "    print(index, row.date, row.open, row.close)"
   ]
  },
  {
   "cell_type": "markdown",
   "metadata": {},
   "source": [
    "# Drop every non-numeric column from a DataFrame\n",
    "\n",
    "Signature: stock.select_dtypes(include=None, exclude=None)\n",
    "\n",
    "Docstring:\n",
    "\n",
    "Return a subset of a DataFrame including/excluding columns based on\n",
    "their ``dtype``."
   ]
  },
  {
   "cell_type": "code",
   "execution_count": 139,
   "metadata": {},
   "outputs": [
    {
     "data": {
      "text/html": [
       "<div>\n",
       "<style>\n",
       "    .dataframe thead tr:only-child th {\n",
       "        text-align: right;\n",
       "    }\n",
       "\n",
       "    .dataframe thead th {\n",
       "        text-align: left;\n",
       "    }\n",
       "\n",
       "    .dataframe tbody tr th {\n",
       "        vertical-align: top;\n",
       "    }\n",
       "</style>\n",
       "<table border=\"1\" class=\"dataframe\">\n",
       "  <thead>\n",
       "    <tr style=\"text-align: right;\">\n",
       "      <th></th>\n",
       "      <th>open</th>\n",
       "      <th>close</th>\n",
       "    </tr>\n",
       "  </thead>\n",
       "  <tbody>\n",
       "    <tr>\n",
       "      <th>0</th>\n",
       "      <td>664.00</td>\n",
       "      <td>653.60</td>\n",
       "    </tr>\n",
       "    <tr>\n",
       "      <th>1</th>\n",
       "      <td>669.98</td>\n",
       "      <td>664.68</td>\n",
       "    </tr>\n",
       "    <tr>\n",
       "      <th>2</th>\n",
       "      <td>654.99</td>\n",
       "      <td>668.20</td>\n",
       "    </tr>\n",
       "    <tr>\n",
       "      <th>3</th>\n",
       "      <td>658.70</td>\n",
       "      <td>651.18</td>\n",
       "    </tr>\n",
       "    <tr>\n",
       "      <th>4</th>\n",
       "      <td>631.00</td>\n",
       "      <td>651.00</td>\n",
       "    </tr>\n",
       "    <tr>\n",
       "      <th>5</th>\n",
       "      <td>615.42</td>\n",
       "      <td>627.16</td>\n",
       "    </tr>\n",
       "    <tr>\n",
       "      <th>6</th>\n",
       "      <td>624.95</td>\n",
       "      <td>616.69</td>\n",
       "    </tr>\n",
       "    <tr>\n",
       "      <th>7</th>\n",
       "      <td>631.50</td>\n",
       "      <td>625.35</td>\n",
       "    </tr>\n",
       "    <tr>\n",
       "      <th>8</th>\n",
       "      <td>634.00</td>\n",
       "      <td>632.95</td>\n",
       "    </tr>\n",
       "    <tr>\n",
       "      <th>9</th>\n",
       "      <td>623.95</td>\n",
       "      <td>637.95</td>\n",
       "    </tr>\n",
       "    <tr>\n",
       "      <th>10</th>\n",
       "      <td>638.01</td>\n",
       "      <td>622.68</td>\n",
       "    </tr>\n",
       "    <tr>\n",
       "      <th>11</th>\n",
       "      <td>635.51</td>\n",
       "      <td>631.00</td>\n",
       "    </tr>\n",
       "    <tr>\n",
       "      <th>12</th>\n",
       "      <td>649.94</td>\n",
       "      <td>638.20</td>\n",
       "    </tr>\n",
       "    <tr>\n",
       "      <th>13</th>\n",
       "      <td>625.06</td>\n",
       "      <td>648.21</td>\n",
       "    </tr>\n",
       "    <tr>\n",
       "      <th>14</th>\n",
       "      <td>634.00</td>\n",
       "      <td>622.03</td>\n",
       "    </tr>\n",
       "    <tr>\n",
       "      <th>15</th>\n",
       "      <td>635.90</td>\n",
       "      <td>630.00</td>\n",
       "    </tr>\n",
       "    <tr>\n",
       "      <th>16</th>\n",
       "      <td>642.00</td>\n",
       "      <td>633.49</td>\n",
       "    </tr>\n",
       "    <tr>\n",
       "      <th>17</th>\n",
       "      <td>677.00</td>\n",
       "      <td>650.87</td>\n",
       "    </tr>\n",
       "    <tr>\n",
       "      <th>18</th>\n",
       "      <td>669.00</td>\n",
       "      <td>677.00</td>\n",
       "    </tr>\n",
       "    <tr>\n",
       "      <th>19</th>\n",
       "      <td>676.80</td>\n",
       "      <td>679.27</td>\n",
       "    </tr>\n",
       "  </tbody>\n",
       "</table>\n",
       "</div>"
      ],
      "text/plain": [
       "      open   close\n",
       "0   664.00  653.60\n",
       "1   669.98  664.68\n",
       "2   654.99  668.20\n",
       "3   658.70  651.18\n",
       "4   631.00  651.00\n",
       "5   615.42  627.16\n",
       "6   624.95  616.69\n",
       "7   631.50  625.35\n",
       "8   634.00  632.95\n",
       "9   623.95  637.95\n",
       "10  638.01  622.68\n",
       "11  635.51  631.00\n",
       "12  649.94  638.20\n",
       "13  625.06  648.21\n",
       "14  634.00  622.03\n",
       "15  635.90  630.00\n",
       "16  642.00  633.49\n",
       "17  677.00  650.87\n",
       "18  669.00  677.00\n",
       "19  676.80  679.27"
      ]
     },
     "execution_count": 139,
     "metadata": {},
     "output_type": "execute_result"
    }
   ],
   "source": [
    "stock.select_dtypes(include=[np.number])"
   ]
  },
  {
   "cell_type": "markdown",
   "metadata": {},
   "source": [
    "# How do I use the 'axis' parameter in pandas?\n",
    "\n",
    "    axis = 1 equals axis = 'columns'\n",
    "    axis = 0 equals axis = 'index'"
   ]
  },
  {
   "cell_type": "code",
   "execution_count": 141,
   "metadata": {},
   "outputs": [
    {
     "data": {
      "text/html": [
       "<div>\n",
       "<style>\n",
       "    .dataframe thead tr:only-child th {\n",
       "        text-align: right;\n",
       "    }\n",
       "\n",
       "    .dataframe thead th {\n",
       "        text-align: left;\n",
       "    }\n",
       "\n",
       "    .dataframe tbody tr th {\n",
       "        vertical-align: top;\n",
       "    }\n",
       "</style>\n",
       "<table border=\"1\" class=\"dataframe\">\n",
       "  <thead>\n",
       "    <tr style=\"text-align: right;\">\n",
       "      <th></th>\n",
       "      <th>date</th>\n",
       "      <th>open</th>\n",
       "      <th>close</th>\n",
       "    </tr>\n",
       "  </thead>\n",
       "  <tbody>\n",
       "    <tr>\n",
       "      <th>0</th>\n",
       "      <td>2017-12-15</td>\n",
       "      <td>664.00</td>\n",
       "      <td>653.60</td>\n",
       "    </tr>\n",
       "    <tr>\n",
       "      <th>1</th>\n",
       "      <td>2017-12-14</td>\n",
       "      <td>669.98</td>\n",
       "      <td>664.68</td>\n",
       "    </tr>\n",
       "    <tr>\n",
       "      <th>2</th>\n",
       "      <td>2017-12-13</td>\n",
       "      <td>654.99</td>\n",
       "      <td>668.20</td>\n",
       "    </tr>\n",
       "    <tr>\n",
       "      <th>3</th>\n",
       "      <td>2017-12-12</td>\n",
       "      <td>658.70</td>\n",
       "      <td>651.18</td>\n",
       "    </tr>\n",
       "    <tr>\n",
       "      <th>4</th>\n",
       "      <td>2017-12-11</td>\n",
       "      <td>631.00</td>\n",
       "      <td>651.00</td>\n",
       "    </tr>\n",
       "  </tbody>\n",
       "</table>\n",
       "</div>"
      ],
      "text/plain": [
       "         date    open   close\n",
       "0  2017-12-15  664.00  653.60\n",
       "1  2017-12-14  669.98  664.68\n",
       "2  2017-12-13  654.99  668.20\n",
       "3  2017-12-12  658.70  651.18\n",
       "4  2017-12-11  631.00  651.00"
      ]
     },
     "execution_count": 141,
     "metadata": {},
     "output_type": "execute_result"
    }
   ],
   "source": [
    "stock = pd.read_csv('600519.csv',sep=\",\", usecols=['date','open', 'close'])\n",
    "stock.head()"
   ]
  },
  {
   "cell_type": "code",
   "execution_count": 143,
   "metadata": {},
   "outputs": [
    {
     "data": {
      "text/html": [
       "<div>\n",
       "<style>\n",
       "    .dataframe thead tr:only-child th {\n",
       "        text-align: right;\n",
       "    }\n",
       "\n",
       "    .dataframe thead th {\n",
       "        text-align: left;\n",
       "    }\n",
       "\n",
       "    .dataframe tbody tr th {\n",
       "        vertical-align: top;\n",
       "    }\n",
       "</style>\n",
       "<table border=\"1\" class=\"dataframe\">\n",
       "  <thead>\n",
       "    <tr style=\"text-align: right;\">\n",
       "      <th></th>\n",
       "      <th>open</th>\n",
       "      <th>close</th>\n",
       "    </tr>\n",
       "  </thead>\n",
       "  <tbody>\n",
       "    <tr>\n",
       "      <th>0</th>\n",
       "      <td>664.00</td>\n",
       "      <td>653.60</td>\n",
       "    </tr>\n",
       "    <tr>\n",
       "      <th>1</th>\n",
       "      <td>669.98</td>\n",
       "      <td>664.68</td>\n",
       "    </tr>\n",
       "    <tr>\n",
       "      <th>2</th>\n",
       "      <td>654.99</td>\n",
       "      <td>668.20</td>\n",
       "    </tr>\n",
       "    <tr>\n",
       "      <th>3</th>\n",
       "      <td>658.70</td>\n",
       "      <td>651.18</td>\n",
       "    </tr>\n",
       "    <tr>\n",
       "      <th>4</th>\n",
       "      <td>631.00</td>\n",
       "      <td>651.00</td>\n",
       "    </tr>\n",
       "  </tbody>\n",
       "</table>\n",
       "</div>"
      ],
      "text/plain": [
       "     open   close\n",
       "0  664.00  653.60\n",
       "1  669.98  664.68\n",
       "2  654.99  668.20\n",
       "3  658.70  651.18\n",
       "4  631.00  651.00"
      ]
     },
     "execution_count": 143,
     "metadata": {},
     "output_type": "execute_result"
    }
   ],
   "source": [
    "stock.drop('date', axis=1).head()"
   ]
  },
  {
   "cell_type": "code",
   "execution_count": 144,
   "metadata": {},
   "outputs": [
    {
     "data": {
      "text/html": [
       "<div>\n",
       "<style>\n",
       "    .dataframe thead tr:only-child th {\n",
       "        text-align: right;\n",
       "    }\n",
       "\n",
       "    .dataframe thead th {\n",
       "        text-align: left;\n",
       "    }\n",
       "\n",
       "    .dataframe tbody tr th {\n",
       "        vertical-align: top;\n",
       "    }\n",
       "</style>\n",
       "<table border=\"1\" class=\"dataframe\">\n",
       "  <thead>\n",
       "    <tr style=\"text-align: right;\">\n",
       "      <th></th>\n",
       "      <th>date</th>\n",
       "      <th>open</th>\n",
       "      <th>close</th>\n",
       "    </tr>\n",
       "  </thead>\n",
       "  <tbody>\n",
       "    <tr>\n",
       "      <th>0</th>\n",
       "      <td>2017-12-15</td>\n",
       "      <td>664.00</td>\n",
       "      <td>653.60</td>\n",
       "    </tr>\n",
       "    <tr>\n",
       "      <th>1</th>\n",
       "      <td>2017-12-14</td>\n",
       "      <td>669.98</td>\n",
       "      <td>664.68</td>\n",
       "    </tr>\n",
       "    <tr>\n",
       "      <th>3</th>\n",
       "      <td>2017-12-12</td>\n",
       "      <td>658.70</td>\n",
       "      <td>651.18</td>\n",
       "    </tr>\n",
       "    <tr>\n",
       "      <th>4</th>\n",
       "      <td>2017-12-11</td>\n",
       "      <td>631.00</td>\n",
       "      <td>651.00</td>\n",
       "    </tr>\n",
       "    <tr>\n",
       "      <th>5</th>\n",
       "      <td>2017-12-08</td>\n",
       "      <td>615.42</td>\n",
       "      <td>627.16</td>\n",
       "    </tr>\n",
       "  </tbody>\n",
       "</table>\n",
       "</div>"
      ],
      "text/plain": [
       "         date    open   close\n",
       "0  2017-12-15  664.00  653.60\n",
       "1  2017-12-14  669.98  664.68\n",
       "3  2017-12-12  658.70  651.18\n",
       "4  2017-12-11  631.00  651.00\n",
       "5  2017-12-08  615.42  627.16"
      ]
     },
     "execution_count": 144,
     "metadata": {},
     "output_type": "execute_result"
    }
   ],
   "source": [
    "stock.drop(2, axis=0).head()"
   ]
  },
  {
   "cell_type": "code",
   "execution_count": 148,
   "metadata": {},
   "outputs": [
    {
     "data": {
      "text/plain": [
       "(2,)"
      ]
     },
     "execution_count": 148,
     "metadata": {},
     "output_type": "execute_result"
    }
   ],
   "source": [
    "stock.mean(axis = 0).shape"
   ]
  },
  {
   "cell_type": "code",
   "execution_count": 147,
   "metadata": {},
   "outputs": [
    {
     "data": {
      "text/plain": [
       "(733,)"
      ]
     },
     "execution_count": 147,
     "metadata": {},
     "output_type": "execute_result"
    }
   ],
   "source": [
    "stock.mean(axis = 1).shape"
   ]
  },
  {
   "cell_type": "code",
   "execution_count": 150,
   "metadata": {},
   "outputs": [
    {
     "name": "stdout",
     "output_type": "stream",
     "text": [
      "(2,)\n",
      "(733,)\n"
     ]
    }
   ],
   "source": [
    "print(stock.mean(axis='index').shape)\n",
    "print(stock.mean(axis='columns').shape)"
   ]
  },
  {
   "cell_type": "markdown",
   "metadata": {},
   "source": [
    "# How do I use string methods in pandas?\n",
    "\n",
    "search string handling in pandas help docs"
   ]
  },
  {
   "cell_type": "code",
   "execution_count": 152,
   "metadata": {},
   "outputs": [
    {
     "data": {
      "text/plain": [
       "'HELLO'"
      ]
     },
     "execution_count": 152,
     "metadata": {},
     "output_type": "execute_result"
    }
   ],
   "source": [
    "'hello'.upper()"
   ]
  },
  {
   "cell_type": "code",
   "execution_count": 154,
   "metadata": {},
   "outputs": [
    {
     "data": {
      "text/plain": [
       "0    2017-12-15\n",
       "1    2017-12-14\n",
       "2    2017-12-13\n",
       "3    2017-12-12\n",
       "4    2017-12-11\n",
       "5    2017-12-08\n",
       "6    2017-12-07\n",
       "7    2017-12-06\n",
       "8    2017-12-05\n",
       "9    2017-12-04\n",
       "Name: date, dtype: object"
      ]
     },
     "execution_count": 154,
     "metadata": {},
     "output_type": "execute_result"
    }
   ],
   "source": [
    "stock = pd.read_csv('600519.csv',sep=\",\", usecols=['date','open', 'close'], nrows=10)\n",
    "stock.date.str.upper()"
   ]
  },
  {
   "cell_type": "code",
   "execution_count": 156,
   "metadata": {},
   "outputs": [
    {
     "data": {
      "text/plain": [
       "0    True\n",
       "1    True\n",
       "2    True\n",
       "3    True\n",
       "4    True\n",
       "5    True\n",
       "6    True\n",
       "7    True\n",
       "8    True\n",
       "9    True\n",
       "Name: date, dtype: bool"
      ]
     },
     "execution_count": 156,
     "metadata": {},
     "output_type": "execute_result"
    }
   ],
   "source": [
    "stock.date.str.contains('2017')"
   ]
  },
  {
   "cell_type": "code",
   "execution_count": 157,
   "metadata": {},
   "outputs": [
    {
     "data": {
      "text/plain": [
       "0    201X/12/15\n",
       "1    201X/12/14\n",
       "2    201X/12/13\n",
       "3    201X/12/12\n",
       "4    201X/12/11\n",
       "5    201X/12/08\n",
       "6    201X/12/07\n",
       "7    201X/12/06\n",
       "8    201X/12/05\n",
       "9    201X/12/04\n",
       "Name: date, dtype: object"
      ]
     },
     "execution_count": 157,
     "metadata": {},
     "output_type": "execute_result"
    }
   ],
   "source": [
    "stock.date.str.replace('2017','201X').str.replace('-','/')"
   ]
  },
  {
   "cell_type": "markdown",
   "metadata": {},
   "source": [
    "# How do I change the data type of a pandas Series?\n",
    "\n",
    "astype()"
   ]
  },
  {
   "cell_type": "code",
   "execution_count": 161,
   "metadata": {},
   "outputs": [
    {
     "data": {
      "text/html": [
       "<div>\n",
       "<style>\n",
       "    .dataframe thead tr:only-child th {\n",
       "        text-align: right;\n",
       "    }\n",
       "\n",
       "    .dataframe thead th {\n",
       "        text-align: left;\n",
       "    }\n",
       "\n",
       "    .dataframe tbody tr th {\n",
       "        vertical-align: top;\n",
       "    }\n",
       "</style>\n",
       "<table border=\"1\" class=\"dataframe\">\n",
       "  <thead>\n",
       "    <tr style=\"text-align: right;\">\n",
       "      <th></th>\n",
       "      <th>date</th>\n",
       "      <th>open</th>\n",
       "      <th>close</th>\n",
       "    </tr>\n",
       "  </thead>\n",
       "  <tbody>\n",
       "    <tr>\n",
       "      <th>0</th>\n",
       "      <td>2017-12-15</td>\n",
       "      <td>664.00</td>\n",
       "      <td>653.60</td>\n",
       "    </tr>\n",
       "    <tr>\n",
       "      <th>1</th>\n",
       "      <td>2017-12-14</td>\n",
       "      <td>669.98</td>\n",
       "      <td>664.68</td>\n",
       "    </tr>\n",
       "    <tr>\n",
       "      <th>2</th>\n",
       "      <td>2017-12-13</td>\n",
       "      <td>654.99</td>\n",
       "      <td>668.20</td>\n",
       "    </tr>\n",
       "    <tr>\n",
       "      <th>3</th>\n",
       "      <td>2017-12-12</td>\n",
       "      <td>658.70</td>\n",
       "      <td>651.18</td>\n",
       "    </tr>\n",
       "    <tr>\n",
       "      <th>4</th>\n",
       "      <td>2017-12-11</td>\n",
       "      <td>631.00</td>\n",
       "      <td>651.00</td>\n",
       "    </tr>\n",
       "  </tbody>\n",
       "</table>\n",
       "</div>"
      ],
      "text/plain": [
       "         date    open   close\n",
       "0  2017-12-15  664.00  653.60\n",
       "1  2017-12-14  669.98  664.68\n",
       "2  2017-12-13  654.99  668.20\n",
       "3  2017-12-12  658.70  651.18\n",
       "4  2017-12-11  631.00  651.00"
      ]
     },
     "execution_count": 161,
     "metadata": {},
     "output_type": "execute_result"
    }
   ],
   "source": [
    "stock = pd.read_csv('600519.csv',usecols=['date','open','close'], nrows=10)\n",
    "stock.head()"
   ]
  },
  {
   "cell_type": "code",
   "execution_count": 163,
   "metadata": {},
   "outputs": [
    {
     "data": {
      "text/plain": [
       "date      object\n",
       "open     float64\n",
       "close    float64\n",
       "dtype: object"
      ]
     },
     "execution_count": 163,
     "metadata": {},
     "output_type": "execute_result"
    }
   ],
   "source": [
    "stock.dtypes"
   ]
  },
  {
   "cell_type": "code",
   "execution_count": 164,
   "metadata": {
    "collapsed": true
   },
   "outputs": [],
   "source": [
    "stock['close'] = stock.close.astype(int)"
   ]
  },
  {
   "cell_type": "code",
   "execution_count": 166,
   "metadata": {},
   "outputs": [
    {
     "data": {
      "text/plain": [
       "date      object\n",
       "open     float64\n",
       "close      int32\n",
       "dtype: object"
      ]
     },
     "execution_count": 166,
     "metadata": {},
     "output_type": "execute_result"
    }
   ],
   "source": [
    "stock.dtypes"
   ]
  },
  {
   "cell_type": "code",
   "execution_count": 170,
   "metadata": {},
   "outputs": [],
   "source": [
    "stock = pd.read_csv('600519.csv',usecols=['date','open','close'], nrows=10, dtype={'close':float})"
   ]
  },
  {
   "cell_type": "code",
   "execution_count": 171,
   "metadata": {},
   "outputs": [
    {
     "data": {
      "text/plain": [
       "0    1\n",
       "1    1\n",
       "2    1\n",
       "3    1\n",
       "4    1\n",
       "5    1\n",
       "6    1\n",
       "7    1\n",
       "8    1\n",
       "9    1\n",
       "Name: date, dtype: int32"
      ]
     },
     "execution_count": 171,
     "metadata": {},
     "output_type": "execute_result"
    }
   ],
   "source": [
    "stock.date.str.contains('2017').astype(int)"
   ]
  },
  {
   "cell_type": "markdown",
   "metadata": {},
   "source": [
    "# When should I use a 'groupby' in pandas?\n",
    "\n",
    "DataFrame.groupby('column_name').col_name.agg(['count', 'mean', 'min', 'max'])"
   ]
  },
  {
   "cell_type": "code",
   "execution_count": 178,
   "metadata": {},
   "outputs": [
    {
     "data": {
      "text/html": [
       "<div>\n",
       "<style>\n",
       "    .dataframe thead tr:only-child th {\n",
       "        text-align: right;\n",
       "    }\n",
       "\n",
       "    .dataframe thead th {\n",
       "        text-align: left;\n",
       "    }\n",
       "\n",
       "    .dataframe tbody tr th {\n",
       "        vertical-align: top;\n",
       "    }\n",
       "</style>\n",
       "<table border=\"1\" class=\"dataframe\">\n",
       "  <thead>\n",
       "    <tr style=\"text-align: right;\">\n",
       "      <th></th>\n",
       "      <th>date</th>\n",
       "      <th>open</th>\n",
       "      <th>close</th>\n",
       "      <th>label</th>\n",
       "    </tr>\n",
       "  </thead>\n",
       "  <tbody>\n",
       "    <tr>\n",
       "      <th>0</th>\n",
       "      <td>2017-12-15</td>\n",
       "      <td>664.00</td>\n",
       "      <td>653.60</td>\n",
       "      <td>first</td>\n",
       "    </tr>\n",
       "    <tr>\n",
       "      <th>1</th>\n",
       "      <td>2017-12-14</td>\n",
       "      <td>669.98</td>\n",
       "      <td>664.68</td>\n",
       "      <td>second</td>\n",
       "    </tr>\n",
       "    <tr>\n",
       "      <th>2</th>\n",
       "      <td>2017-12-13</td>\n",
       "      <td>654.99</td>\n",
       "      <td>668.20</td>\n",
       "      <td>first</td>\n",
       "    </tr>\n",
       "    <tr>\n",
       "      <th>3</th>\n",
       "      <td>2017-12-12</td>\n",
       "      <td>658.70</td>\n",
       "      <td>651.18</td>\n",
       "      <td>third</td>\n",
       "    </tr>\n",
       "    <tr>\n",
       "      <th>4</th>\n",
       "      <td>2017-12-11</td>\n",
       "      <td>631.00</td>\n",
       "      <td>651.00</td>\n",
       "      <td>fouth</td>\n",
       "    </tr>\n",
       "    <tr>\n",
       "      <th>5</th>\n",
       "      <td>2017-12-08</td>\n",
       "      <td>615.42</td>\n",
       "      <td>627.16</td>\n",
       "      <td>first</td>\n",
       "    </tr>\n",
       "    <tr>\n",
       "      <th>6</th>\n",
       "      <td>2017-12-07</td>\n",
       "      <td>624.95</td>\n",
       "      <td>616.69</td>\n",
       "      <td>second</td>\n",
       "    </tr>\n",
       "    <tr>\n",
       "      <th>7</th>\n",
       "      <td>2017-12-06</td>\n",
       "      <td>631.50</td>\n",
       "      <td>625.35</td>\n",
       "      <td>first</td>\n",
       "    </tr>\n",
       "    <tr>\n",
       "      <th>8</th>\n",
       "      <td>2017-12-05</td>\n",
       "      <td>634.00</td>\n",
       "      <td>632.95</td>\n",
       "      <td>first</td>\n",
       "    </tr>\n",
       "    <tr>\n",
       "      <th>9</th>\n",
       "      <td>2017-12-04</td>\n",
       "      <td>623.95</td>\n",
       "      <td>637.95</td>\n",
       "      <td>first</td>\n",
       "    </tr>\n",
       "  </tbody>\n",
       "</table>\n",
       "</div>"
      ],
      "text/plain": [
       "         date    open   close   label\n",
       "0  2017-12-15  664.00  653.60   first\n",
       "1  2017-12-14  669.98  664.68  second\n",
       "2  2017-12-13  654.99  668.20   first\n",
       "3  2017-12-12  658.70  651.18   third\n",
       "4  2017-12-11  631.00  651.00   fouth\n",
       "5  2017-12-08  615.42  627.16   first\n",
       "6  2017-12-07  624.95  616.69  second\n",
       "7  2017-12-06  631.50  625.35   first\n",
       "8  2017-12-05  634.00  632.95   first\n",
       "9  2017-12-04  623.95  637.95   first"
      ]
     },
     "execution_count": 178,
     "metadata": {},
     "output_type": "execute_result"
    }
   ],
   "source": [
    "stock['label']=['first', 'second', 'first', 'third', 'fouth', 'first', 'second', 'first', 'first', 'first']\n",
    "stock"
   ]
  },
  {
   "cell_type": "code",
   "execution_count": 179,
   "metadata": {},
   "outputs": [
    {
     "data": {
      "text/plain": [
       "label\n",
       "first     637.310\n",
       "fouth     631.000\n",
       "second    647.465\n",
       "third     658.700\n",
       "Name: open, dtype: float64"
      ]
     },
     "execution_count": 179,
     "metadata": {},
     "output_type": "execute_result"
    }
   ],
   "source": [
    "stock.groupby('label').open.mean()"
   ]
  },
  {
   "cell_type": "code",
   "execution_count": 180,
   "metadata": {},
   "outputs": [
    {
     "data": {
      "text/html": [
       "<div>\n",
       "<style>\n",
       "    .dataframe thead tr:only-child th {\n",
       "        text-align: right;\n",
       "    }\n",
       "\n",
       "    .dataframe thead th {\n",
       "        text-align: left;\n",
       "    }\n",
       "\n",
       "    .dataframe tbody tr th {\n",
       "        vertical-align: top;\n",
       "    }\n",
       "</style>\n",
       "<table border=\"1\" class=\"dataframe\">\n",
       "  <thead>\n",
       "    <tr style=\"text-align: right;\">\n",
       "      <th></th>\n",
       "      <th>date</th>\n",
       "      <th>open</th>\n",
       "      <th>close</th>\n",
       "      <th>label</th>\n",
       "    </tr>\n",
       "  </thead>\n",
       "  <tbody>\n",
       "    <tr>\n",
       "      <th>0</th>\n",
       "      <td>2017-12-15</td>\n",
       "      <td>664.00</td>\n",
       "      <td>653.60</td>\n",
       "      <td>first</td>\n",
       "    </tr>\n",
       "    <tr>\n",
       "      <th>2</th>\n",
       "      <td>2017-12-13</td>\n",
       "      <td>654.99</td>\n",
       "      <td>668.20</td>\n",
       "      <td>first</td>\n",
       "    </tr>\n",
       "    <tr>\n",
       "      <th>5</th>\n",
       "      <td>2017-12-08</td>\n",
       "      <td>615.42</td>\n",
       "      <td>627.16</td>\n",
       "      <td>first</td>\n",
       "    </tr>\n",
       "    <tr>\n",
       "      <th>7</th>\n",
       "      <td>2017-12-06</td>\n",
       "      <td>631.50</td>\n",
       "      <td>625.35</td>\n",
       "      <td>first</td>\n",
       "    </tr>\n",
       "    <tr>\n",
       "      <th>8</th>\n",
       "      <td>2017-12-05</td>\n",
       "      <td>634.00</td>\n",
       "      <td>632.95</td>\n",
       "      <td>first</td>\n",
       "    </tr>\n",
       "    <tr>\n",
       "      <th>9</th>\n",
       "      <td>2017-12-04</td>\n",
       "      <td>623.95</td>\n",
       "      <td>637.95</td>\n",
       "      <td>first</td>\n",
       "    </tr>\n",
       "  </tbody>\n",
       "</table>\n",
       "</div>"
      ],
      "text/plain": [
       "         date    open   close  label\n",
       "0  2017-12-15  664.00  653.60  first\n",
       "2  2017-12-13  654.99  668.20  first\n",
       "5  2017-12-08  615.42  627.16  first\n",
       "7  2017-12-06  631.50  625.35  first\n",
       "8  2017-12-05  634.00  632.95  first\n",
       "9  2017-12-04  623.95  637.95  first"
      ]
     },
     "execution_count": 180,
     "metadata": {},
     "output_type": "execute_result"
    }
   ],
   "source": [
    "stock[stock.label == 'first']"
   ]
  },
  {
   "cell_type": "code",
   "execution_count": 181,
   "metadata": {},
   "outputs": [
    {
     "data": {
      "text/html": [
       "<div>\n",
       "<style>\n",
       "    .dataframe thead tr:only-child th {\n",
       "        text-align: right;\n",
       "    }\n",
       "\n",
       "    .dataframe thead th {\n",
       "        text-align: left;\n",
       "    }\n",
       "\n",
       "    .dataframe tbody tr th {\n",
       "        vertical-align: top;\n",
       "    }\n",
       "</style>\n",
       "<table border=\"1\" class=\"dataframe\">\n",
       "  <thead>\n",
       "    <tr style=\"text-align: right;\">\n",
       "      <th></th>\n",
       "      <th>count</th>\n",
       "      <th>mean</th>\n",
       "      <th>max</th>\n",
       "      <th>min</th>\n",
       "    </tr>\n",
       "    <tr>\n",
       "      <th>label</th>\n",
       "      <th></th>\n",
       "      <th></th>\n",
       "      <th></th>\n",
       "      <th></th>\n",
       "    </tr>\n",
       "  </thead>\n",
       "  <tbody>\n",
       "    <tr>\n",
       "      <th>first</th>\n",
       "      <td>6</td>\n",
       "      <td>637.310</td>\n",
       "      <td>664.00</td>\n",
       "      <td>615.42</td>\n",
       "    </tr>\n",
       "    <tr>\n",
       "      <th>fouth</th>\n",
       "      <td>1</td>\n",
       "      <td>631.000</td>\n",
       "      <td>631.00</td>\n",
       "      <td>631.00</td>\n",
       "    </tr>\n",
       "    <tr>\n",
       "      <th>second</th>\n",
       "      <td>2</td>\n",
       "      <td>647.465</td>\n",
       "      <td>669.98</td>\n",
       "      <td>624.95</td>\n",
       "    </tr>\n",
       "    <tr>\n",
       "      <th>third</th>\n",
       "      <td>1</td>\n",
       "      <td>658.700</td>\n",
       "      <td>658.70</td>\n",
       "      <td>658.70</td>\n",
       "    </tr>\n",
       "  </tbody>\n",
       "</table>\n",
       "</div>"
      ],
      "text/plain": [
       "        count     mean     max     min\n",
       "label                                 \n",
       "first       6  637.310  664.00  615.42\n",
       "fouth       1  631.000  631.00  631.00\n",
       "second      2  647.465  669.98  624.95\n",
       "third       1  658.700  658.70  658.70"
      ]
     },
     "execution_count": 181,
     "metadata": {},
     "output_type": "execute_result"
    }
   ],
   "source": [
    "stock.groupby('label').open.agg(['count', 'mean', 'max', 'min'])"
   ]
  },
  {
   "cell_type": "code",
   "execution_count": 183,
   "metadata": {
    "scrolled": true
   },
   "outputs": [
    {
     "data": {
      "text/html": [
       "<div>\n",
       "<style>\n",
       "    .dataframe thead tr:only-child th {\n",
       "        text-align: right;\n",
       "    }\n",
       "\n",
       "    .dataframe thead th {\n",
       "        text-align: left;\n",
       "    }\n",
       "\n",
       "    .dataframe tbody tr th {\n",
       "        vertical-align: top;\n",
       "    }\n",
       "</style>\n",
       "<table border=\"1\" class=\"dataframe\">\n",
       "  <thead>\n",
       "    <tr style=\"text-align: right;\">\n",
       "      <th></th>\n",
       "      <th>open</th>\n",
       "      <th>close</th>\n",
       "    </tr>\n",
       "    <tr>\n",
       "      <th>label</th>\n",
       "      <th></th>\n",
       "      <th></th>\n",
       "    </tr>\n",
       "  </thead>\n",
       "  <tbody>\n",
       "    <tr>\n",
       "      <th>first</th>\n",
       "      <td>637.310</td>\n",
       "      <td>640.868333</td>\n",
       "    </tr>\n",
       "    <tr>\n",
       "      <th>fouth</th>\n",
       "      <td>631.000</td>\n",
       "      <td>651.000000</td>\n",
       "    </tr>\n",
       "    <tr>\n",
       "      <th>second</th>\n",
       "      <td>647.465</td>\n",
       "      <td>640.685000</td>\n",
       "    </tr>\n",
       "    <tr>\n",
       "      <th>third</th>\n",
       "      <td>658.700</td>\n",
       "      <td>651.180000</td>\n",
       "    </tr>\n",
       "  </tbody>\n",
       "</table>\n",
       "</div>"
      ],
      "text/plain": [
       "           open       close\n",
       "label                      \n",
       "first   637.310  640.868333\n",
       "fouth   631.000  651.000000\n",
       "second  647.465  640.685000\n",
       "third   658.700  651.180000"
      ]
     },
     "execution_count": 183,
     "metadata": {},
     "output_type": "execute_result"
    }
   ],
   "source": [
    "stock.groupby('label').mean()"
   ]
  },
  {
   "cell_type": "code",
   "execution_count": 184,
   "metadata": {
    "collapsed": true
   },
   "outputs": [],
   "source": [
    "%matplotlib inline"
   ]
  },
  {
   "cell_type": "code",
   "execution_count": 185,
   "metadata": {},
   "outputs": [
    {
     "data": {
      "text/plain": [
       "<matplotlib.axes._subplots.AxesSubplot at 0xc49c358>"
      ]
     },
     "execution_count": 185,
     "metadata": {},
     "output_type": "execute_result"
    },
    {
     "data": {
      "image/png": "[encoded data removed]",
      "text/plain": [
       "<matplotlib.figure.Figure at 0xc4933c8>"
      ]
     },
     "metadata": {},
     "output_type": "display_data"
    }
   ],
   "source": [
    "stock.groupby('label').mean().plot(kind='bar')"
   ]
  },
  {
   "cell_type": "markdown",
   "metadata": {},
   "source": [
    "# How do I explore a pandas Series?\n"
   ]
  },
  {
   "cell_type": "code",
   "execution_count": 186,
   "metadata": {},
   "outputs": [
    {
     "data": {
      "text/html": [
       "<div>\n",
       "<style>\n",
       "    .dataframe thead tr:only-child th {\n",
       "        text-align: right;\n",
       "    }\n",
       "\n",
       "    .dataframe thead th {\n",
       "        text-align: left;\n",
       "    }\n",
       "\n",
       "    .dataframe tbody tr th {\n",
       "        vertical-align: top;\n",
       "    }\n",
       "</style>\n",
       "<table border=\"1\" class=\"dataframe\">\n",
       "  <thead>\n",
       "    <tr style=\"text-align: right;\">\n",
       "      <th></th>\n",
       "      <th>open</th>\n",
       "      <th>close</th>\n",
       "    </tr>\n",
       "  </thead>\n",
       "  <tbody>\n",
       "    <tr>\n",
       "      <th>count</th>\n",
       "      <td>10.000000</td>\n",
       "      <td>10.000000</td>\n",
       "    </tr>\n",
       "    <tr>\n",
       "      <th>mean</th>\n",
       "      <td>640.849000</td>\n",
       "      <td>642.876000</td>\n",
       "    </tr>\n",
       "    <tr>\n",
       "      <th>std</th>\n",
       "      <td>19.205074</td>\n",
       "      <td>17.414331</td>\n",
       "    </tr>\n",
       "    <tr>\n",
       "      <th>min</th>\n",
       "      <td>615.420000</td>\n",
       "      <td>616.690000</td>\n",
       "    </tr>\n",
       "    <tr>\n",
       "      <th>25%</th>\n",
       "      <td>626.462500</td>\n",
       "      <td>628.607500</td>\n",
       "    </tr>\n",
       "    <tr>\n",
       "      <th>50%</th>\n",
       "      <td>632.750000</td>\n",
       "      <td>644.475000</td>\n",
       "    </tr>\n",
       "    <tr>\n",
       "      <th>75%</th>\n",
       "      <td>657.772500</td>\n",
       "      <td>652.995000</td>\n",
       "    </tr>\n",
       "    <tr>\n",
       "      <th>max</th>\n",
       "      <td>669.980000</td>\n",
       "      <td>668.200000</td>\n",
       "    </tr>\n",
       "  </tbody>\n",
       "</table>\n",
       "</div>"
      ],
      "text/plain": [
       "             open       close\n",
       "count   10.000000   10.000000\n",
       "mean   640.849000  642.876000\n",
       "std     19.205074   17.414331\n",
       "min    615.420000  616.690000\n",
       "25%    626.462500  628.607500\n",
       "50%    632.750000  644.475000\n",
       "75%    657.772500  652.995000\n",
       "max    669.980000  668.200000"
      ]
     },
     "execution_count": 186,
     "metadata": {},
     "output_type": "execute_result"
    }
   ],
   "source": [
    "stock.describe()"
   ]
  },
  {
   "cell_type": "code",
   "execution_count": 187,
   "metadata": {},
   "outputs": [
    {
     "data": {
      "text/plain": [
       "date      object\n",
       "open     float64\n",
       "close    float64\n",
       "label     object\n",
       "dtype: object"
      ]
     },
     "execution_count": 187,
     "metadata": {},
     "output_type": "execute_result"
    }
   ],
   "source": [
    "stock.dtypes"
   ]
  },
  {
   "cell_type": "code",
   "execution_count": 189,
   "metadata": {},
   "outputs": [
    {
     "data": {
      "text/plain": [
       "count        10\n",
       "unique        4\n",
       "top       first\n",
       "freq          6\n",
       "Name: label, dtype: object"
      ]
     },
     "execution_count": 189,
     "metadata": {},
     "output_type": "execute_result"
    }
   ],
   "source": [
    "stock.label.describe()"
   ]
  },
  {
   "cell_type": "code",
   "execution_count": 190,
   "metadata": {},
   "outputs": [
    {
     "data": {
      "text/plain": [
       "first     6\n",
       "second    2\n",
       "fouth     1\n",
       "third     1\n",
       "Name: label, dtype: int64"
      ]
     },
     "execution_count": 190,
     "metadata": {},
     "output_type": "execute_result"
    }
   ],
   "source": [
    "stock.label.value_counts()"
   ]
  },
  {
   "cell_type": "code",
   "execution_count": 191,
   "metadata": {},
   "outputs": [
    {
     "data": {
      "text/plain": [
       "first     0.6\n",
       "second    0.2\n",
       "fouth     0.1\n",
       "third     0.1\n",
       "Name: label, dtype: float64"
      ]
     },
     "execution_count": 191,
     "metadata": {},
     "output_type": "execute_result"
    }
   ],
   "source": [
    "stock.label.value_counts(normalize=True)"
   ]
  },
  {
   "cell_type": "code",
   "execution_count": 192,
   "metadata": {},
   "outputs": [
    {
     "name": "stdout",
     "output_type": "stream",
     "text": [
      "['first' 'second' 'third' 'fouth']\n",
      "4\n"
     ]
    }
   ],
   "source": [
    "print(stock.label.unique())\n",
    "print(stock.label.nunique())"
   ]
  },
  {
   "cell_type": "code",
   "execution_count": 193,
   "metadata": {},
   "outputs": [
    {
     "data": {
      "text/html": [
       "<div>\n",
       "<style>\n",
       "    .dataframe thead tr:only-child th {\n",
       "        text-align: right;\n",
       "    }\n",
       "\n",
       "    .dataframe thead th {\n",
       "        text-align: left;\n",
       "    }\n",
       "\n",
       "    .dataframe tbody tr th {\n",
       "        vertical-align: top;\n",
       "    }\n",
       "</style>\n",
       "<table border=\"1\" class=\"dataframe\">\n",
       "  <thead>\n",
       "    <tr style=\"text-align: right;\">\n",
       "      <th>date</th>\n",
       "      <th>2017-12-04</th>\n",
       "      <th>2017-12-05</th>\n",
       "      <th>2017-12-06</th>\n",
       "      <th>2017-12-07</th>\n",
       "      <th>2017-12-08</th>\n",
       "      <th>2017-12-11</th>\n",
       "      <th>2017-12-12</th>\n",
       "      <th>2017-12-13</th>\n",
       "      <th>2017-12-14</th>\n",
       "      <th>2017-12-15</th>\n",
       "    </tr>\n",
       "    <tr>\n",
       "      <th>label</th>\n",
       "      <th></th>\n",
       "      <th></th>\n",
       "      <th></th>\n",
       "      <th></th>\n",
       "      <th></th>\n",
       "      <th></th>\n",
       "      <th></th>\n",
       "      <th></th>\n",
       "      <th></th>\n",
       "      <th></th>\n",
       "    </tr>\n",
       "  </thead>\n",
       "  <tbody>\n",
       "    <tr>\n",
       "      <th>first</th>\n",
       "      <td>1</td>\n",
       "      <td>1</td>\n",
       "      <td>1</td>\n",
       "      <td>0</td>\n",
       "      <td>1</td>\n",
       "      <td>0</td>\n",
       "      <td>0</td>\n",
       "      <td>1</td>\n",
       "      <td>0</td>\n",
       "      <td>1</td>\n",
       "    </tr>\n",
       "    <tr>\n",
       "      <th>fouth</th>\n",
       "      <td>0</td>\n",
       "      <td>0</td>\n",
       "      <td>0</td>\n",
       "      <td>0</td>\n",
       "      <td>0</td>\n",
       "      <td>1</td>\n",
       "      <td>0</td>\n",
       "      <td>0</td>\n",
       "      <td>0</td>\n",
       "      <td>0</td>\n",
       "    </tr>\n",
       "    <tr>\n",
       "      <th>second</th>\n",
       "      <td>0</td>\n",
       "      <td>0</td>\n",
       "      <td>0</td>\n",
       "      <td>1</td>\n",
       "      <td>0</td>\n",
       "      <td>0</td>\n",
       "      <td>0</td>\n",
       "      <td>0</td>\n",
       "      <td>1</td>\n",
       "      <td>0</td>\n",
       "    </tr>\n",
       "    <tr>\n",
       "      <th>third</th>\n",
       "      <td>0</td>\n",
       "      <td>0</td>\n",
       "      <td>0</td>\n",
       "      <td>0</td>\n",
       "      <td>0</td>\n",
       "      <td>0</td>\n",
       "      <td>1</td>\n",
       "      <td>0</td>\n",
       "      <td>0</td>\n",
       "      <td>0</td>\n",
       "    </tr>\n",
       "  </tbody>\n",
       "</table>\n",
       "</div>"
      ],
      "text/plain": [
       "date    2017-12-04  2017-12-05  2017-12-06  2017-12-07  2017-12-08  \\\n",
       "label                                                                \n",
       "first            1           1           1           0           1   \n",
       "fouth            0           0           0           0           0   \n",
       "second           0           0           0           1           0   \n",
       "third            0           0           0           0           0   \n",
       "\n",
       "date    2017-12-11  2017-12-12  2017-12-13  2017-12-14  2017-12-15  \n",
       "label                                                               \n",
       "first            0           0           1           0           1  \n",
       "fouth            1           0           0           0           0  \n",
       "second           0           0           0           1           0  \n",
       "third            0           1           0           0           0  "
      ]
     },
     "execution_count": 193,
     "metadata": {},
     "output_type": "execute_result"
    }
   ],
   "source": [
    "pd.crosstab(stock.label, stock.date)"
   ]
  },
  {
   "cell_type": "code",
   "execution_count": 195,
   "metadata": {},
   "outputs": [
    {
     "data": {
      "text/plain": [
       "count     10.000000\n",
       "mean     640.849000\n",
       "std       19.205074\n",
       "min      615.420000\n",
       "25%      626.462500\n",
       "50%      632.750000\n",
       "75%      657.772500\n",
       "max      669.980000\n",
       "Name: open, dtype: float64"
      ]
     },
     "execution_count": 195,
     "metadata": {},
     "output_type": "execute_result"
    }
   ],
   "source": [
    "stock.open.describe()"
   ]
  },
  {
   "cell_type": "code",
   "execution_count": 196,
   "metadata": {},
   "outputs": [
    {
     "data": {
      "text/plain": [
       "669.98    1\n",
       "615.42    1\n",
       "623.95    1\n",
       "624.95    1\n",
       "654.99    1\n",
       "658.70    1\n",
       "634.00    1\n",
       "631.50    1\n",
       "631.00    1\n",
       "664.00    1\n",
       "Name: open, dtype: int64"
      ]
     },
     "execution_count": 196,
     "metadata": {},
     "output_type": "execute_result"
    }
   ],
   "source": [
    "stock.open.value_counts()"
   ]
  },
  {
   "cell_type": "code",
   "execution_count": 197,
   "metadata": {},
   "outputs": [
    {
     "data": {
      "text/plain": [
       "<matplotlib.axes._subplots.AxesSubplot at 0xca51438>"
      ]
     },
     "execution_count": 197,
     "metadata": {},
     "output_type": "execute_result"
    },
    {
     "data": {
      "image/png": "[encoded data removed]",
      "text/plain": [
       "<matplotlib.figure.Figure at 0xc9d69b0>"
      ]
     },
     "metadata": {},
     "output_type": "display_data"
    }
   ],
   "source": [
    "stock.open.plot(kind='hist')"
   ]
  },
  {
   "cell_type": "code",
   "execution_count": 199,
   "metadata": {},
   "outputs": [
    {
     "data": {
      "text/plain": [
       "<matplotlib.axes._subplots.AxesSubplot at 0xc624400>"
      ]
     },
     "execution_count": 199,
     "metadata": {},
     "output_type": "execute_result"
    },
    {
     "data": {
      "image/png": "[encoded data removed]",
      "text/plain": [
       "<matplotlib.figure.Figure at 0xcaf67b8>"
      ]
     },
     "metadata": {},
     "output_type": "display_data"
    }
   ],
   "source": [
    "stock.label.value_counts().plot(kind='bar')"
   ]
  },
  {
   "cell_type": "markdown",
   "metadata": {},
   "source": [
    "# How do I handle missing values in pandas?"
   ]
  },
  {
   "cell_type": "code",
   "execution_count": 208,
   "metadata": {},
   "outputs": [
    {
     "data": {
      "text/html": [
       "<div>\n",
       "<style>\n",
       "    .dataframe thead tr:only-child th {\n",
       "        text-align: right;\n",
       "    }\n",
       "\n",
       "    .dataframe thead th {\n",
       "        text-align: left;\n",
       "    }\n",
       "\n",
       "    .dataframe tbody tr th {\n",
       "        vertical-align: top;\n",
       "    }\n",
       "</style>\n",
       "<table border=\"1\" class=\"dataframe\">\n",
       "  <thead>\n",
       "    <tr style=\"text-align: right;\">\n",
       "      <th></th>\n",
       "      <th>date</th>\n",
       "      <th>open</th>\n",
       "      <th>close</th>\n",
       "      <th>label</th>\n",
       "    </tr>\n",
       "  </thead>\n",
       "  <tbody>\n",
       "    <tr>\n",
       "      <th>0</th>\n",
       "      <td>2017-12-15</td>\n",
       "      <td>664.00</td>\n",
       "      <td>653.60</td>\n",
       "      <td>first</td>\n",
       "    </tr>\n",
       "    <tr>\n",
       "      <th>1</th>\n",
       "      <td>2017-12-14</td>\n",
       "      <td>669.98</td>\n",
       "      <td>664.68</td>\n",
       "      <td>second</td>\n",
       "    </tr>\n",
       "    <tr>\n",
       "      <th>2</th>\n",
       "      <td>2017-12-13</td>\n",
       "      <td>654.99</td>\n",
       "      <td>668.20</td>\n",
       "      <td>first</td>\n",
       "    </tr>\n",
       "    <tr>\n",
       "      <th>3</th>\n",
       "      <td>2017-12-12</td>\n",
       "      <td>658.70</td>\n",
       "      <td>651.18</td>\n",
       "      <td>third</td>\n",
       "    </tr>\n",
       "    <tr>\n",
       "      <th>4</th>\n",
       "      <td>2017-12-11</td>\n",
       "      <td>631.00</td>\n",
       "      <td>651.00</td>\n",
       "      <td>fouth</td>\n",
       "    </tr>\n",
       "    <tr>\n",
       "      <th>5</th>\n",
       "      <td>2017-12-08</td>\n",
       "      <td>615.42</td>\n",
       "      <td>627.16</td>\n",
       "      <td>first</td>\n",
       "    </tr>\n",
       "    <tr>\n",
       "      <th>6</th>\n",
       "      <td>2017-12-07</td>\n",
       "      <td>624.95</td>\n",
       "      <td>616.69</td>\n",
       "      <td>second</td>\n",
       "    </tr>\n",
       "    <tr>\n",
       "      <th>7</th>\n",
       "      <td>2017-12-06</td>\n",
       "      <td>631.50</td>\n",
       "      <td>625.35</td>\n",
       "      <td>first</td>\n",
       "    </tr>\n",
       "    <tr>\n",
       "      <th>8</th>\n",
       "      <td>2017-12-05</td>\n",
       "      <td>634.00</td>\n",
       "      <td>632.95</td>\n",
       "      <td>first</td>\n",
       "    </tr>\n",
       "    <tr>\n",
       "      <th>9</th>\n",
       "      <td>2017-12-04</td>\n",
       "      <td>623.95</td>\n",
       "      <td>637.95</td>\n",
       "      <td>first</td>\n",
       "    </tr>\n",
       "    <tr>\n",
       "      <th>10</th>\n",
       "      <td>2017-12-17</td>\n",
       "      <td>NaN</td>\n",
       "      <td>NaN</td>\n",
       "      <td>NaN</td>\n",
       "    </tr>\n",
       "    <tr>\n",
       "      <th>11</th>\n",
       "      <td>2017-12-17</td>\n",
       "      <td>NaN</td>\n",
       "      <td>NaN</td>\n",
       "      <td>Blue</td>\n",
       "    </tr>\n",
       "    <tr>\n",
       "      <th>12</th>\n",
       "      <td>2017-12-17</td>\n",
       "      <td>NaN</td>\n",
       "      <td>NaN</td>\n",
       "      <td>Yellow</td>\n",
       "    </tr>\n",
       "  </tbody>\n",
       "</table>\n",
       "</div>"
      ],
      "text/plain": [
       "          date    open   close   label\n",
       "0   2017-12-15  664.00  653.60   first\n",
       "1   2017-12-14  669.98  664.68  second\n",
       "2   2017-12-13  654.99  668.20   first\n",
       "3   2017-12-12  658.70  651.18   third\n",
       "4   2017-12-11  631.00  651.00   fouth\n",
       "5   2017-12-08  615.42  627.16   first\n",
       "6   2017-12-07  624.95  616.69  second\n",
       "7   2017-12-06  631.50  625.35   first\n",
       "8   2017-12-05  634.00  632.95   first\n",
       "9   2017-12-04  623.95  637.95   first\n",
       "10  2017-12-17     NaN     NaN     NaN\n",
       "11  2017-12-17     NaN     NaN    Blue\n",
       "12  2017-12-17     NaN     NaN  Yellow"
      ]
     },
     "execution_count": 208,
     "metadata": {},
     "output_type": "execute_result"
    }
   ],
   "source": [
    "stock.loc[10] = ['2017-12-17', np.nan, np.nan, np.nan]\n",
    "stock.loc[11] = ['2017-12-17', np.nan, np.nan, 'Blue']\n",
    "stock.loc[12] = ['2017-12-17', np.nan, np.nan, 'Yellow']\n",
    "stock"
   ]
  },
  {
   "cell_type": "code",
   "execution_count": 210,
   "metadata": {},
   "outputs": [
    {
     "data": {
      "text/html": [
       "<div>\n",
       "<style>\n",
       "    .dataframe thead tr:only-child th {\n",
       "        text-align: right;\n",
       "    }\n",
       "\n",
       "    .dataframe thead th {\n",
       "        text-align: left;\n",
       "    }\n",
       "\n",
       "    .dataframe tbody tr th {\n",
       "        vertical-align: top;\n",
       "    }\n",
       "</style>\n",
       "<table border=\"1\" class=\"dataframe\">\n",
       "  <thead>\n",
       "    <tr style=\"text-align: right;\">\n",
       "      <th></th>\n",
       "      <th>date</th>\n",
       "      <th>open</th>\n",
       "      <th>close</th>\n",
       "      <th>label</th>\n",
       "    </tr>\n",
       "  </thead>\n",
       "  <tbody>\n",
       "    <tr>\n",
       "      <th>8</th>\n",
       "      <td>2017-12-05</td>\n",
       "      <td>634.00</td>\n",
       "      <td>632.95</td>\n",
       "      <td>first</td>\n",
       "    </tr>\n",
       "    <tr>\n",
       "      <th>9</th>\n",
       "      <td>2017-12-04</td>\n",
       "      <td>623.95</td>\n",
       "      <td>637.95</td>\n",
       "      <td>first</td>\n",
       "    </tr>\n",
       "    <tr>\n",
       "      <th>10</th>\n",
       "      <td>2017-12-17</td>\n",
       "      <td>NaN</td>\n",
       "      <td>NaN</td>\n",
       "      <td>NaN</td>\n",
       "    </tr>\n",
       "    <tr>\n",
       "      <th>11</th>\n",
       "      <td>2017-12-17</td>\n",
       "      <td>NaN</td>\n",
       "      <td>NaN</td>\n",
       "      <td>Blue</td>\n",
       "    </tr>\n",
       "    <tr>\n",
       "      <th>12</th>\n",
       "      <td>2017-12-17</td>\n",
       "      <td>NaN</td>\n",
       "      <td>NaN</td>\n",
       "      <td>Yellow</td>\n",
       "    </tr>\n",
       "  </tbody>\n",
       "</table>\n",
       "</div>"
      ],
      "text/plain": [
       "          date    open   close   label\n",
       "8   2017-12-05  634.00  632.95   first\n",
       "9   2017-12-04  623.95  637.95   first\n",
       "10  2017-12-17     NaN     NaN     NaN\n",
       "11  2017-12-17     NaN     NaN    Blue\n",
       "12  2017-12-17     NaN     NaN  Yellow"
      ]
     },
     "execution_count": 210,
     "metadata": {},
     "output_type": "execute_result"
    }
   ],
   "source": [
    "stock.tail()"
   ]
  },
  {
   "cell_type": "code",
   "execution_count": 211,
   "metadata": {},
   "outputs": [
    {
     "data": {
      "text/html": [
       "<div>\n",
       "<style>\n",
       "    .dataframe thead tr:only-child th {\n",
       "        text-align: right;\n",
       "    }\n",
       "\n",
       "    .dataframe thead th {\n",
       "        text-align: left;\n",
       "    }\n",
       "\n",
       "    .dataframe tbody tr th {\n",
       "        vertical-align: top;\n",
       "    }\n",
       "</style>\n",
       "<table border=\"1\" class=\"dataframe\">\n",
       "  <thead>\n",
       "    <tr style=\"text-align: right;\">\n",
       "      <th></th>\n",
       "      <th>date</th>\n",
       "      <th>open</th>\n",
       "      <th>close</th>\n",
       "      <th>label</th>\n",
       "    </tr>\n",
       "  </thead>\n",
       "  <tbody>\n",
       "    <tr>\n",
       "      <th>8</th>\n",
       "      <td>False</td>\n",
       "      <td>False</td>\n",
       "      <td>False</td>\n",
       "      <td>False</td>\n",
       "    </tr>\n",
       "    <tr>\n",
       "      <th>9</th>\n",
       "      <td>False</td>\n",
       "      <td>False</td>\n",
       "      <td>False</td>\n",
       "      <td>False</td>\n",
       "    </tr>\n",
       "    <tr>\n",
       "      <th>10</th>\n",
       "      <td>False</td>\n",
       "      <td>True</td>\n",
       "      <td>True</td>\n",
       "      <td>True</td>\n",
       "    </tr>\n",
       "    <tr>\n",
       "      <th>11</th>\n",
       "      <td>False</td>\n",
       "      <td>True</td>\n",
       "      <td>True</td>\n",
       "      <td>False</td>\n",
       "    </tr>\n",
       "    <tr>\n",
       "      <th>12</th>\n",
       "      <td>False</td>\n",
       "      <td>True</td>\n",
       "      <td>True</td>\n",
       "      <td>False</td>\n",
       "    </tr>\n",
       "  </tbody>\n",
       "</table>\n",
       "</div>"
      ],
      "text/plain": [
       "     date   open  close  label\n",
       "8   False  False  False  False\n",
       "9   False  False  False  False\n",
       "10  False   True   True   True\n",
       "11  False   True   True  False\n",
       "12  False   True   True  False"
      ]
     },
     "execution_count": 211,
     "metadata": {},
     "output_type": "execute_result"
    }
   ],
   "source": [
    "stock.isnull().tail()"
   ]
  },
  {
   "cell_type": "code",
   "execution_count": 213,
   "metadata": {},
   "outputs": [
    {
     "data": {
      "text/html": [
       "<div>\n",
       "<style>\n",
       "    .dataframe thead tr:only-child th {\n",
       "        text-align: right;\n",
       "    }\n",
       "\n",
       "    .dataframe thead th {\n",
       "        text-align: left;\n",
       "    }\n",
       "\n",
       "    .dataframe tbody tr th {\n",
       "        vertical-align: top;\n",
       "    }\n",
       "</style>\n",
       "<table border=\"1\" class=\"dataframe\">\n",
       "  <thead>\n",
       "    <tr style=\"text-align: right;\">\n",
       "      <th></th>\n",
       "      <th>date</th>\n",
       "      <th>open</th>\n",
       "      <th>close</th>\n",
       "      <th>label</th>\n",
       "    </tr>\n",
       "  </thead>\n",
       "  <tbody>\n",
       "    <tr>\n",
       "      <th>8</th>\n",
       "      <td>True</td>\n",
       "      <td>True</td>\n",
       "      <td>True</td>\n",
       "      <td>True</td>\n",
       "    </tr>\n",
       "    <tr>\n",
       "      <th>9</th>\n",
       "      <td>True</td>\n",
       "      <td>True</td>\n",
       "      <td>True</td>\n",
       "      <td>True</td>\n",
       "    </tr>\n",
       "    <tr>\n",
       "      <th>10</th>\n",
       "      <td>True</td>\n",
       "      <td>False</td>\n",
       "      <td>False</td>\n",
       "      <td>False</td>\n",
       "    </tr>\n",
       "    <tr>\n",
       "      <th>11</th>\n",
       "      <td>True</td>\n",
       "      <td>False</td>\n",
       "      <td>False</td>\n",
       "      <td>True</td>\n",
       "    </tr>\n",
       "    <tr>\n",
       "      <th>12</th>\n",
       "      <td>True</td>\n",
       "      <td>False</td>\n",
       "      <td>False</td>\n",
       "      <td>True</td>\n",
       "    </tr>\n",
       "  </tbody>\n",
       "</table>\n",
       "</div>"
      ],
      "text/plain": [
       "    date   open  close  label\n",
       "8   True   True   True   True\n",
       "9   True   True   True   True\n",
       "10  True  False  False  False\n",
       "11  True  False  False   True\n",
       "12  True  False  False   True"
      ]
     },
     "execution_count": 213,
     "metadata": {},
     "output_type": "execute_result"
    }
   ],
   "source": [
    "stock.notnull().tail()"
   ]
  },
  {
   "cell_type": "code",
   "execution_count": 216,
   "metadata": {},
   "outputs": [
    {
     "data": {
      "text/plain": [
       "date     0\n",
       "open     3\n",
       "close    3\n",
       "label    1\n",
       "dtype: int64"
      ]
     },
     "execution_count": 216,
     "metadata": {},
     "output_type": "execute_result"
    }
   ],
   "source": [
    "stock.isnull().sum(axis=0)"
   ]
  },
  {
   "cell_type": "code",
   "execution_count": 215,
   "metadata": {},
   "outputs": [
    {
     "data": {
      "text/plain": [
       "2"
      ]
     },
     "execution_count": 215,
     "metadata": {},
     "output_type": "execute_result"
    }
   ],
   "source": [
    "pd.Series([True, False, True]).sum()"
   ]
  },
  {
   "cell_type": "code",
   "execution_count": 218,
   "metadata": {},
   "outputs": [
    {
     "data": {
      "text/html": [
       "<div>\n",
       "<style>\n",
       "    .dataframe thead tr:only-child th {\n",
       "        text-align: right;\n",
       "    }\n",
       "\n",
       "    .dataframe thead th {\n",
       "        text-align: left;\n",
       "    }\n",
       "\n",
       "    .dataframe tbody tr th {\n",
       "        vertical-align: top;\n",
       "    }\n",
       "</style>\n",
       "<table border=\"1\" class=\"dataframe\">\n",
       "  <thead>\n",
       "    <tr style=\"text-align: right;\">\n",
       "      <th></th>\n",
       "      <th>date</th>\n",
       "      <th>open</th>\n",
       "      <th>close</th>\n",
       "      <th>label</th>\n",
       "    </tr>\n",
       "  </thead>\n",
       "  <tbody>\n",
       "    <tr>\n",
       "      <th>10</th>\n",
       "      <td>2017-12-17</td>\n",
       "      <td>NaN</td>\n",
       "      <td>NaN</td>\n",
       "      <td>NaN</td>\n",
       "    </tr>\n",
       "    <tr>\n",
       "      <th>11</th>\n",
       "      <td>2017-12-17</td>\n",
       "      <td>NaN</td>\n",
       "      <td>NaN</td>\n",
       "      <td>Blue</td>\n",
       "    </tr>\n",
       "    <tr>\n",
       "      <th>12</th>\n",
       "      <td>2017-12-17</td>\n",
       "      <td>NaN</td>\n",
       "      <td>NaN</td>\n",
       "      <td>Yellow</td>\n",
       "    </tr>\n",
       "  </tbody>\n",
       "</table>\n",
       "</div>"
      ],
      "text/plain": [
       "          date  open  close   label\n",
       "10  2017-12-17   NaN    NaN     NaN\n",
       "11  2017-12-17   NaN    NaN    Blue\n",
       "12  2017-12-17   NaN    NaN  Yellow"
      ]
     },
     "execution_count": 218,
     "metadata": {},
     "output_type": "execute_result"
    }
   ],
   "source": [
    "stock[stock.open.isnull()]"
   ]
  },
  {
   "cell_type": "code",
   "execution_count": 219,
   "metadata": {},
   "outputs": [
    {
     "data": {
      "text/plain": [
       "(13, 4)"
      ]
     },
     "execution_count": 219,
     "metadata": {},
     "output_type": "execute_result"
    }
   ],
   "source": [
    "stock.shape"
   ]
  },
  {
   "cell_type": "code",
   "execution_count": 220,
   "metadata": {},
   "outputs": [
    {
     "data": {
      "text/plain": [
       "(10, 4)"
      ]
     },
     "execution_count": 220,
     "metadata": {},
     "output_type": "execute_result"
    }
   ],
   "source": [
    "stock.dropna(how='any').shape"
   ]
  },
  {
   "cell_type": "code",
   "execution_count": 221,
   "metadata": {},
   "outputs": [
    {
     "data": {
      "text/plain": [
       "(13, 1)"
      ]
     },
     "execution_count": 221,
     "metadata": {},
     "output_type": "execute_result"
    }
   ],
   "source": [
    "stock.dropna(how='any', axis=1).shape"
   ]
  },
  {
   "cell_type": "code",
   "execution_count": 222,
   "metadata": {},
   "outputs": [
    {
     "data": {
      "text/plain": [
       "(13, 4)"
      ]
     },
     "execution_count": 222,
     "metadata": {},
     "output_type": "execute_result"
    }
   ],
   "source": [
    "stock.dropna(how='all').shape"
   ]
  },
  {
   "cell_type": "code",
   "execution_count": 223,
   "metadata": {},
   "outputs": [
    {
     "data": {
      "text/html": [
       "<div>\n",
       "<style>\n",
       "    .dataframe thead tr:only-child th {\n",
       "        text-align: right;\n",
       "    }\n",
       "\n",
       "    .dataframe thead th {\n",
       "        text-align: left;\n",
       "    }\n",
       "\n",
       "    .dataframe tbody tr th {\n",
       "        vertical-align: top;\n",
       "    }\n",
       "</style>\n",
       "<table border=\"1\" class=\"dataframe\">\n",
       "  <thead>\n",
       "    <tr style=\"text-align: right;\">\n",
       "      <th></th>\n",
       "      <th>date</th>\n",
       "      <th>open</th>\n",
       "      <th>close</th>\n",
       "      <th>label</th>\n",
       "    </tr>\n",
       "  </thead>\n",
       "  <tbody>\n",
       "    <tr>\n",
       "      <th>0</th>\n",
       "      <td>2017-12-15</td>\n",
       "      <td>664.00</td>\n",
       "      <td>653.60</td>\n",
       "      <td>first</td>\n",
       "    </tr>\n",
       "    <tr>\n",
       "      <th>1</th>\n",
       "      <td>2017-12-14</td>\n",
       "      <td>669.98</td>\n",
       "      <td>664.68</td>\n",
       "      <td>second</td>\n",
       "    </tr>\n",
       "    <tr>\n",
       "      <th>2</th>\n",
       "      <td>2017-12-13</td>\n",
       "      <td>654.99</td>\n",
       "      <td>668.20</td>\n",
       "      <td>first</td>\n",
       "    </tr>\n",
       "    <tr>\n",
       "      <th>3</th>\n",
       "      <td>2017-12-12</td>\n",
       "      <td>658.70</td>\n",
       "      <td>651.18</td>\n",
       "      <td>third</td>\n",
       "    </tr>\n",
       "    <tr>\n",
       "      <th>4</th>\n",
       "      <td>2017-12-11</td>\n",
       "      <td>631.00</td>\n",
       "      <td>651.00</td>\n",
       "      <td>fouth</td>\n",
       "    </tr>\n",
       "    <tr>\n",
       "      <th>5</th>\n",
       "      <td>2017-12-08</td>\n",
       "      <td>615.42</td>\n",
       "      <td>627.16</td>\n",
       "      <td>first</td>\n",
       "    </tr>\n",
       "    <tr>\n",
       "      <th>6</th>\n",
       "      <td>2017-12-07</td>\n",
       "      <td>624.95</td>\n",
       "      <td>616.69</td>\n",
       "      <td>second</td>\n",
       "    </tr>\n",
       "    <tr>\n",
       "      <th>7</th>\n",
       "      <td>2017-12-06</td>\n",
       "      <td>631.50</td>\n",
       "      <td>625.35</td>\n",
       "      <td>first</td>\n",
       "    </tr>\n",
       "    <tr>\n",
       "      <th>8</th>\n",
       "      <td>2017-12-05</td>\n",
       "      <td>634.00</td>\n",
       "      <td>632.95</td>\n",
       "      <td>first</td>\n",
       "    </tr>\n",
       "    <tr>\n",
       "      <th>9</th>\n",
       "      <td>2017-12-04</td>\n",
       "      <td>623.95</td>\n",
       "      <td>637.95</td>\n",
       "      <td>first</td>\n",
       "    </tr>\n",
       "    <tr>\n",
       "      <th>11</th>\n",
       "      <td>2017-12-17</td>\n",
       "      <td>NaN</td>\n",
       "      <td>NaN</td>\n",
       "      <td>Blue</td>\n",
       "    </tr>\n",
       "    <tr>\n",
       "      <th>12</th>\n",
       "      <td>2017-12-17</td>\n",
       "      <td>NaN</td>\n",
       "      <td>NaN</td>\n",
       "      <td>Yellow</td>\n",
       "    </tr>\n",
       "  </tbody>\n",
       "</table>\n",
       "</div>"
      ],
      "text/plain": [
       "          date    open   close   label\n",
       "0   2017-12-15  664.00  653.60   first\n",
       "1   2017-12-14  669.98  664.68  second\n",
       "2   2017-12-13  654.99  668.20   first\n",
       "3   2017-12-12  658.70  651.18   third\n",
       "4   2017-12-11  631.00  651.00   fouth\n",
       "5   2017-12-08  615.42  627.16   first\n",
       "6   2017-12-07  624.95  616.69  second\n",
       "7   2017-12-06  631.50  625.35   first\n",
       "8   2017-12-05  634.00  632.95   first\n",
       "9   2017-12-04  623.95  637.95   first\n",
       "11  2017-12-17     NaN     NaN    Blue\n",
       "12  2017-12-17     NaN     NaN  Yellow"
      ]
     },
     "execution_count": 223,
     "metadata": {},
     "output_type": "execute_result"
    }
   ],
   "source": [
    "stock.dropna(subset=['open', 'label'], how='all')"
   ]
  },
  {
   "cell_type": "code",
   "execution_count": 224,
   "metadata": {},
   "outputs": [
    {
     "data": {
      "text/plain": [
       "first     6\n",
       "second    2\n",
       "fouth     1\n",
       "third     1\n",
       "Yellow    1\n",
       "Blue      1\n",
       "NaN       1\n",
       "Name: label, dtype: int64"
      ]
     },
     "execution_count": 224,
     "metadata": {},
     "output_type": "execute_result"
    }
   ],
   "source": [
    "stock.label.value_counts(dropna=False)"
   ]
  },
  {
   "cell_type": "code",
   "execution_count": 225,
   "metadata": {},
   "outputs": [
    {
     "data": {
      "text/plain": [
       "0      first\n",
       "1     second\n",
       "2      first\n",
       "3      third\n",
       "4      fouth\n",
       "5      first\n",
       "6     second\n",
       "7      first\n",
       "8      first\n",
       "9      first\n",
       "10       Red\n",
       "11      Blue\n",
       "12    Yellow\n",
       "Name: label, dtype: object"
      ]
     },
     "execution_count": 225,
     "metadata": {},
     "output_type": "execute_result"
    }
   ],
   "source": [
    "stock.label.fillna(value='Red')"
   ]
  },
  {
   "cell_type": "markdown",
   "metadata": {},
   "source": [
    "# pandas index"
   ]
  },
  {
   "cell_type": "code",
   "execution_count": 226,
   "metadata": {},
   "outputs": [
    {
     "data": {
      "text/plain": [
       "Int64Index([0, 1, 2, 3, 4, 5, 6, 7, 8, 9, 10, 11, 12], dtype='int64')"
      ]
     },
     "execution_count": 226,
     "metadata": {},
     "output_type": "execute_result"
    }
   ],
   "source": [
    "stock.index"
   ]
  },
  {
   "cell_type": "code",
   "execution_count": 227,
   "metadata": {},
   "outputs": [
    {
     "data": {
      "text/plain": [
       "Index(['date', 'open', 'close', 'label'], dtype='object')"
      ]
     },
     "execution_count": 227,
     "metadata": {},
     "output_type": "execute_result"
    }
   ],
   "source": [
    "stock.columns"
   ]
  },
  {
   "cell_type": "code",
   "execution_count": 228,
   "metadata": {},
   "outputs": [
    {
     "data": {
      "text/plain": [
       "nan"
      ]
     },
     "execution_count": 228,
     "metadata": {},
     "output_type": "execute_result"
    }
   ],
   "source": [
    "stock.loc[10, 'open']"
   ]
  },
  {
   "cell_type": "code",
   "execution_count": 231,
   "metadata": {},
   "outputs": [
    {
     "data": {
      "text/plain": [
       "label\n",
       "first    664.00\n",
       "first    654.99\n",
       "first    615.42\n",
       "first    631.50\n",
       "first    634.00\n",
       "first    623.95\n",
       "Name: open, dtype: float64"
      ]
     },
     "execution_count": 231,
     "metadata": {},
     "output_type": "execute_result"
    }
   ],
   "source": [
    "stock.set_index('label').loc['first', 'open']"
   ]
  },
  {
   "cell_type": "code",
   "execution_count": 232,
   "metadata": {},
   "outputs": [
    {
     "data": {
      "text/plain": [
       "'label'"
      ]
     },
     "execution_count": 232,
     "metadata": {},
     "output_type": "execute_result"
    }
   ],
   "source": [
    "stock.set_index('label').index.name"
   ]
  },
  {
   "cell_type": "code",
   "execution_count": 233,
   "metadata": {},
   "outputs": [
    {
     "data": {
      "text/html": [
       "<div>\n",
       "<style>\n",
       "    .dataframe thead tr:only-child th {\n",
       "        text-align: right;\n",
       "    }\n",
       "\n",
       "    .dataframe thead th {\n",
       "        text-align: left;\n",
       "    }\n",
       "\n",
       "    .dataframe tbody tr th {\n",
       "        vertical-align: top;\n",
       "    }\n",
       "</style>\n",
       "<table border=\"1\" class=\"dataframe\">\n",
       "  <thead>\n",
       "    <tr style=\"text-align: right;\">\n",
       "      <th></th>\n",
       "      <th>index</th>\n",
       "      <th>date</th>\n",
       "      <th>open</th>\n",
       "      <th>close</th>\n",
       "      <th>label</th>\n",
       "    </tr>\n",
       "  </thead>\n",
       "  <tbody>\n",
       "    <tr>\n",
       "      <th>0</th>\n",
       "      <td>0</td>\n",
       "      <td>2017-12-15</td>\n",
       "      <td>664.00</td>\n",
       "      <td>653.60</td>\n",
       "      <td>first</td>\n",
       "    </tr>\n",
       "    <tr>\n",
       "      <th>1</th>\n",
       "      <td>1</td>\n",
       "      <td>2017-12-14</td>\n",
       "      <td>669.98</td>\n",
       "      <td>664.68</td>\n",
       "      <td>second</td>\n",
       "    </tr>\n",
       "    <tr>\n",
       "      <th>2</th>\n",
       "      <td>2</td>\n",
       "      <td>2017-12-13</td>\n",
       "      <td>654.99</td>\n",
       "      <td>668.20</td>\n",
       "      <td>first</td>\n",
       "    </tr>\n",
       "    <tr>\n",
       "      <th>3</th>\n",
       "      <td>3</td>\n",
       "      <td>2017-12-12</td>\n",
       "      <td>658.70</td>\n",
       "      <td>651.18</td>\n",
       "      <td>third</td>\n",
       "    </tr>\n",
       "    <tr>\n",
       "      <th>4</th>\n",
       "      <td>4</td>\n",
       "      <td>2017-12-11</td>\n",
       "      <td>631.00</td>\n",
       "      <td>651.00</td>\n",
       "      <td>fouth</td>\n",
       "    </tr>\n",
       "    <tr>\n",
       "      <th>5</th>\n",
       "      <td>5</td>\n",
       "      <td>2017-12-08</td>\n",
       "      <td>615.42</td>\n",
       "      <td>627.16</td>\n",
       "      <td>first</td>\n",
       "    </tr>\n",
       "    <tr>\n",
       "      <th>6</th>\n",
       "      <td>6</td>\n",
       "      <td>2017-12-07</td>\n",
       "      <td>624.95</td>\n",
       "      <td>616.69</td>\n",
       "      <td>second</td>\n",
       "    </tr>\n",
       "    <tr>\n",
       "      <th>7</th>\n",
       "      <td>7</td>\n",
       "      <td>2017-12-06</td>\n",
       "      <td>631.50</td>\n",
       "      <td>625.35</td>\n",
       "      <td>first</td>\n",
       "    </tr>\n",
       "    <tr>\n",
       "      <th>8</th>\n",
       "      <td>8</td>\n",
       "      <td>2017-12-05</td>\n",
       "      <td>634.00</td>\n",
       "      <td>632.95</td>\n",
       "      <td>first</td>\n",
       "    </tr>\n",
       "    <tr>\n",
       "      <th>9</th>\n",
       "      <td>9</td>\n",
       "      <td>2017-12-04</td>\n",
       "      <td>623.95</td>\n",
       "      <td>637.95</td>\n",
       "      <td>first</td>\n",
       "    </tr>\n",
       "    <tr>\n",
       "      <th>10</th>\n",
       "      <td>10</td>\n",
       "      <td>2017-12-17</td>\n",
       "      <td>NaN</td>\n",
       "      <td>NaN</td>\n",
       "      <td>NaN</td>\n",
       "    </tr>\n",
       "    <tr>\n",
       "      <th>11</th>\n",
       "      <td>11</td>\n",
       "      <td>2017-12-17</td>\n",
       "      <td>NaN</td>\n",
       "      <td>NaN</td>\n",
       "      <td>Blue</td>\n",
       "    </tr>\n",
       "    <tr>\n",
       "      <th>12</th>\n",
       "      <td>12</td>\n",
       "      <td>2017-12-17</td>\n",
       "      <td>NaN</td>\n",
       "      <td>NaN</td>\n",
       "      <td>Yellow</td>\n",
       "    </tr>\n",
       "  </tbody>\n",
       "</table>\n",
       "</div>"
      ],
      "text/plain": [
       "    index        date    open   close   label\n",
       "0       0  2017-12-15  664.00  653.60   first\n",
       "1       1  2017-12-14  669.98  664.68  second\n",
       "2       2  2017-12-13  654.99  668.20   first\n",
       "3       3  2017-12-12  658.70  651.18   third\n",
       "4       4  2017-12-11  631.00  651.00   fouth\n",
       "5       5  2017-12-08  615.42  627.16   first\n",
       "6       6  2017-12-07  624.95  616.69  second\n",
       "7       7  2017-12-06  631.50  625.35   first\n",
       "8       8  2017-12-05  634.00  632.95   first\n",
       "9       9  2017-12-04  623.95  637.95   first\n",
       "10     10  2017-12-17     NaN     NaN     NaN\n",
       "11     11  2017-12-17     NaN     NaN    Blue\n",
       "12     12  2017-12-17     NaN     NaN  Yellow"
      ]
     },
     "execution_count": 233,
     "metadata": {},
     "output_type": "execute_result"
    }
   ],
   "source": [
    "stock.reset_index()"
   ]
  },
  {
   "cell_type": "code",
   "execution_count": 234,
   "metadata": {},
   "outputs": [
    {
     "data": {
      "text/html": [
       "<div>\n",
       "<style>\n",
       "    .dataframe thead tr:only-child th {\n",
       "        text-align: right;\n",
       "    }\n",
       "\n",
       "    .dataframe thead th {\n",
       "        text-align: left;\n",
       "    }\n",
       "\n",
       "    .dataframe tbody tr th {\n",
       "        vertical-align: top;\n",
       "    }\n",
       "</style>\n",
       "<table border=\"1\" class=\"dataframe\">\n",
       "  <thead>\n",
       "    <tr style=\"text-align: right;\">\n",
       "      <th></th>\n",
       "      <th>open</th>\n",
       "      <th>close</th>\n",
       "    </tr>\n",
       "  </thead>\n",
       "  <tbody>\n",
       "    <tr>\n",
       "      <th>count</th>\n",
       "      <td>10.000000</td>\n",
       "      <td>10.000000</td>\n",
       "    </tr>\n",
       "    <tr>\n",
       "      <th>mean</th>\n",
       "      <td>640.849000</td>\n",
       "      <td>642.876000</td>\n",
       "    </tr>\n",
       "    <tr>\n",
       "      <th>std</th>\n",
       "      <td>19.205074</td>\n",
       "      <td>17.414331</td>\n",
       "    </tr>\n",
       "    <tr>\n",
       "      <th>min</th>\n",
       "      <td>615.420000</td>\n",
       "      <td>616.690000</td>\n",
       "    </tr>\n",
       "    <tr>\n",
       "      <th>25%</th>\n",
       "      <td>626.462500</td>\n",
       "      <td>628.607500</td>\n",
       "    </tr>\n",
       "    <tr>\n",
       "      <th>50%</th>\n",
       "      <td>632.750000</td>\n",
       "      <td>644.475000</td>\n",
       "    </tr>\n",
       "    <tr>\n",
       "      <th>75%</th>\n",
       "      <td>657.772500</td>\n",
       "      <td>652.995000</td>\n",
       "    </tr>\n",
       "    <tr>\n",
       "      <th>max</th>\n",
       "      <td>669.980000</td>\n",
       "      <td>668.200000</td>\n",
       "    </tr>\n",
       "  </tbody>\n",
       "</table>\n",
       "</div>"
      ],
      "text/plain": [
       "             open       close\n",
       "count   10.000000   10.000000\n",
       "mean   640.849000  642.876000\n",
       "std     19.205074   17.414331\n",
       "min    615.420000  616.690000\n",
       "25%    626.462500  628.607500\n",
       "50%    632.750000  644.475000\n",
       "75%    657.772500  652.995000\n",
       "max    669.980000  668.200000"
      ]
     },
     "execution_count": 234,
     "metadata": {},
     "output_type": "execute_result"
    }
   ],
   "source": [
    "stock.describe()"
   ]
  },
  {
   "cell_type": "code",
   "execution_count": 235,
   "metadata": {},
   "outputs": [
    {
     "data": {
      "text/plain": [
       "626.46250000000009"
      ]
     },
     "execution_count": 235,
     "metadata": {},
     "output_type": "execute_result"
    }
   ],
   "source": [
    "stock.describe().loc['25%', 'open']"
   ]
  },
  {
   "cell_type": "code",
   "execution_count": 240,
   "metadata": {},
   "outputs": [
    {
     "data": {
      "text/plain": [
       "first     100\n",
       "second     20\n",
       "Name: cal, dtype: int64"
      ]
     },
     "execution_count": 240,
     "metadata": {},
     "output_type": "execute_result"
    }
   ],
   "source": [
    "cal = pd.Series([100, 20], index=['first', 'second'], name='cal')\n",
    "cal"
   ]
  },
  {
   "cell_type": "code",
   "execution_count": 245,
   "metadata": {},
   "outputs": [
    {
     "data": {
      "text/plain": [
       "Blue          NaN\n",
       "Yellow        NaN\n",
       "first     66400.0\n",
       "first     65499.0\n",
       "first     61542.0\n",
       "first     63150.0\n",
       "first     63400.0\n",
       "first     62395.0\n",
       "fouth         NaN\n",
       "second    13399.6\n",
       "second    12499.0\n",
       "third         NaN\n",
       "NaN           NaN\n",
       "dtype: float64"
      ]
     },
     "execution_count": 245,
     "metadata": {},
     "output_type": "execute_result"
    }
   ],
   "source": [
    "stock.set_index('label').open*cal"
   ]
  },
  {
   "cell_type": "markdown",
   "metadata": {},
   "source": [
    "# How to select rows and columns from DataFrame?\n",
    "\n",
    "``` python\n",
    "DataFrame.loc[]\n",
    "DataFrame.iloc[]\n",
    "DataFrame.ix[]\n",
    "```"
   ]
  },
  {
   "cell_type": "code",
   "execution_count": 251,
   "metadata": {},
   "outputs": [
    {
     "data": {
      "text/html": [
       "<div>\n",
       "<style>\n",
       "    .dataframe thead tr:only-child th {\n",
       "        text-align: right;\n",
       "    }\n",
       "\n",
       "    .dataframe thead th {\n",
       "        text-align: left;\n",
       "    }\n",
       "\n",
       "    .dataframe tbody tr th {\n",
       "        vertical-align: top;\n",
       "    }\n",
       "</style>\n",
       "<table border=\"1\" class=\"dataframe\">\n",
       "  <thead>\n",
       "    <tr style=\"text-align: right;\">\n",
       "      <th></th>\n",
       "      <th>date</th>\n",
       "      <th>open</th>\n",
       "      <th>close</th>\n",
       "      <th>label</th>\n",
       "    </tr>\n",
       "  </thead>\n",
       "  <tbody>\n",
       "    <tr>\n",
       "      <th>0</th>\n",
       "      <td>2017-12-15</td>\n",
       "      <td>664.00</td>\n",
       "      <td>653.60</td>\n",
       "      <td>first</td>\n",
       "    </tr>\n",
       "    <tr>\n",
       "      <th>1</th>\n",
       "      <td>2017-12-14</td>\n",
       "      <td>669.98</td>\n",
       "      <td>664.68</td>\n",
       "      <td>second</td>\n",
       "    </tr>\n",
       "    <tr>\n",
       "      <th>2</th>\n",
       "      <td>2017-12-13</td>\n",
       "      <td>654.99</td>\n",
       "      <td>668.20</td>\n",
       "      <td>first</td>\n",
       "    </tr>\n",
       "  </tbody>\n",
       "</table>\n",
       "</div>"
      ],
      "text/plain": [
       "         date    open   close   label\n",
       "0  2017-12-15  664.00  653.60   first\n",
       "1  2017-12-14  669.98  664.68  second\n",
       "2  2017-12-13  654.99  668.20   first"
      ]
     },
     "execution_count": 251,
     "metadata": {},
     "output_type": "execute_result"
    }
   ],
   "source": [
    "# inclusive of 2\n",
    "stock.loc[0:2, :]"
   ]
  },
  {
   "cell_type": "code",
   "execution_count": 253,
   "metadata": {
    "scrolled": true
   },
   "outputs": [
    {
     "data": {
      "text/html": [
       "<div>\n",
       "<style>\n",
       "    .dataframe thead tr:only-child th {\n",
       "        text-align: right;\n",
       "    }\n",
       "\n",
       "    .dataframe thead th {\n",
       "        text-align: left;\n",
       "    }\n",
       "\n",
       "    .dataframe tbody tr th {\n",
       "        vertical-align: top;\n",
       "    }\n",
       "</style>\n",
       "<table border=\"1\" class=\"dataframe\">\n",
       "  <thead>\n",
       "    <tr style=\"text-align: right;\">\n",
       "      <th></th>\n",
       "      <th>date</th>\n",
       "      <th>open</th>\n",
       "      <th>close</th>\n",
       "    </tr>\n",
       "  </thead>\n",
       "  <tbody>\n",
       "    <tr>\n",
       "      <th>0</th>\n",
       "      <td>2017-12-15</td>\n",
       "      <td>664.00</td>\n",
       "      <td>653.60</td>\n",
       "    </tr>\n",
       "    <tr>\n",
       "      <th>1</th>\n",
       "      <td>2017-12-14</td>\n",
       "      <td>669.98</td>\n",
       "      <td>664.68</td>\n",
       "    </tr>\n",
       "    <tr>\n",
       "      <th>2</th>\n",
       "      <td>2017-12-13</td>\n",
       "      <td>654.99</td>\n",
       "      <td>668.20</td>\n",
       "    </tr>\n",
       "    <tr>\n",
       "      <th>3</th>\n",
       "      <td>2017-12-12</td>\n",
       "      <td>658.70</td>\n",
       "      <td>651.18</td>\n",
       "    </tr>\n",
       "    <tr>\n",
       "      <th>4</th>\n",
       "      <td>2017-12-11</td>\n",
       "      <td>631.00</td>\n",
       "      <td>651.00</td>\n",
       "    </tr>\n",
       "    <tr>\n",
       "      <th>5</th>\n",
       "      <td>2017-12-08</td>\n",
       "      <td>615.42</td>\n",
       "      <td>627.16</td>\n",
       "    </tr>\n",
       "    <tr>\n",
       "      <th>6</th>\n",
       "      <td>2017-12-07</td>\n",
       "      <td>624.95</td>\n",
       "      <td>616.69</td>\n",
       "    </tr>\n",
       "    <tr>\n",
       "      <th>7</th>\n",
       "      <td>2017-12-06</td>\n",
       "      <td>631.50</td>\n",
       "      <td>625.35</td>\n",
       "    </tr>\n",
       "    <tr>\n",
       "      <th>8</th>\n",
       "      <td>2017-12-05</td>\n",
       "      <td>634.00</td>\n",
       "      <td>632.95</td>\n",
       "    </tr>\n",
       "    <tr>\n",
       "      <th>9</th>\n",
       "      <td>2017-12-04</td>\n",
       "      <td>623.95</td>\n",
       "      <td>637.95</td>\n",
       "    </tr>\n",
       "    <tr>\n",
       "      <th>10</th>\n",
       "      <td>2017-12-17</td>\n",
       "      <td>NaN</td>\n",
       "      <td>NaN</td>\n",
       "    </tr>\n",
       "    <tr>\n",
       "      <th>11</th>\n",
       "      <td>2017-12-17</td>\n",
       "      <td>NaN</td>\n",
       "      <td>NaN</td>\n",
       "    </tr>\n",
       "    <tr>\n",
       "      <th>12</th>\n",
       "      <td>2017-12-17</td>\n",
       "      <td>NaN</td>\n",
       "      <td>NaN</td>\n",
       "    </tr>\n",
       "  </tbody>\n",
       "</table>\n",
       "</div>"
      ],
      "text/plain": [
       "          date    open   close\n",
       "0   2017-12-15  664.00  653.60\n",
       "1   2017-12-14  669.98  664.68\n",
       "2   2017-12-13  654.99  668.20\n",
       "3   2017-12-12  658.70  651.18\n",
       "4   2017-12-11  631.00  651.00\n",
       "5   2017-12-08  615.42  627.16\n",
       "6   2017-12-07  624.95  616.69\n",
       "7   2017-12-06  631.50  625.35\n",
       "8   2017-12-05  634.00  632.95\n",
       "9   2017-12-04  623.95  637.95\n",
       "10  2017-12-17     NaN     NaN\n",
       "11  2017-12-17     NaN     NaN\n",
       "12  2017-12-17     NaN     NaN"
      ]
     },
     "execution_count": 253,
     "metadata": {},
     "output_type": "execute_result"
    }
   ],
   "source": [
    "stock.loc[:, 'date':'close']"
   ]
  },
  {
   "cell_type": "code",
   "execution_count": 255,
   "metadata": {},
   "outputs": [
    {
     "data": {
      "text/html": [
       "<div>\n",
       "<style>\n",
       "    .dataframe thead tr:only-child th {\n",
       "        text-align: right;\n",
       "    }\n",
       "\n",
       "    .dataframe thead th {\n",
       "        text-align: left;\n",
       "    }\n",
       "\n",
       "    .dataframe tbody tr th {\n",
       "        vertical-align: top;\n",
       "    }\n",
       "</style>\n",
       "<table border=\"1\" class=\"dataframe\">\n",
       "  <thead>\n",
       "    <tr style=\"text-align: right;\">\n",
       "      <th></th>\n",
       "      <th>date</th>\n",
       "      <th>open</th>\n",
       "      <th>close</th>\n",
       "      <th>label</th>\n",
       "    </tr>\n",
       "  </thead>\n",
       "  <tbody>\n",
       "    <tr>\n",
       "      <th>0</th>\n",
       "      <td>2017-12-15</td>\n",
       "      <td>664.00</td>\n",
       "      <td>653.60</td>\n",
       "      <td>first</td>\n",
       "    </tr>\n",
       "    <tr>\n",
       "      <th>2</th>\n",
       "      <td>2017-12-13</td>\n",
       "      <td>654.99</td>\n",
       "      <td>668.20</td>\n",
       "      <td>first</td>\n",
       "    </tr>\n",
       "    <tr>\n",
       "      <th>5</th>\n",
       "      <td>2017-12-08</td>\n",
       "      <td>615.42</td>\n",
       "      <td>627.16</td>\n",
       "      <td>first</td>\n",
       "    </tr>\n",
       "    <tr>\n",
       "      <th>7</th>\n",
       "      <td>2017-12-06</td>\n",
       "      <td>631.50</td>\n",
       "      <td>625.35</td>\n",
       "      <td>first</td>\n",
       "    </tr>\n",
       "    <tr>\n",
       "      <th>8</th>\n",
       "      <td>2017-12-05</td>\n",
       "      <td>634.00</td>\n",
       "      <td>632.95</td>\n",
       "      <td>first</td>\n",
       "    </tr>\n",
       "    <tr>\n",
       "      <th>9</th>\n",
       "      <td>2017-12-04</td>\n",
       "      <td>623.95</td>\n",
       "      <td>637.95</td>\n",
       "      <td>first</td>\n",
       "    </tr>\n",
       "  </tbody>\n",
       "</table>\n",
       "</div>"
      ],
      "text/plain": [
       "         date    open   close  label\n",
       "0  2017-12-15  664.00  653.60  first\n",
       "2  2017-12-13  654.99  668.20  first\n",
       "5  2017-12-08  615.42  627.16  first\n",
       "7  2017-12-06  631.50  625.35  first\n",
       "8  2017-12-05  634.00  632.95  first\n",
       "9  2017-12-04  623.95  637.95  first"
      ]
     },
     "execution_count": 255,
     "metadata": {},
     "output_type": "execute_result"
    }
   ],
   "source": [
    "stock.loc[stock.label=='first',:]"
   ]
  },
  {
   "cell_type": "code",
   "execution_count": 256,
   "metadata": {},
   "outputs": [
    {
     "data": {
      "text/html": [
       "<div>\n",
       "<style>\n",
       "    .dataframe thead tr:only-child th {\n",
       "        text-align: right;\n",
       "    }\n",
       "\n",
       "    .dataframe thead th {\n",
       "        text-align: left;\n",
       "    }\n",
       "\n",
       "    .dataframe tbody tr th {\n",
       "        vertical-align: top;\n",
       "    }\n",
       "</style>\n",
       "<table border=\"1\" class=\"dataframe\">\n",
       "  <thead>\n",
       "    <tr style=\"text-align: right;\">\n",
       "      <th></th>\n",
       "      <th>date</th>\n",
       "      <th>open</th>\n",
       "      <th>close</th>\n",
       "      <th>label</th>\n",
       "    </tr>\n",
       "  </thead>\n",
       "  <tbody>\n",
       "    <tr>\n",
       "      <th>0</th>\n",
       "      <td>2017-12-15</td>\n",
       "      <td>664.00</td>\n",
       "      <td>653.60</td>\n",
       "      <td>first</td>\n",
       "    </tr>\n",
       "    <tr>\n",
       "      <th>2</th>\n",
       "      <td>2017-12-13</td>\n",
       "      <td>654.99</td>\n",
       "      <td>668.20</td>\n",
       "      <td>first</td>\n",
       "    </tr>\n",
       "    <tr>\n",
       "      <th>5</th>\n",
       "      <td>2017-12-08</td>\n",
       "      <td>615.42</td>\n",
       "      <td>627.16</td>\n",
       "      <td>first</td>\n",
       "    </tr>\n",
       "    <tr>\n",
       "      <th>7</th>\n",
       "      <td>2017-12-06</td>\n",
       "      <td>631.50</td>\n",
       "      <td>625.35</td>\n",
       "      <td>first</td>\n",
       "    </tr>\n",
       "    <tr>\n",
       "      <th>8</th>\n",
       "      <td>2017-12-05</td>\n",
       "      <td>634.00</td>\n",
       "      <td>632.95</td>\n",
       "      <td>first</td>\n",
       "    </tr>\n",
       "    <tr>\n",
       "      <th>9</th>\n",
       "      <td>2017-12-04</td>\n",
       "      <td>623.95</td>\n",
       "      <td>637.95</td>\n",
       "      <td>first</td>\n",
       "    </tr>\n",
       "  </tbody>\n",
       "</table>\n",
       "</div>"
      ],
      "text/plain": [
       "         date    open   close  label\n",
       "0  2017-12-15  664.00  653.60  first\n",
       "2  2017-12-13  654.99  668.20  first\n",
       "5  2017-12-08  615.42  627.16  first\n",
       "7  2017-12-06  631.50  625.35  first\n",
       "8  2017-12-05  634.00  632.95  first\n",
       "9  2017-12-04  623.95  637.95  first"
      ]
     },
     "execution_count": 256,
     "metadata": {},
     "output_type": "execute_result"
    }
   ],
   "source": [
    "stock[stock.label == 'first']"
   ]
  },
  {
   "cell_type": "code",
   "execution_count": 257,
   "metadata": {},
   "outputs": [
    {
     "data": {
      "text/plain": [
       "0    664.00\n",
       "2    654.99\n",
       "5    615.42\n",
       "7    631.50\n",
       "8    634.00\n",
       "9    623.95\n",
       "Name: open, dtype: float64"
      ]
     },
     "execution_count": 257,
     "metadata": {},
     "output_type": "execute_result"
    }
   ],
   "source": [
    "stock.loc[stock.label=='first','open']"
   ]
  },
  {
   "cell_type": "code",
   "execution_count": 259,
   "metadata": {},
   "outputs": [
    {
     "data": {
      "text/html": [
       "<div>\n",
       "<style>\n",
       "    .dataframe thead tr:only-child th {\n",
       "        text-align: right;\n",
       "    }\n",
       "\n",
       "    .dataframe thead th {\n",
       "        text-align: left;\n",
       "    }\n",
       "\n",
       "    .dataframe tbody tr th {\n",
       "        vertical-align: top;\n",
       "    }\n",
       "</style>\n",
       "<table border=\"1\" class=\"dataframe\">\n",
       "  <thead>\n",
       "    <tr style=\"text-align: right;\">\n",
       "      <th></th>\n",
       "      <th>open</th>\n",
       "      <th>close</th>\n",
       "      <th>label</th>\n",
       "    </tr>\n",
       "  </thead>\n",
       "  <tbody>\n",
       "    <tr>\n",
       "      <th>0</th>\n",
       "      <td>664.00</td>\n",
       "      <td>653.60</td>\n",
       "      <td>first</td>\n",
       "    </tr>\n",
       "    <tr>\n",
       "      <th>1</th>\n",
       "      <td>669.98</td>\n",
       "      <td>664.68</td>\n",
       "      <td>second</td>\n",
       "    </tr>\n",
       "    <tr>\n",
       "      <th>2</th>\n",
       "      <td>654.99</td>\n",
       "      <td>668.20</td>\n",
       "      <td>first</td>\n",
       "    </tr>\n",
       "    <tr>\n",
       "      <th>3</th>\n",
       "      <td>658.70</td>\n",
       "      <td>651.18</td>\n",
       "      <td>third</td>\n",
       "    </tr>\n",
       "    <tr>\n",
       "      <th>4</th>\n",
       "      <td>631.00</td>\n",
       "      <td>651.00</td>\n",
       "      <td>fouth</td>\n",
       "    </tr>\n",
       "    <tr>\n",
       "      <th>5</th>\n",
       "      <td>615.42</td>\n",
       "      <td>627.16</td>\n",
       "      <td>first</td>\n",
       "    </tr>\n",
       "    <tr>\n",
       "      <th>6</th>\n",
       "      <td>624.95</td>\n",
       "      <td>616.69</td>\n",
       "      <td>second</td>\n",
       "    </tr>\n",
       "    <tr>\n",
       "      <th>7</th>\n",
       "      <td>631.50</td>\n",
       "      <td>625.35</td>\n",
       "      <td>first</td>\n",
       "    </tr>\n",
       "    <tr>\n",
       "      <th>8</th>\n",
       "      <td>634.00</td>\n",
       "      <td>632.95</td>\n",
       "      <td>first</td>\n",
       "    </tr>\n",
       "    <tr>\n",
       "      <th>9</th>\n",
       "      <td>623.95</td>\n",
       "      <td>637.95</td>\n",
       "      <td>first</td>\n",
       "    </tr>\n",
       "    <tr>\n",
       "      <th>10</th>\n",
       "      <td>NaN</td>\n",
       "      <td>NaN</td>\n",
       "      <td>NaN</td>\n",
       "    </tr>\n",
       "    <tr>\n",
       "      <th>11</th>\n",
       "      <td>NaN</td>\n",
       "      <td>NaN</td>\n",
       "      <td>Blue</td>\n",
       "    </tr>\n",
       "    <tr>\n",
       "      <th>12</th>\n",
       "      <td>NaN</td>\n",
       "      <td>NaN</td>\n",
       "      <td>Yellow</td>\n",
       "    </tr>\n",
       "  </tbody>\n",
       "</table>\n",
       "</div>"
      ],
      "text/plain": [
       "      open   close   label\n",
       "0   664.00  653.60   first\n",
       "1   669.98  664.68  second\n",
       "2   654.99  668.20   first\n",
       "3   658.70  651.18   third\n",
       "4   631.00  651.00   fouth\n",
       "5   615.42  627.16   first\n",
       "6   624.95  616.69  second\n",
       "7   631.50  625.35   first\n",
       "8   634.00  632.95   first\n",
       "9   623.95  637.95   first\n",
       "10     NaN     NaN     NaN\n",
       "11     NaN     NaN    Blue\n",
       "12     NaN     NaN  Yellow"
      ]
     },
     "execution_count": 259,
     "metadata": {},
     "output_type": "execute_result"
    }
   ],
   "source": [
    "# exclusive on the end side, use index position\n",
    "stock.iloc[:,1:4]"
   ]
  },
  {
   "cell_type": "code",
   "execution_count": 260,
   "metadata": {},
   "outputs": [
    {
     "data": {
      "text/html": [
       "<div>\n",
       "<style>\n",
       "    .dataframe thead tr:only-child th {\n",
       "        text-align: right;\n",
       "    }\n",
       "\n",
       "    .dataframe thead th {\n",
       "        text-align: left;\n",
       "    }\n",
       "\n",
       "    .dataframe tbody tr th {\n",
       "        vertical-align: top;\n",
       "    }\n",
       "</style>\n",
       "<table border=\"1\" class=\"dataframe\">\n",
       "  <thead>\n",
       "    <tr style=\"text-align: right;\">\n",
       "      <th></th>\n",
       "      <th>open</th>\n",
       "      <th>close</th>\n",
       "    </tr>\n",
       "  </thead>\n",
       "  <tbody>\n",
       "    <tr>\n",
       "      <th>0</th>\n",
       "      <td>664.00</td>\n",
       "      <td>653.60</td>\n",
       "    </tr>\n",
       "    <tr>\n",
       "      <th>1</th>\n",
       "      <td>669.98</td>\n",
       "      <td>664.68</td>\n",
       "    </tr>\n",
       "    <tr>\n",
       "      <th>2</th>\n",
       "      <td>654.99</td>\n",
       "      <td>668.20</td>\n",
       "    </tr>\n",
       "    <tr>\n",
       "      <th>3</th>\n",
       "      <td>658.70</td>\n",
       "      <td>651.18</td>\n",
       "    </tr>\n",
       "    <tr>\n",
       "      <th>4</th>\n",
       "      <td>631.00</td>\n",
       "      <td>651.00</td>\n",
       "    </tr>\n",
       "    <tr>\n",
       "      <th>5</th>\n",
       "      <td>615.42</td>\n",
       "      <td>627.16</td>\n",
       "    </tr>\n",
       "    <tr>\n",
       "      <th>6</th>\n",
       "      <td>624.95</td>\n",
       "      <td>616.69</td>\n",
       "    </tr>\n",
       "    <tr>\n",
       "      <th>7</th>\n",
       "      <td>631.50</td>\n",
       "      <td>625.35</td>\n",
       "    </tr>\n",
       "    <tr>\n",
       "      <th>8</th>\n",
       "      <td>634.00</td>\n",
       "      <td>632.95</td>\n",
       "    </tr>\n",
       "    <tr>\n",
       "      <th>9</th>\n",
       "      <td>623.95</td>\n",
       "      <td>637.95</td>\n",
       "    </tr>\n",
       "    <tr>\n",
       "      <th>10</th>\n",
       "      <td>NaN</td>\n",
       "      <td>NaN</td>\n",
       "    </tr>\n",
       "    <tr>\n",
       "      <th>11</th>\n",
       "      <td>NaN</td>\n",
       "      <td>NaN</td>\n",
       "    </tr>\n",
       "    <tr>\n",
       "      <th>12</th>\n",
       "      <td>NaN</td>\n",
       "      <td>NaN</td>\n",
       "    </tr>\n",
       "  </tbody>\n",
       "</table>\n",
       "</div>"
      ],
      "text/plain": [
       "      open   close\n",
       "0   664.00  653.60\n",
       "1   669.98  664.68\n",
       "2   654.99  668.20\n",
       "3   658.70  651.18\n",
       "4   631.00  651.00\n",
       "5   615.42  627.16\n",
       "6   624.95  616.69\n",
       "7   631.50  625.35\n",
       "8   634.00  632.95\n",
       "9   623.95  637.95\n",
       "10     NaN     NaN\n",
       "11     NaN     NaN\n",
       "12     NaN     NaN"
      ]
     },
     "execution_count": 260,
     "metadata": {},
     "output_type": "execute_result"
    }
   ],
   "source": [
    "stock[['open','close']]\n",
    "# recommand stock.loc[:, ['open', 'close']]"
   ]
  },
  {
   "cell_type": "code",
   "execution_count": 261,
   "metadata": {
    "scrolled": true
   },
   "outputs": [
    {
     "data": {
      "text/html": [
       "<div>\n",
       "<style>\n",
       "    .dataframe thead tr:only-child th {\n",
       "        text-align: right;\n",
       "    }\n",
       "\n",
       "    .dataframe thead th {\n",
       "        text-align: left;\n",
       "    }\n",
       "\n",
       "    .dataframe tbody tr th {\n",
       "        vertical-align: top;\n",
       "    }\n",
       "</style>\n",
       "<table border=\"1\" class=\"dataframe\">\n",
       "  <thead>\n",
       "    <tr style=\"text-align: right;\">\n",
       "      <th></th>\n",
       "      <th>open</th>\n",
       "      <th>close</th>\n",
       "    </tr>\n",
       "  </thead>\n",
       "  <tbody>\n",
       "    <tr>\n",
       "      <th>0</th>\n",
       "      <td>664.00</td>\n",
       "      <td>653.60</td>\n",
       "    </tr>\n",
       "    <tr>\n",
       "      <th>1</th>\n",
       "      <td>669.98</td>\n",
       "      <td>664.68</td>\n",
       "    </tr>\n",
       "    <tr>\n",
       "      <th>2</th>\n",
       "      <td>654.99</td>\n",
       "      <td>668.20</td>\n",
       "    </tr>\n",
       "    <tr>\n",
       "      <th>3</th>\n",
       "      <td>658.70</td>\n",
       "      <td>651.18</td>\n",
       "    </tr>\n",
       "    <tr>\n",
       "      <th>4</th>\n",
       "      <td>631.00</td>\n",
       "      <td>651.00</td>\n",
       "    </tr>\n",
       "    <tr>\n",
       "      <th>5</th>\n",
       "      <td>615.42</td>\n",
       "      <td>627.16</td>\n",
       "    </tr>\n",
       "    <tr>\n",
       "      <th>6</th>\n",
       "      <td>624.95</td>\n",
       "      <td>616.69</td>\n",
       "    </tr>\n",
       "    <tr>\n",
       "      <th>7</th>\n",
       "      <td>631.50</td>\n",
       "      <td>625.35</td>\n",
       "    </tr>\n",
       "    <tr>\n",
       "      <th>8</th>\n",
       "      <td>634.00</td>\n",
       "      <td>632.95</td>\n",
       "    </tr>\n",
       "    <tr>\n",
       "      <th>9</th>\n",
       "      <td>623.95</td>\n",
       "      <td>637.95</td>\n",
       "    </tr>\n",
       "    <tr>\n",
       "      <th>10</th>\n",
       "      <td>NaN</td>\n",
       "      <td>NaN</td>\n",
       "    </tr>\n",
       "    <tr>\n",
       "      <th>11</th>\n",
       "      <td>NaN</td>\n",
       "      <td>NaN</td>\n",
       "    </tr>\n",
       "    <tr>\n",
       "      <th>12</th>\n",
       "      <td>NaN</td>\n",
       "      <td>NaN</td>\n",
       "    </tr>\n",
       "  </tbody>\n",
       "</table>\n",
       "</div>"
      ],
      "text/plain": [
       "      open   close\n",
       "0   664.00  653.60\n",
       "1   669.98  664.68\n",
       "2   654.99  668.20\n",
       "3   658.70  651.18\n",
       "4   631.00  651.00\n",
       "5   615.42  627.16\n",
       "6   624.95  616.69\n",
       "7   631.50  625.35\n",
       "8   634.00  632.95\n",
       "9   623.95  637.95\n",
       "10     NaN     NaN\n",
       "11     NaN     NaN\n",
       "12     NaN     NaN"
      ]
     },
     "execution_count": 261,
     "metadata": {},
     "output_type": "execute_result"
    }
   ],
   "source": [
    "stock.loc[:, ['open', 'close']]"
   ]
  },
  {
   "cell_type": "code",
   "execution_count": 262,
   "metadata": {},
   "outputs": [
    {
     "data": {
      "text/plain": [
       "'2017-12-15'"
      ]
     },
     "execution_count": 262,
     "metadata": {},
     "output_type": "execute_result"
    }
   ],
   "source": [
    "stock.ix[0, 'date']"
   ]
  },
  {
   "cell_type": "markdown",
   "metadata": {},
   "source": [
    "# pandas category\n",
    "\n",
    "``` python\n",
    "DataFrame.info(memory_usage='deep')\n",
    "DataFrame.memory_usage(deep = True)\n",
    "DataFrame['col_name'] = DataFrame.col_name.astype('category')\n",
    "```"
   ]
  },
  {
   "cell_type": "code",
   "execution_count": 264,
   "metadata": {},
   "outputs": [
    {
     "name": "stdout",
     "output_type": "stream",
     "text": [
      "<class 'pandas.core.frame.DataFrame'>\n",
      "Int64Index: 13 entries, 0 to 12\n",
      "Data columns (total 4 columns):\n",
      "date     13 non-null object\n",
      "open     10 non-null float64\n",
      "close    10 non-null float64\n",
      "label    12 non-null object\n",
      "dtypes: float64(2), object(2)\n",
      "memory usage: 1.1+ KB\n"
     ]
    }
   ],
   "source": [
    "stock.info()"
   ]
  },
  {
   "cell_type": "code",
   "execution_count": 263,
   "metadata": {},
   "outputs": [
    {
     "data": {
      "text/plain": [
       "'2017-12-15'"
      ]
     },
     "execution_count": 263,
     "metadata": {},
     "output_type": "execute_result"
    }
   ],
   "source": [
    "stock.ix[0, 0]"
   ]
  },
  {
   "cell_type": "code",
   "execution_count": 265,
   "metadata": {},
   "outputs": [
    {
     "name": "stdout",
     "output_type": "stream",
     "text": [
      "<class 'pandas.core.frame.DataFrame'>\n",
      "Int64Index: 13 entries, 0 to 12\n",
      "Data columns (total 4 columns):\n",
      "date     13 non-null object\n",
      "open     10 non-null float64\n",
      "close    10 non-null float64\n",
      "label    12 non-null object\n",
      "dtypes: float64(2), object(2)\n",
      "memory usage: 2.7 KB\n"
     ]
    }
   ],
   "source": [
    "stock.info(memory_usage = 'deep')"
   ]
  },
  {
   "cell_type": "code",
   "execution_count": 267,
   "metadata": {},
   "outputs": [
    {
     "data": {
      "text/plain": [
       "Index    744\n",
       "date     893\n",
       "open     104\n",
       "close    104\n",
       "label    926\n",
       "dtype: int64"
      ]
     },
     "execution_count": 267,
     "metadata": {},
     "output_type": "execute_result"
    }
   ],
   "source": [
    "stock.memory_usage(deep = True)"
   ]
  },
  {
   "cell_type": "code",
   "execution_count": 268,
   "metadata": {},
   "outputs": [
    {
     "data": {
      "text/plain": [
       "2771"
      ]
     },
     "execution_count": 268,
     "metadata": {},
     "output_type": "execute_result"
    }
   ],
   "source": [
    "stock.memory_usage(deep = True).sum()"
   ]
  },
  {
   "cell_type": "code",
   "execution_count": 271,
   "metadata": {},
   "outputs": [
    {
     "data": {
      "text/html": [
       "<div>\n",
       "<style>\n",
       "    .dataframe thead tr:only-child th {\n",
       "        text-align: right;\n",
       "    }\n",
       "\n",
       "    .dataframe thead th {\n",
       "        text-align: left;\n",
       "    }\n",
       "\n",
       "    .dataframe tbody tr th {\n",
       "        vertical-align: top;\n",
       "    }\n",
       "</style>\n",
       "<table border=\"1\" class=\"dataframe\">\n",
       "  <thead>\n",
       "    <tr style=\"text-align: right;\">\n",
       "      <th></th>\n",
       "      <th>date</th>\n",
       "      <th>open</th>\n",
       "      <th>close</th>\n",
       "      <th>label</th>\n",
       "    </tr>\n",
       "  </thead>\n",
       "  <tbody>\n",
       "    <tr>\n",
       "      <th>0</th>\n",
       "      <td>2017-12-15</td>\n",
       "      <td>664.00</td>\n",
       "      <td>653.60</td>\n",
       "      <td>first</td>\n",
       "    </tr>\n",
       "    <tr>\n",
       "      <th>1</th>\n",
       "      <td>2017-12-14</td>\n",
       "      <td>669.98</td>\n",
       "      <td>664.68</td>\n",
       "      <td>second</td>\n",
       "    </tr>\n",
       "    <tr>\n",
       "      <th>2</th>\n",
       "      <td>2017-12-13</td>\n",
       "      <td>654.99</td>\n",
       "      <td>668.20</td>\n",
       "      <td>first</td>\n",
       "    </tr>\n",
       "    <tr>\n",
       "      <th>3</th>\n",
       "      <td>2017-12-12</td>\n",
       "      <td>658.70</td>\n",
       "      <td>651.18</td>\n",
       "      <td>third</td>\n",
       "    </tr>\n",
       "    <tr>\n",
       "      <th>4</th>\n",
       "      <td>2017-12-11</td>\n",
       "      <td>631.00</td>\n",
       "      <td>651.00</td>\n",
       "      <td>fouth</td>\n",
       "    </tr>\n",
       "    <tr>\n",
       "      <th>5</th>\n",
       "      <td>2017-12-08</td>\n",
       "      <td>615.42</td>\n",
       "      <td>627.16</td>\n",
       "      <td>first</td>\n",
       "    </tr>\n",
       "    <tr>\n",
       "      <th>6</th>\n",
       "      <td>2017-12-07</td>\n",
       "      <td>624.95</td>\n",
       "      <td>616.69</td>\n",
       "      <td>second</td>\n",
       "    </tr>\n",
       "    <tr>\n",
       "      <th>7</th>\n",
       "      <td>2017-12-06</td>\n",
       "      <td>631.50</td>\n",
       "      <td>625.35</td>\n",
       "      <td>first</td>\n",
       "    </tr>\n",
       "    <tr>\n",
       "      <th>8</th>\n",
       "      <td>2017-12-05</td>\n",
       "      <td>634.00</td>\n",
       "      <td>632.95</td>\n",
       "      <td>first</td>\n",
       "    </tr>\n",
       "    <tr>\n",
       "      <th>9</th>\n",
       "      <td>2017-12-04</td>\n",
       "      <td>623.95</td>\n",
       "      <td>637.95</td>\n",
       "      <td>first</td>\n",
       "    </tr>\n",
       "    <tr>\n",
       "      <th>11</th>\n",
       "      <td>2017-12-17</td>\n",
       "      <td>NaN</td>\n",
       "      <td>NaN</td>\n",
       "      <td>Blue</td>\n",
       "    </tr>\n",
       "    <tr>\n",
       "      <th>12</th>\n",
       "      <td>2017-12-17</td>\n",
       "      <td>NaN</td>\n",
       "      <td>NaN</td>\n",
       "      <td>Yellow</td>\n",
       "    </tr>\n",
       "  </tbody>\n",
       "</table>\n",
       "</div>"
      ],
      "text/plain": [
       "          date    open   close   label\n",
       "0   2017-12-15  664.00  653.60   first\n",
       "1   2017-12-14  669.98  664.68  second\n",
       "2   2017-12-13  654.99  668.20   first\n",
       "3   2017-12-12  658.70  651.18   third\n",
       "4   2017-12-11  631.00  651.00   fouth\n",
       "5   2017-12-08  615.42  627.16   first\n",
       "6   2017-12-07  624.95  616.69  second\n",
       "7   2017-12-06  631.50  625.35   first\n",
       "8   2017-12-05  634.00  632.95   first\n",
       "9   2017-12-04  623.95  637.95   first\n",
       "11  2017-12-17     NaN     NaN    Blue\n",
       "12  2017-12-17     NaN     NaN  Yellow"
      ]
     },
     "execution_count": 271,
     "metadata": {},
     "output_type": "execute_result"
    }
   ],
   "source": [
    "stock.dropna(subset=['label'], how='any', inplace=True)\n",
    "stock"
   ]
  },
  {
   "cell_type": "code",
   "execution_count": 272,
   "metadata": {},
   "outputs": [
    {
     "data": {
      "text/plain": [
       "array(['first', 'second', 'third', 'fouth', 'Blue', 'Yellow'], dtype=object)"
      ]
     },
     "execution_count": 272,
     "metadata": {},
     "output_type": "execute_result"
    }
   ],
   "source": [
    "stock.label.unique()"
   ]
  },
  {
   "cell_type": "code",
   "execution_count": 273,
   "metadata": {
    "collapsed": true
   },
   "outputs": [],
   "source": [
    "stock['label'] = stock.label.astype('category')"
   ]
  },
  {
   "cell_type": "code",
   "execution_count": 274,
   "metadata": {},
   "outputs": [
    {
     "data": {
      "text/plain": [
       "date       object\n",
       "open      float64\n",
       "close     float64\n",
       "label    category\n",
       "dtype: object"
      ]
     },
     "execution_count": 274,
     "metadata": {},
     "output_type": "execute_result"
    }
   ],
   "source": [
    "stock.dtypes"
   ]
  },
  {
   "cell_type": "code",
   "execution_count": 275,
   "metadata": {},
   "outputs": [
    {
     "data": {
      "text/plain": [
       "0     first\n",
       "1    second\n",
       "2     first\n",
       "3     third\n",
       "4     fouth\n",
       "Name: label, dtype: category\n",
       "Categories (6, object): [Blue, Yellow, first, fouth, second, third]"
      ]
     },
     "execution_count": 275,
     "metadata": {},
     "output_type": "execute_result"
    }
   ],
   "source": [
    "stock.label.head()"
   ]
  },
  {
   "cell_type": "code",
   "execution_count": 276,
   "metadata": {},
   "outputs": [
    {
     "data": {
      "text/plain": [
       "0    2\n",
       "1    4\n",
       "2    2\n",
       "3    5\n",
       "4    3\n",
       "dtype: int8"
      ]
     },
     "execution_count": 276,
     "metadata": {},
     "output_type": "execute_result"
    }
   ],
   "source": [
    "stock.label.cat.codes.head()"
   ]
  },
  {
   "cell_type": "code",
   "execution_count": 277,
   "metadata": {},
   "outputs": [
    {
     "data": {
      "text/plain": [
       "Index    416\n",
       "date     804\n",
       "open      96\n",
       "close     96\n",
       "label    619\n",
       "dtype: int64"
      ]
     },
     "execution_count": 277,
     "metadata": {},
     "output_type": "execute_result"
    }
   ],
   "source": [
    "stock.memory_usage(deep = True)"
   ]
  },
  {
   "cell_type": "code",
   "execution_count": 279,
   "metadata": {
    "collapsed": true
   },
   "outputs": [],
   "source": [
    "df = pd.DataFrame({'ID':[100,101,102,103], 'quality':['good','very good','good','excellent']})"
   ]
  },
  {
   "cell_type": "code",
   "execution_count": 280,
   "metadata": {},
   "outputs": [
    {
     "data": {
      "text/html": [
       "<div>\n",
       "<style>\n",
       "    .dataframe thead tr:only-child th {\n",
       "        text-align: right;\n",
       "    }\n",
       "\n",
       "    .dataframe thead th {\n",
       "        text-align: left;\n",
       "    }\n",
       "\n",
       "    .dataframe tbody tr th {\n",
       "        vertical-align: top;\n",
       "    }\n",
       "</style>\n",
       "<table border=\"1\" class=\"dataframe\">\n",
       "  <thead>\n",
       "    <tr style=\"text-align: right;\">\n",
       "      <th></th>\n",
       "      <th>ID</th>\n",
       "      <th>quality</th>\n",
       "    </tr>\n",
       "  </thead>\n",
       "  <tbody>\n",
       "    <tr>\n",
       "      <th>0</th>\n",
       "      <td>100</td>\n",
       "      <td>good</td>\n",
       "    </tr>\n",
       "    <tr>\n",
       "      <th>1</th>\n",
       "      <td>101</td>\n",
       "      <td>very good</td>\n",
       "    </tr>\n",
       "    <tr>\n",
       "      <th>2</th>\n",
       "      <td>102</td>\n",
       "      <td>good</td>\n",
       "    </tr>\n",
       "    <tr>\n",
       "      <th>3</th>\n",
       "      <td>103</td>\n",
       "      <td>excellent</td>\n",
       "    </tr>\n",
       "  </tbody>\n",
       "</table>\n",
       "</div>"
      ],
      "text/plain": [
       "    ID    quality\n",
       "0  100       good\n",
       "1  101  very good\n",
       "2  102       good\n",
       "3  103  excellent"
      ]
     },
     "execution_count": 280,
     "metadata": {},
     "output_type": "execute_result"
    }
   ],
   "source": [
    "df"
   ]
  },
  {
   "cell_type": "code",
   "execution_count": 281,
   "metadata": {},
   "outputs": [
    {
     "data": {
      "text/html": [
       "<div>\n",
       "<style>\n",
       "    .dataframe thead tr:only-child th {\n",
       "        text-align: right;\n",
       "    }\n",
       "\n",
       "    .dataframe thead th {\n",
       "        text-align: left;\n",
       "    }\n",
       "\n",
       "    .dataframe tbody tr th {\n",
       "        vertical-align: top;\n",
       "    }\n",
       "</style>\n",
       "<table border=\"1\" class=\"dataframe\">\n",
       "  <thead>\n",
       "    <tr style=\"text-align: right;\">\n",
       "      <th></th>\n",
       "      <th>ID</th>\n",
       "      <th>quality</th>\n",
       "    </tr>\n",
       "  </thead>\n",
       "  <tbody>\n",
       "    <tr>\n",
       "      <th>3</th>\n",
       "      <td>103</td>\n",
       "      <td>excellent</td>\n",
       "    </tr>\n",
       "    <tr>\n",
       "      <th>0</th>\n",
       "      <td>100</td>\n",
       "      <td>good</td>\n",
       "    </tr>\n",
       "    <tr>\n",
       "      <th>2</th>\n",
       "      <td>102</td>\n",
       "      <td>good</td>\n",
       "    </tr>\n",
       "    <tr>\n",
       "      <th>1</th>\n",
       "      <td>101</td>\n",
       "      <td>very good</td>\n",
       "    </tr>\n",
       "  </tbody>\n",
       "</table>\n",
       "</div>"
      ],
      "text/plain": [
       "    ID    quality\n",
       "3  103  excellent\n",
       "0  100       good\n",
       "2  102       good\n",
       "1  101  very good"
      ]
     },
     "execution_count": 281,
     "metadata": {},
     "output_type": "execute_result"
    }
   ],
   "source": [
    "df.sort_values('quality')"
   ]
  },
  {
   "cell_type": "code",
   "execution_count": 282,
   "metadata": {
    "collapsed": true
   },
   "outputs": [],
   "source": [
    "df['quality'] = df.quality.astype('category',categories=['good','very good','excellent'], ordered=True)"
   ]
  },
  {
   "cell_type": "code",
   "execution_count": 283,
   "metadata": {},
   "outputs": [
    {
     "data": {
      "text/plain": [
       "0         good\n",
       "1    very good\n",
       "2         good\n",
       "3    excellent\n",
       "Name: quality, dtype: category\n",
       "Categories (3, object): [good < very good < excellent]"
      ]
     },
     "execution_count": 283,
     "metadata": {},
     "output_type": "execute_result"
    }
   ],
   "source": [
    "df.quality"
   ]
  },
  {
   "cell_type": "code",
   "execution_count": 285,
   "metadata": {},
   "outputs": [
    {
     "data": {
      "text/html": [
       "<div>\n",
       "<style>\n",
       "    .dataframe thead tr:only-child th {\n",
       "        text-align: right;\n",
       "    }\n",
       "\n",
       "    .dataframe thead th {\n",
       "        text-align: left;\n",
       "    }\n",
       "\n",
       "    .dataframe tbody tr th {\n",
       "        vertical-align: top;\n",
       "    }\n",
       "</style>\n",
       "<table border=\"1\" class=\"dataframe\">\n",
       "  <thead>\n",
       "    <tr style=\"text-align: right;\">\n",
       "      <th></th>\n",
       "      <th>ID</th>\n",
       "      <th>quality</th>\n",
       "    </tr>\n",
       "  </thead>\n",
       "  <tbody>\n",
       "    <tr>\n",
       "      <th>1</th>\n",
       "      <td>101</td>\n",
       "      <td>very good</td>\n",
       "    </tr>\n",
       "    <tr>\n",
       "      <th>3</th>\n",
       "      <td>103</td>\n",
       "      <td>excellent</td>\n",
       "    </tr>\n",
       "  </tbody>\n",
       "</table>\n",
       "</div>"
      ],
      "text/plain": [
       "    ID    quality\n",
       "1  101  very good\n",
       "3  103  excellent"
      ]
     },
     "execution_count": 285,
     "metadata": {},
     "output_type": "execute_result"
    }
   ],
   "source": [
    "df.loc[df.quality > 'good', :]"
   ]
  },
  {
   "cell_type": "code",
   "execution_count": 286,
   "metadata": {},
   "outputs": [
    {
     "data": {
      "text/html": [
       "<div>\n",
       "<style>\n",
       "    .dataframe thead tr:only-child th {\n",
       "        text-align: right;\n",
       "    }\n",
       "\n",
       "    .dataframe thead th {\n",
       "        text-align: left;\n",
       "    }\n",
       "\n",
       "    .dataframe tbody tr th {\n",
       "        vertical-align: top;\n",
       "    }\n",
       "</style>\n",
       "<table border=\"1\" class=\"dataframe\">\n",
       "  <thead>\n",
       "    <tr style=\"text-align: right;\">\n",
       "      <th></th>\n",
       "      <th>ID</th>\n",
       "      <th>quality</th>\n",
       "    </tr>\n",
       "  </thead>\n",
       "  <tbody>\n",
       "    <tr>\n",
       "      <th>0</th>\n",
       "      <td>100</td>\n",
       "      <td>good</td>\n",
       "    </tr>\n",
       "    <tr>\n",
       "      <th>1</th>\n",
       "      <td>101</td>\n",
       "      <td>very good</td>\n",
       "    </tr>\n",
       "    <tr>\n",
       "      <th>2</th>\n",
       "      <td>102</td>\n",
       "      <td>good</td>\n",
       "    </tr>\n",
       "    <tr>\n",
       "      <th>3</th>\n",
       "      <td>103</td>\n",
       "      <td>excellent</td>\n",
       "    </tr>\n",
       "  </tbody>\n",
       "</table>\n",
       "</div>"
      ],
      "text/plain": [
       "    ID    quality\n",
       "0  100       good\n",
       "1  101  very good\n",
       "2  102       good\n",
       "3  103  excellent"
      ]
     },
     "execution_count": 286,
     "metadata": {},
     "output_type": "execute_result"
    }
   ],
   "source": [
    "df.to_pickle('test.pkl')\n",
    "pd.read_pickle('test.pkl')"
   ]
  },
  {
   "cell_type": "code",
   "execution_count": 289,
   "metadata": {},
   "outputs": [
    {
     "data": {
      "text/html": [
       "<div>\n",
       "<style>\n",
       "    .dataframe thead tr:only-child th {\n",
       "        text-align: right;\n",
       "    }\n",
       "\n",
       "    .dataframe thead th {\n",
       "        text-align: left;\n",
       "    }\n",
       "\n",
       "    .dataframe tbody tr th {\n",
       "        vertical-align: top;\n",
       "    }\n",
       "</style>\n",
       "<table border=\"1\" class=\"dataframe\">\n",
       "  <thead>\n",
       "    <tr style=\"text-align: right;\">\n",
       "      <th></th>\n",
       "      <th>ID</th>\n",
       "      <th>quality</th>\n",
       "    </tr>\n",
       "  </thead>\n",
       "  <tbody>\n",
       "    <tr>\n",
       "      <th>1</th>\n",
       "      <td>101</td>\n",
       "      <td>very good</td>\n",
       "    </tr>\n",
       "  </tbody>\n",
       "</table>\n",
       "</div>"
      ],
      "text/plain": [
       "    ID    quality\n",
       "1  101  very good"
      ]
     },
     "execution_count": 289,
     "metadata": {},
     "output_type": "execute_result"
    }
   ],
   "source": [
    "df.sample(n=1, random_state=42)"
   ]
  },
  {
   "cell_type": "code",
   "execution_count": 292,
   "metadata": {},
   "outputs": [
    {
     "data": {
      "text/html": [
       "<div>\n",
       "<style>\n",
       "    .dataframe thead tr:only-child th {\n",
       "        text-align: right;\n",
       "    }\n",
       "\n",
       "    .dataframe thead th {\n",
       "        text-align: left;\n",
       "    }\n",
       "\n",
       "    .dataframe tbody tr th {\n",
       "        vertical-align: top;\n",
       "    }\n",
       "</style>\n",
       "<table border=\"1\" class=\"dataframe\">\n",
       "  <thead>\n",
       "    <tr style=\"text-align: right;\">\n",
       "      <th></th>\n",
       "      <th>ID</th>\n",
       "      <th>quality</th>\n",
       "    </tr>\n",
       "  </thead>\n",
       "  <tbody>\n",
       "    <tr>\n",
       "      <th>2</th>\n",
       "      <td>102</td>\n",
       "      <td>good</td>\n",
       "    </tr>\n",
       "    <tr>\n",
       "      <th>0</th>\n",
       "      <td>100</td>\n",
       "      <td>good</td>\n",
       "    </tr>\n",
       "  </tbody>\n",
       "</table>\n",
       "</div>"
      ],
      "text/plain": [
       "    ID quality\n",
       "2  102    good\n",
       "0  100    good"
      ]
     },
     "execution_count": 292,
     "metadata": {},
     "output_type": "execute_result"
    }
   ],
   "source": [
    "df.sample(frac=0.5, random_state=99)"
   ]
  },
  {
   "cell_type": "code",
   "execution_count": 293,
   "metadata": {
    "collapsed": true
   },
   "outputs": [],
   "source": [
    "train = df.sample(frac=0.5, random_state=99)\n",
    "test = df.loc[~df.index.isin(train.index),:]"
   ]
  },
  {
   "cell_type": "code",
   "execution_count": 294,
   "metadata": {},
   "outputs": [
    {
     "data": {
      "text/html": [
       "<div>\n",
       "<style>\n",
       "    .dataframe thead tr:only-child th {\n",
       "        text-align: right;\n",
       "    }\n",
       "\n",
       "    .dataframe thead th {\n",
       "        text-align: left;\n",
       "    }\n",
       "\n",
       "    .dataframe tbody tr th {\n",
       "        vertical-align: top;\n",
       "    }\n",
       "</style>\n",
       "<table border=\"1\" class=\"dataframe\">\n",
       "  <thead>\n",
       "    <tr style=\"text-align: right;\">\n",
       "      <th></th>\n",
       "      <th>ID</th>\n",
       "      <th>quality</th>\n",
       "    </tr>\n",
       "  </thead>\n",
       "  <tbody>\n",
       "    <tr>\n",
       "      <th>2</th>\n",
       "      <td>102</td>\n",
       "      <td>good</td>\n",
       "    </tr>\n",
       "    <tr>\n",
       "      <th>0</th>\n",
       "      <td>100</td>\n",
       "      <td>good</td>\n",
       "    </tr>\n",
       "  </tbody>\n",
       "</table>\n",
       "</div>"
      ],
      "text/plain": [
       "    ID quality\n",
       "2  102    good\n",
       "0  100    good"
      ]
     },
     "execution_count": 294,
     "metadata": {},
     "output_type": "execute_result"
    }
   ],
   "source": [
    "train"
   ]
  },
  {
   "cell_type": "code",
   "execution_count": 295,
   "metadata": {},
   "outputs": [
    {
     "data": {
      "text/html": [
       "<div>\n",
       "<style>\n",
       "    .dataframe thead tr:only-child th {\n",
       "        text-align: right;\n",
       "    }\n",
       "\n",
       "    .dataframe thead th {\n",
       "        text-align: left;\n",
       "    }\n",
       "\n",
       "    .dataframe tbody tr th {\n",
       "        vertical-align: top;\n",
       "    }\n",
       "</style>\n",
       "<table border=\"1\" class=\"dataframe\">\n",
       "  <thead>\n",
       "    <tr style=\"text-align: right;\">\n",
       "      <th></th>\n",
       "      <th>ID</th>\n",
       "      <th>quality</th>\n",
       "    </tr>\n",
       "  </thead>\n",
       "  <tbody>\n",
       "    <tr>\n",
       "      <th>1</th>\n",
       "      <td>101</td>\n",
       "      <td>very good</td>\n",
       "    </tr>\n",
       "    <tr>\n",
       "      <th>3</th>\n",
       "      <td>103</td>\n",
       "      <td>excellent</td>\n",
       "    </tr>\n",
       "  </tbody>\n",
       "</table>\n",
       "</div>"
      ],
      "text/plain": [
       "    ID    quality\n",
       "1  101  very good\n",
       "3  103  excellent"
      ]
     },
     "execution_count": 295,
     "metadata": {},
     "output_type": "execute_result"
    }
   ],
   "source": [
    "test"
   ]
  },
  {
   "cell_type": "markdown",
   "metadata": {},
   "source": [
    "# How do I create dummy variables in pandas?"
   ]
  },
  {
   "cell_type": "code",
   "execution_count": 296,
   "metadata": {},
   "outputs": [
    {
     "data": {
      "text/html": [
       "<div>\n",
       "<style>\n",
       "    .dataframe thead tr:only-child th {\n",
       "        text-align: right;\n",
       "    }\n",
       "\n",
       "    .dataframe thead th {\n",
       "        text-align: left;\n",
       "    }\n",
       "\n",
       "    .dataframe tbody tr th {\n",
       "        vertical-align: top;\n",
       "    }\n",
       "</style>\n",
       "<table border=\"1\" class=\"dataframe\">\n",
       "  <thead>\n",
       "    <tr style=\"text-align: right;\">\n",
       "      <th></th>\n",
       "      <th>date</th>\n",
       "      <th>open</th>\n",
       "      <th>close</th>\n",
       "      <th>label</th>\n",
       "    </tr>\n",
       "  </thead>\n",
       "  <tbody>\n",
       "    <tr>\n",
       "      <th>0</th>\n",
       "      <td>2017-12-15</td>\n",
       "      <td>664.00</td>\n",
       "      <td>653.60</td>\n",
       "      <td>first</td>\n",
       "    </tr>\n",
       "    <tr>\n",
       "      <th>1</th>\n",
       "      <td>2017-12-14</td>\n",
       "      <td>669.98</td>\n",
       "      <td>664.68</td>\n",
       "      <td>second</td>\n",
       "    </tr>\n",
       "    <tr>\n",
       "      <th>2</th>\n",
       "      <td>2017-12-13</td>\n",
       "      <td>654.99</td>\n",
       "      <td>668.20</td>\n",
       "      <td>first</td>\n",
       "    </tr>\n",
       "    <tr>\n",
       "      <th>3</th>\n",
       "      <td>2017-12-12</td>\n",
       "      <td>658.70</td>\n",
       "      <td>651.18</td>\n",
       "      <td>third</td>\n",
       "    </tr>\n",
       "    <tr>\n",
       "      <th>4</th>\n",
       "      <td>2017-12-11</td>\n",
       "      <td>631.00</td>\n",
       "      <td>651.00</td>\n",
       "      <td>fouth</td>\n",
       "    </tr>\n",
       "    <tr>\n",
       "      <th>5</th>\n",
       "      <td>2017-12-08</td>\n",
       "      <td>615.42</td>\n",
       "      <td>627.16</td>\n",
       "      <td>first</td>\n",
       "    </tr>\n",
       "    <tr>\n",
       "      <th>6</th>\n",
       "      <td>2017-12-07</td>\n",
       "      <td>624.95</td>\n",
       "      <td>616.69</td>\n",
       "      <td>second</td>\n",
       "    </tr>\n",
       "    <tr>\n",
       "      <th>7</th>\n",
       "      <td>2017-12-06</td>\n",
       "      <td>631.50</td>\n",
       "      <td>625.35</td>\n",
       "      <td>first</td>\n",
       "    </tr>\n",
       "    <tr>\n",
       "      <th>8</th>\n",
       "      <td>2017-12-05</td>\n",
       "      <td>634.00</td>\n",
       "      <td>632.95</td>\n",
       "      <td>first</td>\n",
       "    </tr>\n",
       "    <tr>\n",
       "      <th>9</th>\n",
       "      <td>2017-12-04</td>\n",
       "      <td>623.95</td>\n",
       "      <td>637.95</td>\n",
       "      <td>first</td>\n",
       "    </tr>\n",
       "    <tr>\n",
       "      <th>11</th>\n",
       "      <td>2017-12-17</td>\n",
       "      <td>NaN</td>\n",
       "      <td>NaN</td>\n",
       "      <td>Blue</td>\n",
       "    </tr>\n",
       "    <tr>\n",
       "      <th>12</th>\n",
       "      <td>2017-12-17</td>\n",
       "      <td>NaN</td>\n",
       "      <td>NaN</td>\n",
       "      <td>Yellow</td>\n",
       "    </tr>\n",
       "  </tbody>\n",
       "</table>\n",
       "</div>"
      ],
      "text/plain": [
       "          date    open   close   label\n",
       "0   2017-12-15  664.00  653.60   first\n",
       "1   2017-12-14  669.98  664.68  second\n",
       "2   2017-12-13  654.99  668.20   first\n",
       "3   2017-12-12  658.70  651.18   third\n",
       "4   2017-12-11  631.00  651.00   fouth\n",
       "5   2017-12-08  615.42  627.16   first\n",
       "6   2017-12-07  624.95  616.69  second\n",
       "7   2017-12-06  631.50  625.35   first\n",
       "8   2017-12-05  634.00  632.95   first\n",
       "9   2017-12-04  623.95  637.95   first\n",
       "11  2017-12-17     NaN     NaN    Blue\n",
       "12  2017-12-17     NaN     NaN  Yellow"
      ]
     },
     "execution_count": 296,
     "metadata": {},
     "output_type": "execute_result"
    }
   ],
   "source": [
    "stock"
   ]
  },
  {
   "cell_type": "code",
   "execution_count": 297,
   "metadata": {
    "collapsed": true
   },
   "outputs": [],
   "source": [
    "stock.dropna(how='any', inplace=True)"
   ]
  },
  {
   "cell_type": "code",
   "execution_count": 308,
   "metadata": {},
   "outputs": [
    {
     "data": {
      "text/plain": [
       "0     True\n",
       "1     True\n",
       "2     True\n",
       "3     True\n",
       "4    False\n",
       "5    False\n",
       "6    False\n",
       "7    False\n",
       "8    False\n",
       "9    False\n",
       "Name: open, dtype: bool"
      ]
     },
     "execution_count": 308,
     "metadata": {},
     "output_type": "execute_result"
    }
   ],
   "source": [
    "stock.open>635"
   ]
  },
  {
   "cell_type": "code",
   "execution_count": 309,
   "metadata": {},
   "outputs": [
    {
     "data": {
      "text/html": [
       "<div>\n",
       "<style>\n",
       "    .dataframe thead tr:only-child th {\n",
       "        text-align: right;\n",
       "    }\n",
       "\n",
       "    .dataframe thead th {\n",
       "        text-align: left;\n",
       "    }\n",
       "\n",
       "    .dataframe tbody tr th {\n",
       "        vertical-align: top;\n",
       "    }\n",
       "</style>\n",
       "<table border=\"1\" class=\"dataframe\">\n",
       "  <thead>\n",
       "    <tr style=\"text-align: right;\">\n",
       "      <th></th>\n",
       "      <th>date</th>\n",
       "      <th>open</th>\n",
       "      <th>close</th>\n",
       "      <th>label</th>\n",
       "      <th>price</th>\n",
       "      <th>set_price</th>\n",
       "    </tr>\n",
       "  </thead>\n",
       "  <tbody>\n",
       "    <tr>\n",
       "      <th>0</th>\n",
       "      <td>2017-12-15</td>\n",
       "      <td>664.00</td>\n",
       "      <td>653.60</td>\n",
       "      <td>first</td>\n",
       "      <td>High</td>\n",
       "      <td>1</td>\n",
       "    </tr>\n",
       "    <tr>\n",
       "      <th>1</th>\n",
       "      <td>2017-12-14</td>\n",
       "      <td>669.98</td>\n",
       "      <td>664.68</td>\n",
       "      <td>second</td>\n",
       "      <td>High</td>\n",
       "      <td>1</td>\n",
       "    </tr>\n",
       "    <tr>\n",
       "      <th>2</th>\n",
       "      <td>2017-12-13</td>\n",
       "      <td>654.99</td>\n",
       "      <td>668.20</td>\n",
       "      <td>first</td>\n",
       "      <td>High</td>\n",
       "      <td>1</td>\n",
       "    </tr>\n",
       "    <tr>\n",
       "      <th>3</th>\n",
       "      <td>2017-12-12</td>\n",
       "      <td>658.70</td>\n",
       "      <td>651.18</td>\n",
       "      <td>third</td>\n",
       "      <td>High</td>\n",
       "      <td>1</td>\n",
       "    </tr>\n",
       "    <tr>\n",
       "      <th>4</th>\n",
       "      <td>2017-12-11</td>\n",
       "      <td>631.00</td>\n",
       "      <td>651.00</td>\n",
       "      <td>fouth</td>\n",
       "      <td>Low</td>\n",
       "      <td>0</td>\n",
       "    </tr>\n",
       "    <tr>\n",
       "      <th>5</th>\n",
       "      <td>2017-12-08</td>\n",
       "      <td>615.42</td>\n",
       "      <td>627.16</td>\n",
       "      <td>first</td>\n",
       "      <td>Low</td>\n",
       "      <td>0</td>\n",
       "    </tr>\n",
       "    <tr>\n",
       "      <th>6</th>\n",
       "      <td>2017-12-07</td>\n",
       "      <td>624.95</td>\n",
       "      <td>616.69</td>\n",
       "      <td>second</td>\n",
       "      <td>Low</td>\n",
       "      <td>0</td>\n",
       "    </tr>\n",
       "    <tr>\n",
       "      <th>7</th>\n",
       "      <td>2017-12-06</td>\n",
       "      <td>631.50</td>\n",
       "      <td>625.35</td>\n",
       "      <td>first</td>\n",
       "      <td>Low</td>\n",
       "      <td>0</td>\n",
       "    </tr>\n",
       "    <tr>\n",
       "      <th>8</th>\n",
       "      <td>2017-12-05</td>\n",
       "      <td>634.00</td>\n",
       "      <td>632.95</td>\n",
       "      <td>first</td>\n",
       "      <td>Low</td>\n",
       "      <td>0</td>\n",
       "    </tr>\n",
       "    <tr>\n",
       "      <th>9</th>\n",
       "      <td>2017-12-04</td>\n",
       "      <td>623.95</td>\n",
       "      <td>637.95</td>\n",
       "      <td>first</td>\n",
       "      <td>Low</td>\n",
       "      <td>0</td>\n",
       "    </tr>\n",
       "  </tbody>\n",
       "</table>\n",
       "</div>"
      ],
      "text/plain": [
       "         date    open   close   label price  set_price\n",
       "0  2017-12-15  664.00  653.60   first  High          1\n",
       "1  2017-12-14  669.98  664.68  second  High          1\n",
       "2  2017-12-13  654.99  668.20   first  High          1\n",
       "3  2017-12-12  658.70  651.18   third  High          1\n",
       "4  2017-12-11  631.00  651.00   fouth   Low          0\n",
       "5  2017-12-08  615.42  627.16   first   Low          0\n",
       "6  2017-12-07  624.95  616.69  second   Low          0\n",
       "7  2017-12-06  631.50  625.35   first   Low          0\n",
       "8  2017-12-05  634.00  632.95   first   Low          0\n",
       "9  2017-12-04  623.95  637.95   first   Low          0"
      ]
     },
     "execution_count": 309,
     "metadata": {},
     "output_type": "execute_result"
    }
   ],
   "source": [
    "stock['price'] = ['High', 'High', 'High', 'High', 'Low', 'Low', 'Low', 'Low', 'Low', 'Low']\n",
    "stock['set_price'] = stock.price.map({'High':1, 'Low':0})\n",
    "stock"
   ]
  },
  {
   "cell_type": "code",
   "execution_count": 314,
   "metadata": {},
   "outputs": [
    {
     "data": {
      "text/html": [
       "<div>\n",
       "<style>\n",
       "    .dataframe thead tr:only-child th {\n",
       "        text-align: right;\n",
       "    }\n",
       "\n",
       "    .dataframe thead th {\n",
       "        text-align: left;\n",
       "    }\n",
       "\n",
       "    .dataframe tbody tr th {\n",
       "        vertical-align: top;\n",
       "    }\n",
       "</style>\n",
       "<table border=\"1\" class=\"dataframe\">\n",
       "  <thead>\n",
       "    <tr style=\"text-align: right;\">\n",
       "      <th></th>\n",
       "      <th>date</th>\n",
       "      <th>open</th>\n",
       "      <th>close</th>\n",
       "      <th>label</th>\n",
       "      <th>price</th>\n",
       "      <th>set_price</th>\n",
       "      <th>Is _High</th>\n",
       "    </tr>\n",
       "  </thead>\n",
       "  <tbody>\n",
       "    <tr>\n",
       "      <th>0</th>\n",
       "      <td>2017-12-15</td>\n",
       "      <td>664.00</td>\n",
       "      <td>653.60</td>\n",
       "      <td>first</td>\n",
       "      <td>High</td>\n",
       "      <td>1</td>\n",
       "      <td>1</td>\n",
       "    </tr>\n",
       "    <tr>\n",
       "      <th>1</th>\n",
       "      <td>2017-12-14</td>\n",
       "      <td>669.98</td>\n",
       "      <td>664.68</td>\n",
       "      <td>second</td>\n",
       "      <td>High</td>\n",
       "      <td>1</td>\n",
       "      <td>1</td>\n",
       "    </tr>\n",
       "    <tr>\n",
       "      <th>2</th>\n",
       "      <td>2017-12-13</td>\n",
       "      <td>654.99</td>\n",
       "      <td>668.20</td>\n",
       "      <td>first</td>\n",
       "      <td>High</td>\n",
       "      <td>1</td>\n",
       "      <td>1</td>\n",
       "    </tr>\n",
       "    <tr>\n",
       "      <th>3</th>\n",
       "      <td>2017-12-12</td>\n",
       "      <td>658.70</td>\n",
       "      <td>651.18</td>\n",
       "      <td>third</td>\n",
       "      <td>High</td>\n",
       "      <td>1</td>\n",
       "      <td>1</td>\n",
       "    </tr>\n",
       "    <tr>\n",
       "      <th>4</th>\n",
       "      <td>2017-12-11</td>\n",
       "      <td>631.00</td>\n",
       "      <td>651.00</td>\n",
       "      <td>fouth</td>\n",
       "      <td>Low</td>\n",
       "      <td>0</td>\n",
       "      <td>0</td>\n",
       "    </tr>\n",
       "    <tr>\n",
       "      <th>5</th>\n",
       "      <td>2017-12-08</td>\n",
       "      <td>615.42</td>\n",
       "      <td>627.16</td>\n",
       "      <td>first</td>\n",
       "      <td>Low</td>\n",
       "      <td>0</td>\n",
       "      <td>0</td>\n",
       "    </tr>\n",
       "    <tr>\n",
       "      <th>6</th>\n",
       "      <td>2017-12-07</td>\n",
       "      <td>624.95</td>\n",
       "      <td>616.69</td>\n",
       "      <td>second</td>\n",
       "      <td>Low</td>\n",
       "      <td>0</td>\n",
       "      <td>0</td>\n",
       "    </tr>\n",
       "    <tr>\n",
       "      <th>7</th>\n",
       "      <td>2017-12-06</td>\n",
       "      <td>631.50</td>\n",
       "      <td>625.35</td>\n",
       "      <td>first</td>\n",
       "      <td>Low</td>\n",
       "      <td>0</td>\n",
       "      <td>0</td>\n",
       "    </tr>\n",
       "    <tr>\n",
       "      <th>8</th>\n",
       "      <td>2017-12-05</td>\n",
       "      <td>634.00</td>\n",
       "      <td>632.95</td>\n",
       "      <td>first</td>\n",
       "      <td>Low</td>\n",
       "      <td>0</td>\n",
       "      <td>0</td>\n",
       "    </tr>\n",
       "    <tr>\n",
       "      <th>9</th>\n",
       "      <td>2017-12-04</td>\n",
       "      <td>623.95</td>\n",
       "      <td>637.95</td>\n",
       "      <td>first</td>\n",
       "      <td>Low</td>\n",
       "      <td>0</td>\n",
       "      <td>0</td>\n",
       "    </tr>\n",
       "  </tbody>\n",
       "</table>\n",
       "</div>"
      ],
      "text/plain": [
       "         date    open   close   label price  set_price  Is _High\n",
       "0  2017-12-15  664.00  653.60   first  High          1         1\n",
       "1  2017-12-14  669.98  664.68  second  High          1         1\n",
       "2  2017-12-13  654.99  668.20   first  High          1         1\n",
       "3  2017-12-12  658.70  651.18   third  High          1         1\n",
       "4  2017-12-11  631.00  651.00   fouth   Low          0         0\n",
       "5  2017-12-08  615.42  627.16   first   Low          0         0\n",
       "6  2017-12-07  624.95  616.69  second   Low          0         0\n",
       "7  2017-12-06  631.50  625.35   first   Low          0         0\n",
       "8  2017-12-05  634.00  632.95   first   Low          0         0\n",
       "9  2017-12-04  623.95  637.95   first   Low          0         0"
      ]
     },
     "execution_count": 314,
     "metadata": {},
     "output_type": "execute_result"
    }
   ],
   "source": [
    "set_price = pd.get_dummies(stock.price, prefix='Is ').iloc[:,0]\n",
    "stock = pd.concat([stock, set_price], axis=1)\n",
    "stock"
   ]
  },
  {
   "cell_type": "code",
   "execution_count": 315,
   "metadata": {},
   "outputs": [
    {
     "data": {
      "text/html": [
       "<div>\n",
       "<style>\n",
       "    .dataframe thead tr:only-child th {\n",
       "        text-align: right;\n",
       "    }\n",
       "\n",
       "    .dataframe thead th {\n",
       "        text-align: left;\n",
       "    }\n",
       "\n",
       "    .dataframe tbody tr th {\n",
       "        vertical-align: top;\n",
       "    }\n",
       "</style>\n",
       "<table border=\"1\" class=\"dataframe\">\n",
       "  <thead>\n",
       "    <tr style=\"text-align: right;\">\n",
       "      <th></th>\n",
       "      <th>date</th>\n",
       "      <th>open</th>\n",
       "      <th>close</th>\n",
       "      <th>label</th>\n",
       "      <th>set_price</th>\n",
       "      <th>Is _High</th>\n",
       "      <th>price_Low</th>\n",
       "    </tr>\n",
       "  </thead>\n",
       "  <tbody>\n",
       "    <tr>\n",
       "      <th>0</th>\n",
       "      <td>2017-12-15</td>\n",
       "      <td>664.00</td>\n",
       "      <td>653.60</td>\n",
       "      <td>first</td>\n",
       "      <td>1</td>\n",
       "      <td>1</td>\n",
       "      <td>0</td>\n",
       "    </tr>\n",
       "    <tr>\n",
       "      <th>1</th>\n",
       "      <td>2017-12-14</td>\n",
       "      <td>669.98</td>\n",
       "      <td>664.68</td>\n",
       "      <td>second</td>\n",
       "      <td>1</td>\n",
       "      <td>1</td>\n",
       "      <td>0</td>\n",
       "    </tr>\n",
       "    <tr>\n",
       "      <th>2</th>\n",
       "      <td>2017-12-13</td>\n",
       "      <td>654.99</td>\n",
       "      <td>668.20</td>\n",
       "      <td>first</td>\n",
       "      <td>1</td>\n",
       "      <td>1</td>\n",
       "      <td>0</td>\n",
       "    </tr>\n",
       "    <tr>\n",
       "      <th>3</th>\n",
       "      <td>2017-12-12</td>\n",
       "      <td>658.70</td>\n",
       "      <td>651.18</td>\n",
       "      <td>third</td>\n",
       "      <td>1</td>\n",
       "      <td>1</td>\n",
       "      <td>0</td>\n",
       "    </tr>\n",
       "    <tr>\n",
       "      <th>4</th>\n",
       "      <td>2017-12-11</td>\n",
       "      <td>631.00</td>\n",
       "      <td>651.00</td>\n",
       "      <td>fouth</td>\n",
       "      <td>0</td>\n",
       "      <td>0</td>\n",
       "      <td>1</td>\n",
       "    </tr>\n",
       "    <tr>\n",
       "      <th>5</th>\n",
       "      <td>2017-12-08</td>\n",
       "      <td>615.42</td>\n",
       "      <td>627.16</td>\n",
       "      <td>first</td>\n",
       "      <td>0</td>\n",
       "      <td>0</td>\n",
       "      <td>1</td>\n",
       "    </tr>\n",
       "    <tr>\n",
       "      <th>6</th>\n",
       "      <td>2017-12-07</td>\n",
       "      <td>624.95</td>\n",
       "      <td>616.69</td>\n",
       "      <td>second</td>\n",
       "      <td>0</td>\n",
       "      <td>0</td>\n",
       "      <td>1</td>\n",
       "    </tr>\n",
       "    <tr>\n",
       "      <th>7</th>\n",
       "      <td>2017-12-06</td>\n",
       "      <td>631.50</td>\n",
       "      <td>625.35</td>\n",
       "      <td>first</td>\n",
       "      <td>0</td>\n",
       "      <td>0</td>\n",
       "      <td>1</td>\n",
       "    </tr>\n",
       "    <tr>\n",
       "      <th>8</th>\n",
       "      <td>2017-12-05</td>\n",
       "      <td>634.00</td>\n",
       "      <td>632.95</td>\n",
       "      <td>first</td>\n",
       "      <td>0</td>\n",
       "      <td>0</td>\n",
       "      <td>1</td>\n",
       "    </tr>\n",
       "    <tr>\n",
       "      <th>9</th>\n",
       "      <td>2017-12-04</td>\n",
       "      <td>623.95</td>\n",
       "      <td>637.95</td>\n",
       "      <td>first</td>\n",
       "      <td>0</td>\n",
       "      <td>0</td>\n",
       "      <td>1</td>\n",
       "    </tr>\n",
       "  </tbody>\n",
       "</table>\n",
       "</div>"
      ],
      "text/plain": [
       "         date    open   close   label  set_price  Is _High  price_Low\n",
       "0  2017-12-15  664.00  653.60   first          1         1          0\n",
       "1  2017-12-14  669.98  664.68  second          1         1          0\n",
       "2  2017-12-13  654.99  668.20   first          1         1          0\n",
       "3  2017-12-12  658.70  651.18   third          1         1          0\n",
       "4  2017-12-11  631.00  651.00   fouth          0         0          1\n",
       "5  2017-12-08  615.42  627.16   first          0         0          1\n",
       "6  2017-12-07  624.95  616.69  second          0         0          1\n",
       "7  2017-12-06  631.50  625.35   first          0         0          1\n",
       "8  2017-12-05  634.00  632.95   first          0         0          1\n",
       "9  2017-12-04  623.95  637.95   first          0         0          1"
      ]
     },
     "execution_count": 315,
     "metadata": {},
     "output_type": "execute_result"
    }
   ],
   "source": [
    "pd.get_dummies(stock, columns=['price'],drop_first=True)"
   ]
  },
  {
   "cell_type": "markdown",
   "metadata": {},
   "source": [
    "# How do I work with dates and times in pandas?"
   ]
  },
  {
   "cell_type": "code",
   "execution_count": 317,
   "metadata": {},
   "outputs": [
    {
     "data": {
      "text/html": [
       "<div>\n",
       "<style>\n",
       "    .dataframe thead tr:only-child th {\n",
       "        text-align: right;\n",
       "    }\n",
       "\n",
       "    .dataframe thead th {\n",
       "        text-align: left;\n",
       "    }\n",
       "\n",
       "    .dataframe tbody tr th {\n",
       "        vertical-align: top;\n",
       "    }\n",
       "</style>\n",
       "<table border=\"1\" class=\"dataframe\">\n",
       "  <thead>\n",
       "    <tr style=\"text-align: right;\">\n",
       "      <th></th>\n",
       "      <th>date</th>\n",
       "      <th>open</th>\n",
       "      <th>close</th>\n",
       "      <th>label</th>\n",
       "      <th>price</th>\n",
       "      <th>set_price</th>\n",
       "      <th>Is _High</th>\n",
       "      <th>Time</th>\n",
       "    </tr>\n",
       "  </thead>\n",
       "  <tbody>\n",
       "    <tr>\n",
       "      <th>0</th>\n",
       "      <td>2017-12-15</td>\n",
       "      <td>664.00</td>\n",
       "      <td>653.60</td>\n",
       "      <td>first</td>\n",
       "      <td>High</td>\n",
       "      <td>1</td>\n",
       "      <td>1</td>\n",
       "      <td>2017-12-15</td>\n",
       "    </tr>\n",
       "    <tr>\n",
       "      <th>1</th>\n",
       "      <td>2017-12-14</td>\n",
       "      <td>669.98</td>\n",
       "      <td>664.68</td>\n",
       "      <td>second</td>\n",
       "      <td>High</td>\n",
       "      <td>1</td>\n",
       "      <td>1</td>\n",
       "      <td>2017-12-14</td>\n",
       "    </tr>\n",
       "    <tr>\n",
       "      <th>2</th>\n",
       "      <td>2017-12-13</td>\n",
       "      <td>654.99</td>\n",
       "      <td>668.20</td>\n",
       "      <td>first</td>\n",
       "      <td>High</td>\n",
       "      <td>1</td>\n",
       "      <td>1</td>\n",
       "      <td>2017-12-13</td>\n",
       "    </tr>\n",
       "    <tr>\n",
       "      <th>3</th>\n",
       "      <td>2017-12-12</td>\n",
       "      <td>658.70</td>\n",
       "      <td>651.18</td>\n",
       "      <td>third</td>\n",
       "      <td>High</td>\n",
       "      <td>1</td>\n",
       "      <td>1</td>\n",
       "      <td>2017-12-12</td>\n",
       "    </tr>\n",
       "    <tr>\n",
       "      <th>4</th>\n",
       "      <td>2017-12-11</td>\n",
       "      <td>631.00</td>\n",
       "      <td>651.00</td>\n",
       "      <td>fouth</td>\n",
       "      <td>Low</td>\n",
       "      <td>0</td>\n",
       "      <td>0</td>\n",
       "      <td>2017-12-11</td>\n",
       "    </tr>\n",
       "    <tr>\n",
       "      <th>5</th>\n",
       "      <td>2017-12-08</td>\n",
       "      <td>615.42</td>\n",
       "      <td>627.16</td>\n",
       "      <td>first</td>\n",
       "      <td>Low</td>\n",
       "      <td>0</td>\n",
       "      <td>0</td>\n",
       "      <td>2017-12-08</td>\n",
       "    </tr>\n",
       "    <tr>\n",
       "      <th>6</th>\n",
       "      <td>2017-12-07</td>\n",
       "      <td>624.95</td>\n",
       "      <td>616.69</td>\n",
       "      <td>second</td>\n",
       "      <td>Low</td>\n",
       "      <td>0</td>\n",
       "      <td>0</td>\n",
       "      <td>2017-12-07</td>\n",
       "    </tr>\n",
       "    <tr>\n",
       "      <th>7</th>\n",
       "      <td>2017-12-06</td>\n",
       "      <td>631.50</td>\n",
       "      <td>625.35</td>\n",
       "      <td>first</td>\n",
       "      <td>Low</td>\n",
       "      <td>0</td>\n",
       "      <td>0</td>\n",
       "      <td>2017-12-06</td>\n",
       "    </tr>\n",
       "    <tr>\n",
       "      <th>8</th>\n",
       "      <td>2017-12-05</td>\n",
       "      <td>634.00</td>\n",
       "      <td>632.95</td>\n",
       "      <td>first</td>\n",
       "      <td>Low</td>\n",
       "      <td>0</td>\n",
       "      <td>0</td>\n",
       "      <td>2017-12-05</td>\n",
       "    </tr>\n",
       "    <tr>\n",
       "      <th>9</th>\n",
       "      <td>2017-12-04</td>\n",
       "      <td>623.95</td>\n",
       "      <td>637.95</td>\n",
       "      <td>first</td>\n",
       "      <td>Low</td>\n",
       "      <td>0</td>\n",
       "      <td>0</td>\n",
       "      <td>2017-12-04</td>\n",
       "    </tr>\n",
       "  </tbody>\n",
       "</table>\n",
       "</div>"
      ],
      "text/plain": [
       "         date    open   close   label price  set_price  Is _High       Time\n",
       "0  2017-12-15  664.00  653.60   first  High          1         1 2017-12-15\n",
       "1  2017-12-14  669.98  664.68  second  High          1         1 2017-12-14\n",
       "2  2017-12-13  654.99  668.20   first  High          1         1 2017-12-13\n",
       "3  2017-12-12  658.70  651.18   third  High          1         1 2017-12-12\n",
       "4  2017-12-11  631.00  651.00   fouth   Low          0         0 2017-12-11\n",
       "5  2017-12-08  615.42  627.16   first   Low          0         0 2017-12-08\n",
       "6  2017-12-07  624.95  616.69  second   Low          0         0 2017-12-07\n",
       "7  2017-12-06  631.50  625.35   first   Low          0         0 2017-12-06\n",
       "8  2017-12-05  634.00  632.95   first   Low          0         0 2017-12-05\n",
       "9  2017-12-04  623.95  637.95   first   Low          0         0 2017-12-04"
      ]
     },
     "execution_count": 317,
     "metadata": {},
     "output_type": "execute_result"
    }
   ],
   "source": [
    "stock['Time'] = pd.to_datetime(stock.date)\n",
    "stock"
   ]
  },
  {
   "cell_type": "code",
   "execution_count": 319,
   "metadata": {},
   "outputs": [
    {
     "data": {
      "text/plain": [
       "0    349\n",
       "1    348\n",
       "2    347\n",
       "3    346\n",
       "4    345\n",
       "5    342\n",
       "6    341\n",
       "7    340\n",
       "8    339\n",
       "9    338\n",
       "Name: Time, dtype: int64"
      ]
     },
     "execution_count": 319,
     "metadata": {},
     "output_type": "execute_result"
    }
   ],
   "source": [
    "stock.Time.dt.dayofyear"
   ]
  },
  {
   "cell_type": "code",
   "execution_count": 320,
   "metadata": {},
   "outputs": [
    {
     "data": {
      "text/plain": [
       "0       Friday\n",
       "1     Thursday\n",
       "2    Wednesday\n",
       "3      Tuesday\n",
       "4       Monday\n",
       "5       Friday\n",
       "6     Thursday\n",
       "7    Wednesday\n",
       "8      Tuesday\n",
       "9       Monday\n",
       "Name: Time, dtype: object"
      ]
     },
     "execution_count": 320,
     "metadata": {},
     "output_type": "execute_result"
    }
   ],
   "source": [
    "stock.Time.dt.weekday_name"
   ]
  },
  {
   "cell_type": "code",
   "execution_count": 322,
   "metadata": {},
   "outputs": [
    {
     "data": {
      "text/html": [
       "<div>\n",
       "<style>\n",
       "    .dataframe thead tr:only-child th {\n",
       "        text-align: right;\n",
       "    }\n",
       "\n",
       "    .dataframe thead th {\n",
       "        text-align: left;\n",
       "    }\n",
       "\n",
       "    .dataframe tbody tr th {\n",
       "        vertical-align: top;\n",
       "    }\n",
       "</style>\n",
       "<table border=\"1\" class=\"dataframe\">\n",
       "  <thead>\n",
       "    <tr style=\"text-align: right;\">\n",
       "      <th></th>\n",
       "      <th>date</th>\n",
       "      <th>open</th>\n",
       "      <th>close</th>\n",
       "      <th>label</th>\n",
       "      <th>price</th>\n",
       "      <th>set_price</th>\n",
       "      <th>Is _High</th>\n",
       "      <th>Time</th>\n",
       "    </tr>\n",
       "  </thead>\n",
       "  <tbody>\n",
       "    <tr>\n",
       "      <th>0</th>\n",
       "      <td>2017-12-15</td>\n",
       "      <td>664.00</td>\n",
       "      <td>653.60</td>\n",
       "      <td>first</td>\n",
       "      <td>High</td>\n",
       "      <td>1</td>\n",
       "      <td>1</td>\n",
       "      <td>2017-12-15</td>\n",
       "    </tr>\n",
       "    <tr>\n",
       "      <th>1</th>\n",
       "      <td>2017-12-14</td>\n",
       "      <td>669.98</td>\n",
       "      <td>664.68</td>\n",
       "      <td>second</td>\n",
       "      <td>High</td>\n",
       "      <td>1</td>\n",
       "      <td>1</td>\n",
       "      <td>2017-12-14</td>\n",
       "    </tr>\n",
       "    <tr>\n",
       "      <th>2</th>\n",
       "      <td>2017-12-13</td>\n",
       "      <td>654.99</td>\n",
       "      <td>668.20</td>\n",
       "      <td>first</td>\n",
       "      <td>High</td>\n",
       "      <td>1</td>\n",
       "      <td>1</td>\n",
       "      <td>2017-12-13</td>\n",
       "    </tr>\n",
       "    <tr>\n",
       "      <th>3</th>\n",
       "      <td>2017-12-12</td>\n",
       "      <td>658.70</td>\n",
       "      <td>651.18</td>\n",
       "      <td>third</td>\n",
       "      <td>High</td>\n",
       "      <td>1</td>\n",
       "      <td>1</td>\n",
       "      <td>2017-12-12</td>\n",
       "    </tr>\n",
       "    <tr>\n",
       "      <th>4</th>\n",
       "      <td>2017-12-11</td>\n",
       "      <td>631.00</td>\n",
       "      <td>651.00</td>\n",
       "      <td>fouth</td>\n",
       "      <td>Low</td>\n",
       "      <td>0</td>\n",
       "      <td>0</td>\n",
       "      <td>2017-12-11</td>\n",
       "    </tr>\n",
       "  </tbody>\n",
       "</table>\n",
       "</div>"
      ],
      "text/plain": [
       "         date    open   close   label price  set_price  Is _High       Time\n",
       "0  2017-12-15  664.00  653.60   first  High          1         1 2017-12-15\n",
       "1  2017-12-14  669.98  664.68  second  High          1         1 2017-12-14\n",
       "2  2017-12-13  654.99  668.20   first  High          1         1 2017-12-13\n",
       "3  2017-12-12  658.70  651.18   third  High          1         1 2017-12-12\n",
       "4  2017-12-11  631.00  651.00   fouth   Low          0         0 2017-12-11"
      ]
     },
     "execution_count": 322,
     "metadata": {},
     "output_type": "execute_result"
    }
   ],
   "source": [
    "ts = pd.to_datetime('2017-12-08')\n",
    "stock.loc[stock.Time > ts, :]"
   ]
  },
  {
   "cell_type": "code",
   "execution_count": 323,
   "metadata": {},
   "outputs": [
    {
     "data": {
      "text/plain": [
       "Timedelta('11 days 00:00:00')"
      ]
     },
     "execution_count": 323,
     "metadata": {},
     "output_type": "execute_result"
    }
   ],
   "source": [
    "stock.Time.max()-stock.Time.min()"
   ]
  },
  {
   "cell_type": "code",
   "execution_count": 328,
   "metadata": {},
   "outputs": [
    {
     "data": {
      "text/plain": [
       "Friday       2\n",
       "Monday       2\n",
       "Thursday     2\n",
       "Tuesday      2\n",
       "Wednesday    2\n",
       "Name: Year, dtype: int64"
      ]
     },
     "execution_count": 328,
     "metadata": {},
     "output_type": "execute_result"
    }
   ],
   "source": [
    "stock.Year.value_counts().sort_index()"
   ]
  },
  {
   "cell_type": "markdown",
   "metadata": {},
   "source": [
    "# How do I find and remove duplicate rows in pandas?"
   ]
  },
  {
   "cell_type": "code",
   "execution_count": 331,
   "metadata": {},
   "outputs": [
    {
     "data": {
      "text/plain": [
       "0    False\n",
       "1    False\n",
       "2     True\n",
       "3    False\n",
       "4    False\n",
       "5     True\n",
       "6     True\n",
       "7     True\n",
       "8     True\n",
       "9     True\n",
       "Name: label, dtype: bool"
      ]
     },
     "execution_count": 331,
     "metadata": {},
     "output_type": "execute_result"
    }
   ],
   "source": [
    "stock.label.duplicated()"
   ]
  },
  {
   "cell_type": "code",
   "execution_count": 335,
   "metadata": {},
   "outputs": [
    {
     "data": {
      "text/html": [
       "<div>\n",
       "<style>\n",
       "    .dataframe thead tr:only-child th {\n",
       "        text-align: right;\n",
       "    }\n",
       "\n",
       "    .dataframe thead th {\n",
       "        text-align: left;\n",
       "    }\n",
       "\n",
       "    .dataframe tbody tr th {\n",
       "        vertical-align: top;\n",
       "    }\n",
       "</style>\n",
       "<table border=\"1\" class=\"dataframe\">\n",
       "  <thead>\n",
       "    <tr style=\"text-align: right;\">\n",
       "      <th></th>\n",
       "      <th>date</th>\n",
       "      <th>open</th>\n",
       "      <th>close</th>\n",
       "      <th>label</th>\n",
       "      <th>price</th>\n",
       "      <th>set_price</th>\n",
       "      <th>Is _High</th>\n",
       "      <th>Time</th>\n",
       "      <th>Year</th>\n",
       "    </tr>\n",
       "  </thead>\n",
       "  <tbody>\n",
       "    <tr>\n",
       "      <th>2</th>\n",
       "      <td>2017-12-13</td>\n",
       "      <td>654.99</td>\n",
       "      <td>668.20</td>\n",
       "      <td>first</td>\n",
       "      <td>High</td>\n",
       "      <td>1</td>\n",
       "      <td>1</td>\n",
       "      <td>2017-12-13</td>\n",
       "      <td>Wednesday</td>\n",
       "    </tr>\n",
       "    <tr>\n",
       "      <th>5</th>\n",
       "      <td>2017-12-08</td>\n",
       "      <td>615.42</td>\n",
       "      <td>627.16</td>\n",
       "      <td>first</td>\n",
       "      <td>Low</td>\n",
       "      <td>0</td>\n",
       "      <td>0</td>\n",
       "      <td>2017-12-08</td>\n",
       "      <td>Friday</td>\n",
       "    </tr>\n",
       "    <tr>\n",
       "      <th>6</th>\n",
       "      <td>2017-12-07</td>\n",
       "      <td>624.95</td>\n",
       "      <td>616.69</td>\n",
       "      <td>second</td>\n",
       "      <td>Low</td>\n",
       "      <td>0</td>\n",
       "      <td>0</td>\n",
       "      <td>2017-12-07</td>\n",
       "      <td>Thursday</td>\n",
       "    </tr>\n",
       "    <tr>\n",
       "      <th>7</th>\n",
       "      <td>2017-12-06</td>\n",
       "      <td>631.50</td>\n",
       "      <td>625.35</td>\n",
       "      <td>first</td>\n",
       "      <td>Low</td>\n",
       "      <td>0</td>\n",
       "      <td>0</td>\n",
       "      <td>2017-12-06</td>\n",
       "      <td>Wednesday</td>\n",
       "    </tr>\n",
       "    <tr>\n",
       "      <th>8</th>\n",
       "      <td>2017-12-05</td>\n",
       "      <td>634.00</td>\n",
       "      <td>632.95</td>\n",
       "      <td>first</td>\n",
       "      <td>Low</td>\n",
       "      <td>0</td>\n",
       "      <td>0</td>\n",
       "      <td>2017-12-05</td>\n",
       "      <td>Tuesday</td>\n",
       "    </tr>\n",
       "    <tr>\n",
       "      <th>9</th>\n",
       "      <td>2017-12-04</td>\n",
       "      <td>623.95</td>\n",
       "      <td>637.95</td>\n",
       "      <td>first</td>\n",
       "      <td>Low</td>\n",
       "      <td>0</td>\n",
       "      <td>0</td>\n",
       "      <td>2017-12-04</td>\n",
       "      <td>Monday</td>\n",
       "    </tr>\n",
       "  </tbody>\n",
       "</table>\n",
       "</div>"
      ],
      "text/plain": [
       "         date    open   close   label price  set_price  Is _High       Time  \\\n",
       "2  2017-12-13  654.99  668.20   first  High          1         1 2017-12-13   \n",
       "5  2017-12-08  615.42  627.16   first   Low          0         0 2017-12-08   \n",
       "6  2017-12-07  624.95  616.69  second   Low          0         0 2017-12-07   \n",
       "7  2017-12-06  631.50  625.35   first   Low          0         0 2017-12-06   \n",
       "8  2017-12-05  634.00  632.95   first   Low          0         0 2017-12-05   \n",
       "9  2017-12-04  623.95  637.95   first   Low          0         0 2017-12-04   \n",
       "\n",
       "        Year  \n",
       "2  Wednesday  \n",
       "5     Friday  \n",
       "6   Thursday  \n",
       "7  Wednesday  \n",
       "8    Tuesday  \n",
       "9     Monday  "
      ]
     },
     "execution_count": 335,
     "metadata": {},
     "output_type": "execute_result"
    }
   ],
   "source": [
    "stock.loc[stock.label.duplicated(keep='first'),:]"
   ]
  },
  {
   "cell_type": "code",
   "execution_count": 336,
   "metadata": {},
   "outputs": [
    {
     "data": {
      "text/html": [
       "<div>\n",
       "<style>\n",
       "    .dataframe thead tr:only-child th {\n",
       "        text-align: right;\n",
       "    }\n",
       "\n",
       "    .dataframe thead th {\n",
       "        text-align: left;\n",
       "    }\n",
       "\n",
       "    .dataframe tbody tr th {\n",
       "        vertical-align: top;\n",
       "    }\n",
       "</style>\n",
       "<table border=\"1\" class=\"dataframe\">\n",
       "  <thead>\n",
       "    <tr style=\"text-align: right;\">\n",
       "      <th></th>\n",
       "      <th>date</th>\n",
       "      <th>open</th>\n",
       "      <th>close</th>\n",
       "      <th>label</th>\n",
       "      <th>price</th>\n",
       "      <th>set_price</th>\n",
       "      <th>Is _High</th>\n",
       "      <th>Time</th>\n",
       "      <th>Year</th>\n",
       "    </tr>\n",
       "  </thead>\n",
       "  <tbody>\n",
       "    <tr>\n",
       "      <th>0</th>\n",
       "      <td>2017-12-15</td>\n",
       "      <td>664.00</td>\n",
       "      <td>653.60</td>\n",
       "      <td>first</td>\n",
       "      <td>High</td>\n",
       "      <td>1</td>\n",
       "      <td>1</td>\n",
       "      <td>2017-12-15</td>\n",
       "      <td>Friday</td>\n",
       "    </tr>\n",
       "    <tr>\n",
       "      <th>1</th>\n",
       "      <td>2017-12-14</td>\n",
       "      <td>669.98</td>\n",
       "      <td>664.68</td>\n",
       "      <td>second</td>\n",
       "      <td>High</td>\n",
       "      <td>1</td>\n",
       "      <td>1</td>\n",
       "      <td>2017-12-14</td>\n",
       "      <td>Thursday</td>\n",
       "    </tr>\n",
       "    <tr>\n",
       "      <th>2</th>\n",
       "      <td>2017-12-13</td>\n",
       "      <td>654.99</td>\n",
       "      <td>668.20</td>\n",
       "      <td>first</td>\n",
       "      <td>High</td>\n",
       "      <td>1</td>\n",
       "      <td>1</td>\n",
       "      <td>2017-12-13</td>\n",
       "      <td>Wednesday</td>\n",
       "    </tr>\n",
       "    <tr>\n",
       "      <th>5</th>\n",
       "      <td>2017-12-08</td>\n",
       "      <td>615.42</td>\n",
       "      <td>627.16</td>\n",
       "      <td>first</td>\n",
       "      <td>Low</td>\n",
       "      <td>0</td>\n",
       "      <td>0</td>\n",
       "      <td>2017-12-08</td>\n",
       "      <td>Friday</td>\n",
       "    </tr>\n",
       "    <tr>\n",
       "      <th>6</th>\n",
       "      <td>2017-12-07</td>\n",
       "      <td>624.95</td>\n",
       "      <td>616.69</td>\n",
       "      <td>second</td>\n",
       "      <td>Low</td>\n",
       "      <td>0</td>\n",
       "      <td>0</td>\n",
       "      <td>2017-12-07</td>\n",
       "      <td>Thursday</td>\n",
       "    </tr>\n",
       "    <tr>\n",
       "      <th>7</th>\n",
       "      <td>2017-12-06</td>\n",
       "      <td>631.50</td>\n",
       "      <td>625.35</td>\n",
       "      <td>first</td>\n",
       "      <td>Low</td>\n",
       "      <td>0</td>\n",
       "      <td>0</td>\n",
       "      <td>2017-12-06</td>\n",
       "      <td>Wednesday</td>\n",
       "    </tr>\n",
       "    <tr>\n",
       "      <th>8</th>\n",
       "      <td>2017-12-05</td>\n",
       "      <td>634.00</td>\n",
       "      <td>632.95</td>\n",
       "      <td>first</td>\n",
       "      <td>Low</td>\n",
       "      <td>0</td>\n",
       "      <td>0</td>\n",
       "      <td>2017-12-05</td>\n",
       "      <td>Tuesday</td>\n",
       "    </tr>\n",
       "    <tr>\n",
       "      <th>9</th>\n",
       "      <td>2017-12-04</td>\n",
       "      <td>623.95</td>\n",
       "      <td>637.95</td>\n",
       "      <td>first</td>\n",
       "      <td>Low</td>\n",
       "      <td>0</td>\n",
       "      <td>0</td>\n",
       "      <td>2017-12-04</td>\n",
       "      <td>Monday</td>\n",
       "    </tr>\n",
       "  </tbody>\n",
       "</table>\n",
       "</div>"
      ],
      "text/plain": [
       "         date    open   close   label price  set_price  Is _High       Time  \\\n",
       "0  2017-12-15  664.00  653.60   first  High          1         1 2017-12-15   \n",
       "1  2017-12-14  669.98  664.68  second  High          1         1 2017-12-14   \n",
       "2  2017-12-13  654.99  668.20   first  High          1         1 2017-12-13   \n",
       "5  2017-12-08  615.42  627.16   first   Low          0         0 2017-12-08   \n",
       "6  2017-12-07  624.95  616.69  second   Low          0         0 2017-12-07   \n",
       "7  2017-12-06  631.50  625.35   first   Low          0         0 2017-12-06   \n",
       "8  2017-12-05  634.00  632.95   first   Low          0         0 2017-12-05   \n",
       "9  2017-12-04  623.95  637.95   first   Low          0         0 2017-12-04   \n",
       "\n",
       "        Year  \n",
       "0     Friday  \n",
       "1   Thursday  \n",
       "2  Wednesday  \n",
       "5     Friday  \n",
       "6   Thursday  \n",
       "7  Wednesday  \n",
       "8    Tuesday  \n",
       "9     Monday  "
      ]
     },
     "execution_count": 336,
     "metadata": {},
     "output_type": "execute_result"
    }
   ],
   "source": [
    "stock.loc[stock.label.duplicated(keep=False),:]"
   ]
  },
  {
   "cell_type": "markdown",
   "metadata": {},
   "source": [
    "# How do I avoid a SettingWithCopyWaring in pandas?"
   ]
  },
  {
   "cell_type": "code",
   "execution_count": 340,
   "metadata": {},
   "outputs": [
    {
     "name": "stderr",
     "output_type": "stream",
     "text": [
      "D:\\ProgramData\\Anaconda3\\lib\\site-packages\\pandas\\core\\indexing.py:517: SettingWithCopyWarning: \n",
      "A value is trying to be set on a copy of a slice from a DataFrame.\n",
      "Try using .loc[row_indexer,col_indexer] = value instead\n",
      "\n",
      "See the caveats in the documentation: http://pandas.pydata.org/pandas-docs/stable/indexing.html#indexing-view-versus-copy\n",
      "  self.obj[item] = s\n"
     ]
    }
   ],
   "source": [
    "stock_high = stock.loc[stock.set_price>0, :]\n",
    "stock_high.loc[0, 'open'] = 665.0"
   ]
  },
  {
   "cell_type": "code",
   "execution_count": 341,
   "metadata": {
    "collapsed": true
   },
   "outputs": [],
   "source": [
    "stock_high = stock.loc[stock.set_price>0, :].copy()\n",
    "stock_high.loc[0, 'open'] = 665.0"
   ]
  },
  {
   "cell_type": "markdown",
   "metadata": {},
   "source": [
    "# pandas get_option()"
   ]
  },
  {
   "cell_type": "code",
   "execution_count": 342,
   "metadata": {},
   "outputs": [
    {
     "data": {
      "text/plain": [
       "60"
      ]
     },
     "execution_count": 342,
     "metadata": {},
     "output_type": "execute_result"
    }
   ],
   "source": [
    "pd.get_option('display.max_rows')"
   ]
  },
  {
   "cell_type": "code",
   "execution_count": 343,
   "metadata": {
    "collapsed": true
   },
   "outputs": [],
   "source": [
    "pd.set_option('display.max_rows', 10)"
   ]
  },
  {
   "cell_type": "code",
   "execution_count": 345,
   "metadata": {},
   "outputs": [
    {
     "data": {
      "text/plain": [
       "60"
      ]
     },
     "execution_count": 345,
     "metadata": {},
     "output_type": "execute_result"
    }
   ],
   "source": [
    "pd.reset_option('display.max_rows')\n",
    "pd.get_option('display.max_rows')"
   ]
  },
  {
   "cell_type": "code",
   "execution_count": 346,
   "metadata": {},
   "outputs": [
    {
     "data": {
      "text/plain": [
       "20"
      ]
     },
     "execution_count": 346,
     "metadata": {},
     "output_type": "execute_result"
    }
   ],
   "source": [
    "pd.get_option('display.max_columns')"
   ]
  },
  {
   "cell_type": "code",
   "execution_count": 347,
   "metadata": {},
   "outputs": [
    {
     "data": {
      "text/plain": [
       "50"
      ]
     },
     "execution_count": 347,
     "metadata": {},
     "output_type": "execute_result"
    }
   ],
   "source": [
    "pd.get_option('display.max_colwidth')"
   ]
  },
  {
   "cell_type": "code",
   "execution_count": 348,
   "metadata": {},
   "outputs": [
    {
     "data": {
      "text/plain": [
       "6"
      ]
     },
     "execution_count": 348,
     "metadata": {},
     "output_type": "execute_result"
    }
   ],
   "source": [
    "pd.get_option('display.precision')"
   ]
  },
  {
   "cell_type": "code",
   "execution_count": 349,
   "metadata": {},
   "outputs": [
    {
     "data": {
      "text/html": [
       "<div>\n",
       "<style>\n",
       "    .dataframe thead tr:only-child th {\n",
       "        text-align: right;\n",
       "    }\n",
       "\n",
       "    .dataframe thead th {\n",
       "        text-align: left;\n",
       "    }\n",
       "\n",
       "    .dataframe tbody tr th {\n",
       "        vertical-align: top;\n",
       "    }\n",
       "</style>\n",
       "<table border=\"1\" class=\"dataframe\">\n",
       "  <thead>\n",
       "    <tr style=\"text-align: right;\">\n",
       "      <th></th>\n",
       "      <th>date</th>\n",
       "      <th>open</th>\n",
       "      <th>close</th>\n",
       "      <th>label</th>\n",
       "      <th>price</th>\n",
       "      <th>set_price</th>\n",
       "      <th>Is _High</th>\n",
       "      <th>Time</th>\n",
       "      <th>Year</th>\n",
       "    </tr>\n",
       "  </thead>\n",
       "  <tbody>\n",
       "    <tr>\n",
       "      <th>0</th>\n",
       "      <td>2017-12-15</td>\n",
       "      <td>665.00</td>\n",
       "      <td>653.60</td>\n",
       "      <td>first</td>\n",
       "      <td>High</td>\n",
       "      <td>1</td>\n",
       "      <td>1</td>\n",
       "      <td>2017-12-15</td>\n",
       "      <td>Friday</td>\n",
       "    </tr>\n",
       "    <tr>\n",
       "      <th>1</th>\n",
       "      <td>2017-12-14</td>\n",
       "      <td>669.98</td>\n",
       "      <td>664.68</td>\n",
       "      <td>second</td>\n",
       "      <td>High</td>\n",
       "      <td>1</td>\n",
       "      <td>1</td>\n",
       "      <td>2017-12-14</td>\n",
       "      <td>Thursday</td>\n",
       "    </tr>\n",
       "    <tr>\n",
       "      <th>2</th>\n",
       "      <td>2017-12-13</td>\n",
       "      <td>654.99</td>\n",
       "      <td>668.20</td>\n",
       "      <td>first</td>\n",
       "      <td>High</td>\n",
       "      <td>1</td>\n",
       "      <td>1</td>\n",
       "      <td>2017-12-13</td>\n",
       "      <td>Wednesday</td>\n",
       "    </tr>\n",
       "    <tr>\n",
       "      <th>3</th>\n",
       "      <td>2017-12-12</td>\n",
       "      <td>658.70</td>\n",
       "      <td>651.18</td>\n",
       "      <td>third</td>\n",
       "      <td>High</td>\n",
       "      <td>1</td>\n",
       "      <td>1</td>\n",
       "      <td>2017-12-12</td>\n",
       "      <td>Tuesday</td>\n",
       "    </tr>\n",
       "    <tr>\n",
       "      <th>4</th>\n",
       "      <td>2017-12-11</td>\n",
       "      <td>631.00</td>\n",
       "      <td>651.00</td>\n",
       "      <td>fouth</td>\n",
       "      <td>Low</td>\n",
       "      <td>0</td>\n",
       "      <td>0</td>\n",
       "      <td>2017-12-11</td>\n",
       "      <td>Monday</td>\n",
       "    </tr>\n",
       "    <tr>\n",
       "      <th>5</th>\n",
       "      <td>2017-12-08</td>\n",
       "      <td>615.42</td>\n",
       "      <td>627.16</td>\n",
       "      <td>first</td>\n",
       "      <td>Low</td>\n",
       "      <td>0</td>\n",
       "      <td>0</td>\n",
       "      <td>2017-12-08</td>\n",
       "      <td>Friday</td>\n",
       "    </tr>\n",
       "    <tr>\n",
       "      <th>6</th>\n",
       "      <td>2017-12-07</td>\n",
       "      <td>624.95</td>\n",
       "      <td>616.69</td>\n",
       "      <td>second</td>\n",
       "      <td>Low</td>\n",
       "      <td>0</td>\n",
       "      <td>0</td>\n",
       "      <td>2017-12-07</td>\n",
       "      <td>Thursday</td>\n",
       "    </tr>\n",
       "    <tr>\n",
       "      <th>7</th>\n",
       "      <td>2017-12-06</td>\n",
       "      <td>631.50</td>\n",
       "      <td>625.35</td>\n",
       "      <td>first</td>\n",
       "      <td>Low</td>\n",
       "      <td>0</td>\n",
       "      <td>0</td>\n",
       "      <td>2017-12-06</td>\n",
       "      <td>Wednesday</td>\n",
       "    </tr>\n",
       "    <tr>\n",
       "      <th>8</th>\n",
       "      <td>2017-12-05</td>\n",
       "      <td>634.00</td>\n",
       "      <td>632.95</td>\n",
       "      <td>first</td>\n",
       "      <td>Low</td>\n",
       "      <td>0</td>\n",
       "      <td>0</td>\n",
       "      <td>2017-12-05</td>\n",
       "      <td>Tuesday</td>\n",
       "    </tr>\n",
       "    <tr>\n",
       "      <th>9</th>\n",
       "      <td>2017-12-04</td>\n",
       "      <td>623.95</td>\n",
       "      <td>637.95</td>\n",
       "      <td>first</td>\n",
       "      <td>Low</td>\n",
       "      <td>0</td>\n",
       "      <td>0</td>\n",
       "      <td>2017-12-04</td>\n",
       "      <td>Monday</td>\n",
       "    </tr>\n",
       "  </tbody>\n",
       "</table>\n",
       "</div>"
      ],
      "text/plain": [
       "         date    open   close   label price  set_price  Is _High       Time  \\\n",
       "0  2017-12-15  665.00  653.60   first  High          1         1 2017-12-15   \n",
       "1  2017-12-14  669.98  664.68  second  High          1         1 2017-12-14   \n",
       "2  2017-12-13  654.99  668.20   first  High          1         1 2017-12-13   \n",
       "3  2017-12-12  658.70  651.18   third  High          1         1 2017-12-12   \n",
       "4  2017-12-11  631.00  651.00   fouth   Low          0         0 2017-12-11   \n",
       "5  2017-12-08  615.42  627.16   first   Low          0         0 2017-12-08   \n",
       "6  2017-12-07  624.95  616.69  second   Low          0         0 2017-12-07   \n",
       "7  2017-12-06  631.50  625.35   first   Low          0         0 2017-12-06   \n",
       "8  2017-12-05  634.00  632.95   first   Low          0         0 2017-12-05   \n",
       "9  2017-12-04  623.95  637.95   first   Low          0         0 2017-12-04   \n",
       "\n",
       "        Year  \n",
       "0     Friday  \n",
       "1   Thursday  \n",
       "2  Wednesday  \n",
       "3    Tuesday  \n",
       "4     Monday  \n",
       "5     Friday  \n",
       "6   Thursday  \n",
       "7  Wednesday  \n",
       "8    Tuesday  \n",
       "9     Monday  "
      ]
     },
     "execution_count": 349,
     "metadata": {},
     "output_type": "execute_result"
    }
   ],
   "source": [
    "pd.set_option('display.precision', 2)\n",
    "stock"
   ]
  },
  {
   "cell_type": "code",
   "execution_count": 352,
   "metadata": {},
   "outputs": [
    {
     "name": "stdout",
     "output_type": "stream",
     "text": [
      "display.latex.multirow : bool\n",
      "    This specifies if the to_latex method of a Dataframe uses multirows\n",
      "    to pretty-print MultiIndex rows.\n",
      "    Valid values: False,True\n",
      "    [default: False] [currently: False]\n",
      "\n",
      "display.max_info_rows : int or None\n",
      "    df.info() will usually show null-counts for each column.\n",
      "    For large frames this can be quite slow. max_info_rows and max_info_cols\n",
      "    limit this null check only to frames with smaller dimensions than\n",
      "    specified.\n",
      "    [default: 1690785] [currently: 1690785]\n",
      "\n",
      "display.max_rows : int\n",
      "    If max_rows is exceeded, switch to truncate view. Depending on\n",
      "    `large_repr`, objects are either centrally truncated or printed as\n",
      "    a summary view. 'None' value means unlimited.\n",
      "\n",
      "    In case python/IPython is running in a terminal and `large_repr`\n",
      "    equals 'truncate' this can be set to 0 and pandas will auto-detect\n",
      "    the height of the terminal and print a truncated object which fits\n",
      "    the screen height. The IPython notebook, IPython qtconsole, or\n",
      "    IDLE do not run in a terminal and hence it is not possible to do\n",
      "    correct auto-detection.\n",
      "    [default: 60] [currently: 60]\n",
      "\n",
      "\n"
     ]
    }
   ],
   "source": [
    "pd.describe_option('row')"
   ]
  }
 ],
 "metadata": {
  "kernelspec": {
   "display_name": "Python 3",
   "language": "python",
   "name": "python3"
  },
  "language_info": {
   "codemirror_mode": {
    "name": "ipython",
    "version": 3
   },
   "file_extension": ".py",
   "mimetype": "text/x-python",
   "name": "python",
   "nbconvert_exporter": "python",
   "pygments_lexer": "ipython3",
   "version": "3.6.3"
  }
 },
 "nbformat": 4,
 "nbformat_minor": 2
}
