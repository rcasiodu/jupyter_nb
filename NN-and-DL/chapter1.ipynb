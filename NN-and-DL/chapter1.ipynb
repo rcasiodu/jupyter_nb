{
 "cells": [
  {
   "cell_type": "code",
   "execution_count": 2,
   "metadata": {
    "collapsed": true
   },
   "outputs": [],
   "source": [
    "%matplotlib inline\n",
    "\n",
    "import pickle, gzip\n",
    "import numpy as np\n",
    "\n",
    "import random\n",
    "\n",
    "import matplotlib.pyplot as plt"
   ]
  },
  {
   "cell_type": "markdown",
   "metadata": {},
   "source": [
    "# MNIST DataSet\n",
    "([mnist.pkl.gz](http://deeplearning.net/data/mnist/mnist.pkl.gz))\n",
    "\n",
    "The MNIST dataset consists of handwritten digit images and it is divided in 60,000 examples for the training set and 10,000 examples for testing. In many papers as well as in this tutorial, the official training set of 60,000 is divided into an actual training set of 50,000 examples and 10,000 validation examples (for selecting hyper-parameters like learning rate and size of the model). All digit images have been size-normalized and centered in a fixed size image of 28 x 28 pixels. In the original dataset each pixel of the image is represented by a value between 0 and 255, where 0 is black, 255 is white and anything in between is a different shade of grey.\n",
    "\n",
    "Here are some examples of MNIST digits:\n",
    "<div align=\"center\">\n",
    "<a><img style=\"float:left;\" alt=\"0\" src=\"http://www.deeplearning.net/tutorial/_images/mnist_0.png\" ></a>\n",
    "<a><img style=\"float:left;\" alt=\"1\" src=\"http://www.deeplearning.net/tutorial/_images/mnist_1.png\" ></a>\n",
    "<a><img style=\"float:left;\" alt=\"2\" src=\"http://www.deeplearning.net/tutorial/_images/mnist_2.png\" ></a>\n",
    "<a><img style=\"float:left;\" alt=\"3\" src=\"http://www.deeplearning.net/tutorial/_images/mnist_3.png\" ></a>\n",
    "<a><img style=\"float:left;\" alt=\"4\" src=\"http://www.deeplearning.net/tutorial/_images/mnist_4.png\" ></a>\n",
    "<a><img style=\"float:left;\" alt=\"5\" src=\"http://www.deeplearning.net/tutorial/_images/mnist_5.png\"></a>\n",
    "</div>\n",
    "<br />\n",
    "\n",
    "For convenience we pickled the dataset to make it easier to use in python. The pickled file represents a tuple of 3 lists : the training set, the validation set and the testing set. Each of the three lists is a pair formed from a list of images and a list of class labels for each of the images. An image is represented as numpy 1-dimensional array of 784 (28 x 28) float values between 0 and 1 (0 stands for black, 1 for white). The labels are numbers between 0 and 9 indicating which digit the image represents. The code block below shows how to load the dataset."
   ]
  },
  {
   "cell_type": "code",
   "execution_count": 11,
   "metadata": {},
   "outputs": [],
   "source": [
    " class Network(object):\n",
    "        # initialize the weights and biases in nerual network with\n",
    "        #  normal distribution of mean=0 and std=1.0 by np.random.randn \n",
    "        def __init__(self, sizes):\n",
    "            self.num_layers = len(sizes) #including input and output layer\n",
    "            self.sizes = sizes\n",
    "            self.biases = [np.random.randn(y, 1) for y in sizes[1:]]\n",
    "            self.weights = [np.random.randn(y, x) for x,y in zip(sizes[:-1], sizes[1:])]\n",
    "            \n",
    "        # input a need to (n, 1) shape numpy ndarray\n",
    "        def feedforward(self, a):\n",
    "            \"\"\"Return the output of the network if \"a\" is input.\"\"\"\n",
    "            for i in range(self.num_layers-1):\n",
    "                a = sigmoid(np.dot(self.weights[i], a)+ self.biases[i])  \n",
    "            \n",
    "            return a\n",
    "        \n",
    "        def SGD(self, training_data, epochs, mini_batch_size, eta,test_data=None):\n",
    "            \"\"\"Train the neural network using mini-batch stochastic\n",
    "                gradient descent. The \"training_data\" is a list of tuples\n",
    "                \"(x, y)\" representing the training inputs and the desired\n",
    "                outputs. The other non-optional parameters are\n",
    "                self-explanatory. If \"test_data\" is provided then the\n",
    "                network will be evaluated against the test data after each\n",
    "                epoch, and partial progress printed out. This is useful for\n",
    "                tracking progress, but slows things down substantially.\"\"\"\n",
    "            if test_data: \n",
    "                n_test = len(test_data)\n",
    "            n = len(training_data)\n",
    "            for j in range(epochs):\n",
    "                # random.shuffle cannot applied to np.array\n",
    "                random.shuffle(training_data)\n",
    "                mini_batches = [training_data[k:k+mini_batch_size] for k in range(0, n, mini_batch_size)]\n",
    "                for mini_batch in mini_batches:\n",
    "                    self.update_mini_batch(mini_batch, eta)\n",
    "                    \n",
    "                if test_data:\n",
    "                    print(\"Epoch {0}: {1} / {2}\".format(j, self.evaluate(test_data), n_test))\n",
    "                else:\n",
    "                    print(\"Epoch {0} complete\".format(j))\n",
    "        \n",
    "        def update_mini_batch(self, mini_batch, eta):\n",
    "            \"\"\"Update the network's weights and biases by applying\n",
    "                gradient descent using backpropagation to a single mini batch.\n",
    "                The \"mini_batch\" is a list of tuples \"(x, y)\", and \"eta\"\n",
    "                is the learning rate.\"\"\"\n",
    "            nabla_b = [np.zeros(b.shape) for b in self.biases]\n",
    "            nabla_w = [np.zeros(w.shape) for w in self.weights]\n",
    "            for x, y in mini_batch:\n",
    "                delta_nabla_b, delta_nabla_w = self.backprop(x, y)\n",
    "                nabla_b = [nb+dnb for nb, dnb in zip(nabla_b, delta_nabla_b)]\n",
    "                nabla_w = [nw+dnw for nw, dnw in zip(nabla_w, delta_nabla_w)]\n",
    "                self.weights = [w-(eta/len(mini_batch))*nw for w, nw in zip(self.weights, nabla_w)]\n",
    "                self.biases = [b-(eta/len(mini_batch))*nb for b, nb in zip(self.biases, nabla_b)]\n",
    "        \n",
    "        def backprop(self, x, y):\n",
    "            \"\"\"Return a tuple ``(nabla_b, nabla_w)`` representing the\n",
    "                gradient for the cost function C_x. ``nabla_b`` and\n",
    "                ``nabla_w`` are layer-by-layer lists of numpy arrays, similar\n",
    "                to ``self.biases`` and ``self.weights``.\"\"\"\n",
    "            nabla_b = [np.zeros(b.shape) for b in self.biases]\n",
    "            nabla_w = [np.zeros(w.shape) for w in self.weights]\n",
    "            \n",
    "            # feedforward\n",
    "            activation = x\n",
    "            activations = [x] # list to store all the activations, layer by layer\n",
    "            zs = [] # list to store all the z vectors, layer by layer\n",
    "\n",
    "            for b, w in zip(self.biases, self.weights):\n",
    "                z = np.dot(w, activation)+b\n",
    "                zs.append(z)\n",
    "                activation = sigmoid(z)\n",
    "                activations.append(activation)\n",
    "            \n",
    "            # backward pass\n",
    "            delta = self.cost_derivative(activations[-1], y) * sigmoid_prime(zs[-1])\n",
    "            nabla_b[-1] = delta\n",
    "            nabla_w[-1] = np.dot(delta, activations[-2].transpose())\n",
    "\n",
    "            # Note that the variable l in the loop below is used a little\n",
    "            # differently to the notation in Chapter 2 of the book. Here,\n",
    "            # l = 1 means the last layer of neurons, l = 2 is the\n",
    "            # second-last layer, and so on. It's a renumbering of the\n",
    "            # scheme in the book, used here to take advantage of the fact\n",
    "            # that Python can use negative indices in lists.\n",
    "            for l in range(2, self.num_layers):\n",
    "                z = zs[-l]\n",
    "                sp = sigmoid_prime(z)\n",
    "                delta = np.dot(self.weights[-l+1].transpose(), delta) * sp\n",
    "                nabla_b[-l] = delta\n",
    "                nabla_w[-l] = np.dot(delta, activations[-l-1].transpose())\n",
    "            \n",
    "            return (nabla_b, nabla_w)\n",
    "        \n",
    "        def evaluate(self, test_data):\n",
    "            \"\"\"Return the number of test inputs for which the neural\n",
    "                network outputs the correct result. Note that the neural\n",
    "                network's output is assumed to be the index of whichever\n",
    "                neuron in the final layer has the highest activation.\"\"\"\n",
    "            test_results = [(np.argmax(self.feedforward(x)), y) for (x, y) in test_data]\n",
    "            return sum(int(x == y) for (x, y) in test_results)\n",
    "        \n",
    "        def cost_derivative(self, output_activations, y):\n",
    "            \"\"\"Return the vector of partial derivatives \\partial C_x /\n",
    "                \\partial a for the output activations.\"\"\"\n",
    "            return (output_activations-y)\n",
    "            \n",
    "def sigmoid(z):\n",
    "    return 1.0/(1.0+np.exp(-z))\n",
    "\n",
    "def sigmoid_prime(z):\n",
    "    \"\"\"Derivative of the sigmoid function.\"\"\"\n",
    "    return sigmoid(z)*(1-sigmoid(z))"
   ]
  },
  {
   "cell_type": "code",
   "execution_count": 5,
   "metadata": {
    "scrolled": true
   },
   "outputs": [],
   "source": [
    "# load dataset\n",
    "f = gzip.open('mnist.pkl.gz', 'rb')\n",
    "train_set, valid_set, test_set = pickle.load(f, encoding='iso-8859-1')\n",
    "f.close()\n",
    "\n",
    "# data set are tuple type with data[0]=img, data[1]=classification\n",
    "# data[0] and data[1] are numpy array, the shape of data[0] is (784,)\n",
    "# train_set = 50,000, valid_set = 10,000, test_set = 10,000"
   ]
  },
  {
   "cell_type": "markdown",
   "metadata": {},
   "source": [
    "Since now the data is in one variable, and a minibatch is defined as a slice of that variable, it comes more natural to define a minibatch by indicating its index and its size. In our setup the batch size stays constant throughout the execution of the code, therefore a function will actually require only the index to identify on which datapoints to work. The code below shows how to store your data and how to access a minibatch:"
   ]
  },
  {
   "cell_type": "code",
   "execution_count": 6,
   "metadata": {
    "collapsed": true
   },
   "outputs": [],
   "source": [
    "def load_data_wrapper(data, vectorize=False):\n",
    "    input_ = [x.reshape(784, 1) for x in data[0]]\n",
    "    #output_ =[vectorized_result(y) for y in data[1]]\n",
    "    if not vectorize:\n",
    "        output_ = data[1]\n",
    "    else:\n",
    "        output_ = [vectorized_result(y) for y in data[1]]\n",
    "    wrapper_data = list(zip(input_, output_))\n",
    "    return wrapper_data\n",
    "    \n",
    "def vectorized_result(j):\n",
    "    \"\"\"Return a 10-dimensional unit vector with a 1.0 in the jth\n",
    "    position and zeroes elsewhere.  This is used to convert a digit\n",
    "    (0...9) into a corresponding desired output from the neural\n",
    "    network.\"\"\"\n",
    "    e = np.zeros((10, 1))\n",
    "    e[j] = 1.0\n",
    "    return e"
   ]
  },
  {
   "cell_type": "code",
   "execution_count": 7,
   "metadata": {
    "collapsed": true
   },
   "outputs": [],
   "source": [
    "# data warapper\n",
    "training_data = load_data_wrapper(train_set, True)\n",
    "validation_data = load_data_wrapper(valid_set, False)\n",
    "test_data = load_data_wrapper(test_set, False)"
   ]
  },
  {
   "cell_type": "code",
   "execution_count": 8,
   "metadata": {},
   "outputs": [
    {
     "data": {
      "image/png": "[encoded data removed]",
      "text/plain": [
       "<matplotlib.figure.Figure at 0x8810208>"
      ]
     },
     "metadata": {},
     "output_type": "display_data"
    }
   ],
   "source": [
    "X_train =np.array([i[0].reshape(28, 28) for i in training_data])\n",
    "y_train = np.array([np.argmax(i[1]) for i in training_data])\n",
    "\n",
    "plt.figure('fig1', figsize=(6,8))\n",
    "\n",
    "for i in range(9):\n",
    "    plt.subplot(3,3,i+1)\n",
    "    plt.imshow(X_train[i], cmap='gray', interpolation='none')\n",
    "    plt.title(\"Class {}\".format(y_train[i]))"
   ]
  },
  {
   "cell_type": "code",
   "execution_count": 12,
   "metadata": {
    "scrolled": false
   },
   "outputs": [
    {
     "name": "stdout",
     "output_type": "stream",
     "text": [
      "Epoch 0: 8452 / 10000\n",
      "Epoch 1: 8652 / 10000\n",
      "Epoch 2: 8895 / 10000\n",
      "Epoch 3: 9056 / 10000\n",
      "Epoch 4: 8945 / 10000\n",
      "Epoch 5: 8976 / 10000\n",
      "Epoch 6: 9081 / 10000\n",
      "Epoch 7: 9065 / 10000\n",
      "Epoch 8: 8951 / 10000\n",
      "Epoch 9: 9103 / 10000\n",
      "Epoch 10: 9098 / 10000\n",
      "Epoch 11: 8903 / 10000\n",
      "Epoch 12: 9092 / 10000\n",
      "Epoch 13: 9124 / 10000\n",
      "Epoch 14: 9187 / 10000\n",
      "Epoch 15: 9181 / 10000\n"
     ]
    },
    {
     "name": "stderr",
     "output_type": "stream",
     "text": [
      "D:\\ProgramData\\Anaconda3\\lib\\site-packages\\ipykernel_launcher.py:109: RuntimeWarning: overflow encountered in exp\n"
     ]
    },
    {
     "name": "stdout",
     "output_type": "stream",
     "text": [
      "Epoch 16: 9145 / 10000\n",
      "Epoch 17: 9103 / 10000\n",
      "Epoch 18: 9034 / 10000\n",
      "Epoch 19: 9148 / 10000\n",
      "Epoch 20: 9086 / 10000\n",
      "Epoch 21: 9170 / 10000\n",
      "Epoch 22: 9220 / 10000\n",
      "Epoch 23: 9241 / 10000\n",
      "Epoch 24: 9153 / 10000\n",
      "Epoch 25: 9243 / 10000\n",
      "Epoch 26: 9239 / 10000\n",
      "Epoch 27: 9282 / 10000\n",
      "Epoch 28: 9249 / 10000\n",
      "Epoch 29: 9296 / 10000\n"
     ]
    }
   ],
   "source": [
    "net = Network([784, 30, 10])\n",
    "net.SGD(training_data, 30, 10, 3.0, test_data=test_data)"
   ]
  },
  {
   "cell_type": "code",
   "execution_count": 15,
   "metadata": {},
   "outputs": [
    {
     "name": "stdout",
     "output_type": "stream",
     "text": [
      "Epoch 0: 798 / 10000\n",
      "Epoch 1: 968 / 10000\n",
      "Epoch 2: 1216 / 10000\n",
      "Epoch 3: 2372 / 10000\n",
      "Epoch 4: 2160 / 10000\n",
      "Epoch 5: 1758 / 10000\n",
      "Epoch 6: 2215 / 10000\n",
      "Epoch 7: 2651 / 10000\n",
      "Epoch 8: 3303 / 10000\n",
      "Epoch 9: 2938 / 10000\n",
      "Epoch 10: 2776 / 10000\n",
      "Epoch 11: 2521 / 10000\n",
      "Epoch 12: 2987 / 10000\n",
      "Epoch 13: 2921 / 10000\n"
     ]
    },
    {
     "name": "stderr",
     "output_type": "stream",
     "text": [
      "D:\\ProgramData\\Anaconda3\\lib\\site-packages\\ipykernel_launcher.py:109: RuntimeWarning: overflow encountered in exp\n"
     ]
    },
    {
     "name": "stdout",
     "output_type": "stream",
     "text": [
      "Epoch 14: 3012 / 10000\n",
      "Epoch 15: 3035 / 10000\n",
      "Epoch 16: 3060 / 10000\n",
      "Epoch 17: 2888 / 10000\n",
      "Epoch 18: 3290 / 10000\n",
      "Epoch 19: 3099 / 10000\n",
      "Epoch 20: 3006 / 10000\n",
      "Epoch 21: 3236 / 10000\n",
      "Epoch 22: 3094 / 10000\n",
      "Epoch 23: 2875 / 10000\n",
      "Epoch 24: 3261 / 10000\n",
      "Epoch 25: 3016 / 10000\n",
      "Epoch 26: 3246 / 10000\n",
      "Epoch 27: 3217 / 10000\n",
      "Epoch 28: 3302 / 10000\n",
      "Epoch 29: 3349 / 10000\n",
      "Epoch 30: 3373 / 10000\n",
      "Epoch 31: 3318 / 10000\n",
      "Epoch 32: 3445 / 10000\n",
      "Epoch 33: 3441 / 10000\n",
      "Epoch 34: 3526 / 10000\n",
      "Epoch 35: 3330 / 10000\n",
      "Epoch 36: 3374 / 10000\n",
      "Epoch 37: 3239 / 10000\n",
      "Epoch 38: 3347 / 10000\n",
      "Epoch 39: 3748 / 10000\n",
      "Epoch 40: 3609 / 10000\n",
      "Epoch 41: 3613 / 10000\n",
      "Epoch 42: 3446 / 10000\n",
      "Epoch 43: 3661 / 10000\n",
      "Epoch 44: 3760 / 10000\n",
      "Epoch 45: 3506 / 10000\n",
      "Epoch 46: 3477 / 10000\n",
      "Epoch 47: 3345 / 10000\n",
      "Epoch 48: 3436 / 10000\n",
      "Epoch 49: 3221 / 10000\n"
     ]
    }
   ],
   "source": [
    "net = Network([784, 100, 10])\n",
    "net.SGD(training_data, 50, 10, 5.0, test_data=test_data)"
   ]
  }
 ],
 "metadata": {
  "kernelspec": {
   "display_name": "Python 3",
   "language": "python",
   "name": "python3"
  },
  "language_info": {
   "codemirror_mode": {
    "name": "ipython",
    "version": 3
   },
   "file_extension": ".py",
   "mimetype": "text/x-python",
   "name": "python",
   "nbconvert_exporter": "python",
   "pygments_lexer": "ipython3",
   "version": "3.6.3"
  }
 },
 "nbformat": 4,
 "nbformat_minor": 2
}
